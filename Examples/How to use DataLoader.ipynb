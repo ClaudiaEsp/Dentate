{
 "cells": [
  {
   "cell_type": "markdown",
   "metadata": {},
   "source": [
    "\n",
    "\n",
    "<H1>The DataLoader object</H1>\n",
    "<P>This is an example on how to use a DataLoader object</P>"
   ]
  },
  {
   "cell_type": "code",
   "execution_count": 1,
   "metadata": {
    "collapsed": true
   },
   "outputs": [],
   "source": [
    "from __future__ import division\n",
    "from terminaltables import AsciiTable"
   ]
  },
  {
   "cell_type": "code",
   "execution_count": 2,
   "metadata": {
    "collapsed": false
   },
   "outputs": [
    {
     "data": {
      "text/plain": [
       "'0.0.10'"
      ]
     },
     "execution_count": 2,
     "metadata": {},
     "output_type": "execute_result"
    }
   ],
   "source": [
    "import inet\n",
    "inet.__version__"
   ]
  },
  {
   "cell_type": "code",
   "execution_count": 3,
   "metadata": {
    "collapsed": false
   },
   "outputs": [],
   "source": [
    "from inet import DataLoader"
   ]
  },
  {
   "cell_type": "markdown",
   "metadata": {},
   "source": [
    "<H2>Object creation</H2>\n",
    "The object loads the connectivity matrices in .syn format and reports the number of files loaded at construction."
   ]
  },
  {
   "cell_type": "code",
   "execution_count": 4,
   "metadata": {
    "collapsed": false
   },
   "outputs": [
    {
     "name": "stdout",
     "output_type": "stream",
     "text": [
      " 161 syn  files loaded\n"
     ]
    }
   ],
   "source": [
    "mydataset = DataLoader('../data/PV') # create an object with information of all connections"
   ]
  },
  {
   "cell_type": "markdown",
   "metadata": {},
   "source": [
    "<H2>Object atttributes</H2>\n",
    "The object contains a list with all experiments loaded"
   ]
  },
  {
   "cell_type": "code",
   "execution_count": 5,
   "metadata": {
    "collapsed": false
   },
   "outputs": [
    {
     "data": {
      "text/plain": [
       "161"
      ]
     },
     "execution_count": 5,
     "metadata": {},
     "output_type": "execute_result"
    }
   ],
   "source": [
    "len(mydataset.experiment)"
   ]
  },
  {
   "cell_type": "code",
   "execution_count": 6,
   "metadata": {
    "collapsed": false
   },
   "outputs": [
    {
     "data": {
      "text/plain": [
       "(183, 841)"
      ]
     },
     "execution_count": 6,
     "metadata": {},
     "output_type": "execute_result"
    }
   ],
   "source": [
    "mydataset.nIN, mydataset.nPC # number of PV cells and GC cells recorded"
   ]
  },
  {
   "cell_type": "code",
   "execution_count": 7,
   "metadata": {
    "collapsed": false
   },
   "outputs": [
    {
     "data": {
      "text/plain": [
       "{'octuples': 33,\n",
       " 'pairs': 2,\n",
       " 'quadruplets': 8,\n",
       " 'quintuplets': 25,\n",
       " 'septuplets': 50,\n",
       " 'sextuplets': 40,\n",
       " 'triplets': 3}"
      ]
     },
     "execution_count": 7,
     "metadata": {},
     "output_type": "execute_result"
    }
   ],
   "source": [
    "mydataset.configuration # number of recording configurations"
   ]
  },
  {
   "cell_type": "code",
   "execution_count": 8,
   "metadata": {
    "collapsed": false
   },
   "outputs": [
    {
     "name": "stdout",
     "output_type": "stream",
     "text": [
      "+----------+-------+--------+\n",
      "| Motif    | found | tested |\n",
      "+----------+-------+--------+\n",
      "| ee_c1e   | 0     | 3854   |\n",
      "| ee_c2    | 0     | 1927   |\n",
      "| ee_c2e   | 0     | 1927   |\n",
      "| ee_chain | 0     | 7443   |\n",
      "| ee_chem  | 0     | 3854   |\n",
      "| ee_con   | 0     | 7443   |\n",
      "| ee_div   | 0     | 7443   |\n",
      "| ee_elec  | 0     | 1927   |\n",
      "| ei       | 81    | 932    |\n",
      "| ei2      | 0     | 0      |\n",
      "| ie       | 241   | 932    |\n",
      "| ii_c1e   | 7     | 48     |\n",
      "| ii_c2    | 4     | 24     |\n",
      "| ii_c2e   | 3     | 24     |\n",
      "| ii_chain | 0     | 6      |\n",
      "| ii_chem  | 14    | 48     |\n",
      "| ii_con   | 7     | 6      |\n",
      "| ii_div   | 8     | 6      |\n",
      "| ii_elec  | 11    | 24     |\n",
      "+----------+-------+--------+\n",
      "\n"
     ]
    }
   ],
   "source": [
    "print(mydataset.motif) # number of connections tested and found for every type"
   ]
  },
  {
   "cell_type": "markdown",
   "metadata": {},
   "source": [
    "Details of every experiments are given in a list"
   ]
  },
  {
   "cell_type": "code",
   "execution_count": null,
   "metadata": {
    "collapsed": false
   },
   "outputs": [],
   "source": [
    "mydataset.experiment[0] # example of the data from the first experiment"
   ]
  },
  {
   "cell_type": "markdown",
   "metadata": {},
   "source": [
    "and details fo the recording configurations are provided"
   ]
  },
  {
   "cell_type": "code",
   "execution_count": null,
   "metadata": {
    "collapsed": false
   },
   "outputs": [],
   "source": [
    "mydataset.experiment[12]['fname']"
   ]
  },
  {
   "cell_type": "code",
   "execution_count": null,
   "metadata": {
    "collapsed": false
   },
   "outputs": [],
   "source": [
    "mydataset.experiment[12]['matrix']"
   ]
  },
  {
   "cell_type": "code",
   "execution_count": null,
   "metadata": {
    "collapsed": false
   },
   "outputs": [],
   "source": [
    "mydataset.experiment[12]['motif']"
   ]
  },
  {
   "cell_type": "markdown",
   "metadata": {},
   "source": [
    "or the type the number of configurations when two PV-positive cells were recorded"
   ]
  },
  {
   "cell_type": "code",
   "execution_count": null,
   "metadata": {
    "collapsed": false
   },
   "outputs": [],
   "source": [
    "mydataset.IN[2]"
   ]
  },
  {
   "cell_type": "markdown",
   "metadata": {},
   "source": [
    "<H2> Descriptive statistics </H2>\n",
    "The stats attribute will return basis statistics of the whole dataset"
   ]
  },
  {
   "cell_type": "code",
   "execution_count": null,
   "metadata": {
    "collapsed": false
   },
   "outputs": [],
   "source": [
    "y = mydataset.stats('conf')\n",
    "\n",
    "print AsciiTable(y).table "
   ]
  },
  {
   "cell_type": "code",
   "execution_count": null,
   "metadata": {
    "collapsed": false
   },
   "outputs": [],
   "source": [
    "mymotifs = mydataset.motif\n",
    "info = [\n",
    "        ['Connection type', 'Value'],\n",
    "        ['PV-PV chemical synapses', mymotifs.ii_chem_found],\n",
    "        ['PV-PV electrical synapses', mymotifs.ii_elec_found],\n",
    "        [' ',' '],\n",
    "        ['PV-PV bidirectional chemical', mymotifs.ii_c2_found],\n",
    "        ['PV-PV one chemical with electrical', mymotifs.ii_c1e_found],\n",
    "        ['PV-PV bidirectional chemical with electrical', mymotifs.ii_c2e_found],\n",
    "        [' ',' '],\n",
    "        ['P(PV-PV) chemical synapse', mymotifs.ii_chem_found/mymotifs.ii_chem_tested],\n",
    "        ['P(PV-PV) electrical synapse', mymotifs.ii_elec_found/mymotifs.ii_elec_tested],\n",
    "        ['P(PV-PV) bidirectional chemical synapse', mymotifs.ii_c2_found/mymotifs.ii_c2_tested],\n",
    "        [' ',' '],\n",
    "        ['P(PV-PV) one chemical with electrical', mymotifs.ii_c1e_found/mymotifs.ii_c1e_tested],\n",
    "        ['P(PV-PV) bidirectional chemical with electrical', mymotifs.ii_c2e_found/mymotifs.ii_c2e_tested],\n",
    "        [' ',' '],\n",
    "        ['PV-GC chemical synapses', mymotifs.ie_found],\n",
    "        ['GC-PC chemical synapses', mymotifs.ei_found],\n",
    "        [' ',' '],\n",
    "        ['P(PV-GC) chemical synapse',mymotifs.ie_found/mymotifs.ie_tested],\n",
    "        ['P(GC-PC) chemical synapse', mymotifs.ei_found/mymotifs.ei_tested],\n",
    "        [' ',' '],\n",
    "        ]\n",
    "\n",
    "\n",
    "table = AsciiTable(info)\n",
    "print (table.table)"
   ]
  },
  {
   "cell_type": "code",
   "execution_count": null,
   "metadata": {
    "collapsed": true
   },
   "outputs": [],
   "source": []
  }
 ],
 "metadata": {
  "kernelspec": {
   "display_name": "Python 2",
   "language": "python",
   "name": "python2"
  },
  "language_info": {
   "codemirror_mode": {
    "name": "ipython",
    "version": 2
   },
   "file_extension": ".py",
   "mimetype": "text/x-python",
   "name": "python",
   "nbconvert_exporter": "python",
   "pygments_lexer": "ipython2",
   "version": "2.7.12"
  }
 },
 "nbformat": 4,
 "nbformat_minor": 1
}
