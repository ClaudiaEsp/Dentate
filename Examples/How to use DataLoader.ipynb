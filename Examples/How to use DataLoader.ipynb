{
 "cells": [
  {
   "cell_type": "markdown",
   "metadata": {},
   "source": [
    "\n",
    "\n",
    "<H1>The DataLoader object</H1>\n",
    "<P>This is an example on how to use a DataLoader object</P>"
   ]
  },
  {
   "cell_type": "code",
   "execution_count": 1,
   "metadata": {
    "collapsed": false
   },
   "outputs": [
    {
     "data": {
      "text/plain": [
       "'0.0.7'"
      ]
     },
     "execution_count": 1,
     "metadata": {},
     "output_type": "execute_result"
    }
   ],
   "source": [
    "import inet\n",
    "inet.__version__"
   ]
  },
  {
   "cell_type": "code",
   "execution_count": 2,
   "metadata": {
    "collapsed": false
   },
   "outputs": [],
   "source": [
    "from inet import DataLoader"
   ]
  },
  {
   "cell_type": "markdown",
   "metadata": {},
   "source": [
    "<H2>Object creation</H2>\n",
    "The object loads the connectivity matrices in .syn format and reports the number of files loaded at construction."
   ]
  },
  {
   "cell_type": "code",
   "execution_count": 3,
   "metadata": {
    "collapsed": false
   },
   "outputs": [
    {
     "name": "stdout",
     "output_type": "stream",
     "text": [
      " 161 syn  files loaded\n"
     ]
    }
   ],
   "source": [
    "mydataset = DataLoader('../data') # create an object with information of all connections"
   ]
  },
  {
   "cell_type": "markdown",
   "metadata": {},
   "source": [
    "<H2>Object atttributes</H2>\n",
    "The object contains a list with all experiments loaded"
   ]
  },
  {
   "cell_type": "code",
   "execution_count": 4,
   "metadata": {
    "collapsed": false
   },
   "outputs": [
    {
     "data": {
      "text/plain": [
       "161"
      ]
     },
     "execution_count": 4,
     "metadata": {},
     "output_type": "execute_result"
    }
   ],
   "source": [
    "len(mydataset.experiment)"
   ]
  },
  {
   "cell_type": "code",
   "execution_count": 5,
   "metadata": {
    "collapsed": false
   },
   "outputs": [
    {
     "data": {
      "text/plain": [
       "(183, 841)"
      ]
     },
     "execution_count": 5,
     "metadata": {},
     "output_type": "execute_result"
    }
   ],
   "source": [
    "mydataset.nPV, mydataset.nGC # number of PV cells and GC cells recorded"
   ]
  },
  {
   "cell_type": "code",
   "execution_count": 6,
   "metadata": {
    "collapsed": false
   },
   "outputs": [
    {
     "data": {
      "text/plain": [
       "{'octuples': 33,\n",
       " 'pairs': 2,\n",
       " 'quadruplets': 8,\n",
       " 'quintuplets': 25,\n",
       " 'septuplets': 50,\n",
       " 'sextuplets': 40,\n",
       " 'triplets': 3}"
      ]
     },
     "execution_count": 6,
     "metadata": {},
     "output_type": "execute_result"
    }
   ],
   "source": [
    "mydataset.configuration # number of recording configurations"
   ]
  },
  {
   "cell_type": "code",
   "execution_count": 7,
   "metadata": {
    "collapsed": false
   },
   "outputs": [
    {
     "data": {
      "text/plain": [
       "{'ee': {'found': 0, 'tested': 3854},\n",
       " 'ei': {'found': 81, 'tested': 932},\n",
       " 'ei2': {'found': 0, 'tested': 0},\n",
       " 'ie': {'found': 241, 'tested': 932},\n",
       " 'ii_c1e': {'found': 7, 'tested': 48},\n",
       " 'ii_c2e': {'found': 3, 'tested': 24},\n",
       " 'ii_chem': {'found': 14, 'tested': 48},\n",
       " 'ii_elec': {'found': 11, 'tested': 24}}"
      ]
     },
     "execution_count": 7,
     "metadata": {},
     "output_type": "execute_result"
    }
   ],
   "source": [
    "mydataset.motif # number of connections tested and found for every type"
   ]
  },
  {
   "cell_type": "markdown",
   "metadata": {},
   "source": [
    "Details of every experiments are given in a list"
   ]
  },
  {
   "cell_type": "code",
   "execution_count": 8,
   "metadata": {
    "collapsed": false
   },
   "outputs": [
    {
     "data": {
      "text/plain": [
       "{'fname': '2_170411_02.syn', 'matrix': array([[0, 2],\n",
       "        [0, 0]]), 'motif': {'ee': {'found': 0, 'tested': 0},\n",
       "  'ei': {'found': 0, 'tested': 0},\n",
       "  'ei2': {'found': 0, 'tested': 0},\n",
       "  'ie': {'found': 0, 'tested': 0},\n",
       "  'ii_c1e': {'found': 0, 'tested': 2},\n",
       "  'ii_c2e': {'found': 0, 'tested': 1},\n",
       "  'ii_chem': {'found': 0, 'tested': 2},\n",
       "  'ii_elec': {'found': 1, 'tested': 1}}}"
      ]
     },
     "execution_count": 8,
     "metadata": {},
     "output_type": "execute_result"
    }
   ],
   "source": [
    "mydataset.experiment[0] # example of the data from the first experiment"
   ]
  },
  {
   "cell_type": "markdown",
   "metadata": {},
   "source": [
    "and details fo the recording configurations are provided"
   ]
  },
  {
   "cell_type": "code",
   "execution_count": 9,
   "metadata": {
    "collapsed": false
   },
   "outputs": [
    {
     "data": {
      "text/plain": [
       "'1_170313_04.syn'"
      ]
     },
     "execution_count": 9,
     "metadata": {},
     "output_type": "execute_result"
    }
   ],
   "source": [
    "mydataset.experiment[12]['fname']"
   ]
  },
  {
   "cell_type": "code",
   "execution_count": 10,
   "metadata": {
    "collapsed": false
   },
   "outputs": [
    {
     "data": {
      "text/plain": [
       "array([[0, 0, 0, 0, 0, 1, 0],\n",
       "       [0, 0, 0, 0, 0, 0, 0],\n",
       "       [0, 0, 0, 0, 0, 0, 0],\n",
       "       [0, 0, 0, 0, 0, 0, 0],\n",
       "       [0, 0, 0, 0, 0, 0, 0],\n",
       "       [0, 0, 0, 0, 0, 0, 0],\n",
       "       [0, 0, 0, 0, 0, 0, 0]])"
      ]
     },
     "execution_count": 10,
     "metadata": {},
     "output_type": "execute_result"
    }
   ],
   "source": [
    "mydataset.experiment[12]['matrix']"
   ]
  },
  {
   "cell_type": "code",
   "execution_count": 11,
   "metadata": {
    "collapsed": false
   },
   "outputs": [
    {
     "data": {
      "text/plain": [
       "{'ee': {'found': 0, 'tested': 30},\n",
       " 'ei': {'found': 0, 'tested': 6},\n",
       " 'ei2': {'found': 0, 'tested': 0},\n",
       " 'ie': {'found': 1, 'tested': 6},\n",
       " 'ii_c1e': {'found': 0, 'tested': 0},\n",
       " 'ii_c2e': {'found': 0, 'tested': 0},\n",
       " 'ii_chem': {'found': 0, 'tested': 0},\n",
       " 'ii_elec': {'found': 0, 'tested': 0}}"
      ]
     },
     "execution_count": 11,
     "metadata": {},
     "output_type": "execute_result"
    }
   ],
   "source": [
    "mydataset.experiment[12]['motif']"
   ]
  },
  {
   "cell_type": "markdown",
   "metadata": {},
   "source": [
    "or the type the number of configurations when two PV-positive cells were recorded"
   ]
  },
  {
   "cell_type": "code",
   "execution_count": 12,
   "metadata": {
    "collapsed": false
   },
   "outputs": [
    {
     "data": {
      "text/plain": [
       "{'octuples': 5,\n",
       " 'pairs': 2,\n",
       " 'quadruplets': 1,\n",
       " 'quintuplets': 0,\n",
       " 'septuplets': 7,\n",
       " 'sextuplets': 3,\n",
       " 'triplets': 0}"
      ]
     },
     "execution_count": 12,
     "metadata": {},
     "output_type": "execute_result"
    }
   ],
   "source": [
    "mydataset.PV[2]"
   ]
  },
  {
   "cell_type": "markdown",
   "metadata": {},
   "source": [
    "<H2> Descriptive statistics </H2>\n",
    "The stats attribute will return basis statistics of the whole dataset"
   ]
  },
  {
   "cell_type": "code",
   "execution_count": 13,
   "metadata": {
    "collapsed": false,
    "scrolled": true
   },
   "outputs": [
    {
     "name": "stdout",
     "output_type": "stream",
     "text": [
      "+-------------------+----------+\n",
      "| Concept           | Quantity |\n",
      "+-------------------+----------+\n",
      "| PV-positive cells | 183      |\n",
      "| Granule cells     | 841      |\n",
      "|                   |          |\n",
      "| Pairs             | 2        |\n",
      "| Triplets          | 3        |\n",
      "| Quadruplets       | 8        |\n",
      "| Quintuplets       | 25       |\n",
      "| Sextuplets        | 40       |\n",
      "| Septuplets        | 50       |\n",
      "| Octuplets         | 33       |\n",
      "+-------------------+----------+\n"
     ]
    }
   ],
   "source": [
    "mydataset.stats('conf') # provide descriptive statistics on cell and connection types "
   ]
  },
  {
   "cell_type": "code",
   "execution_count": 14,
   "metadata": {
    "collapsed": false,
    "scrolled": true
   },
   "outputs": [
    {
     "name": "stdout",
     "output_type": "stream",
     "text": [
      "+-------------------------------------------------+-----------------+\n",
      "| Connection type                                 | Value           |\n",
      "+-------------------------------------------------+-----------------+\n",
      "| PV-PV chemical synapses                         | 14              |\n",
      "| PV-PV electrical synapses                       | 11              |\n",
      "| PV-PV one chemical with electrical              | 7               |\n",
      "| PV-PV bidirectional chemical with electrical    | 3               |\n",
      "|                                                 |                 |\n",
      "| P(PV-PV) chemical synapse                       | 0.291666666667  |\n",
      "| P(PV-PV) electrical synapse                     | 0.458333333333  |\n",
      "| P(PV-PV) one chemical with electrical           | 0.145833333333  |\n",
      "| P(PV-PV) bidirectional chemical with electrical | 0.125           |\n",
      "|                                                 |                 |\n",
      "| PV-GC chemical synapses                         | 241             |\n",
      "| GC-PC chemical synapses                         | 81              |\n",
      "|                                                 |                 |\n",
      "| P(PV-GC) chemical synapse                       | 0.258583690987  |\n",
      "| P(GC-PC) chemical synapse                       | 0.0869098712446 |\n",
      "|                                                 |                 |\n",
      "+-------------------------------------------------+-----------------+\n"
     ]
    }
   ],
   "source": [
    "mydataset.stats('prob')"
   ]
  },
  {
   "cell_type": "code",
   "execution_count": null,
   "metadata": {
    "collapsed": true
   },
   "outputs": [],
   "source": []
  }
 ],
 "metadata": {
  "kernelspec": {
   "display_name": "Python 2",
   "language": "python",
   "name": "python2"
  },
  "language_info": {
   "codemirror_mode": {
    "name": "ipython",
    "version": 2
   },
   "file_extension": ".py",
   "mimetype": "text/x-python",
   "name": "python",
   "nbconvert_exporter": "python",
   "pygments_lexer": "ipython2",
   "version": "2.7.12"
  }
 },
 "nbformat": 4,
 "nbformat_minor": 1
}
