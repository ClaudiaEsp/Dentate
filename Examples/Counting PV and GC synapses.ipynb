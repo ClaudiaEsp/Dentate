{
 "cells": [
  {
   "cell_type": "markdown",
   "metadata": {},
   "source": [
    "\n",
    "\n",
    "<H1>Counting PV and GC synapses</H1>\n",
    "<P>This is an example on how to use a DataLoader object</P>"
   ]
  },
  {
   "cell_type": "code",
   "execution_count": 1,
   "metadata": {
    "collapsed": true
   },
   "outputs": [],
   "source": [
    "from __future__ import division\n",
    "from terminaltables import AsciiTable"
   ]
  },
  {
   "cell_type": "code",
   "execution_count": 2,
   "metadata": {
    "collapsed": false
   },
   "outputs": [
    {
     "data": {
      "text/plain": [
       "'0.0.12'"
      ]
     },
     "execution_count": 2,
     "metadata": {},
     "output_type": "execute_result"
    }
   ],
   "source": [
    "import inet\n",
    "inet.__version__"
   ]
  },
  {
   "cell_type": "code",
   "execution_count": 3,
   "metadata": {
    "collapsed": false
   },
   "outputs": [],
   "source": [
    "from inet import DataLoader"
   ]
  },
  {
   "cell_type": "markdown",
   "metadata": {},
   "source": [
    "<H2>Object creation</H2>\n",
    "The object loads the connectivity matrices in .syn format and reports the number of files loaded at construction."
   ]
  },
  {
   "cell_type": "code",
   "execution_count": 4,
   "metadata": {
    "collapsed": false
   },
   "outputs": [
    {
     "name": "stdout",
     "output_type": "stream",
     "text": [
      " 184 syn  files loaded\n"
     ]
    }
   ],
   "source": [
    "mydataset = DataLoader('../data/PV') # create an object with information of all connections"
   ]
  },
  {
   "cell_type": "markdown",
   "metadata": {},
   "source": [
    "<H2>Object atttributes</H2>\n",
    "The object contains a list with all experiments loaded"
   ]
  },
  {
   "cell_type": "code",
   "execution_count": 5,
   "metadata": {
    "collapsed": false
   },
   "outputs": [
    {
     "data": {
      "text/plain": [
       "184"
      ]
     },
     "execution_count": 5,
     "metadata": {},
     "output_type": "execute_result"
    }
   ],
   "source": [
    "len(mydataset.experiment)"
   ]
  },
  {
   "cell_type": "code",
   "execution_count": 6,
   "metadata": {
    "collapsed": false
   },
   "outputs": [
    {
     "data": {
      "text/plain": [
       "(226, 911)"
      ]
     },
     "execution_count": 6,
     "metadata": {},
     "output_type": "execute_result"
    }
   ],
   "source": [
    "mydataset.nIN, mydataset.nPC # number of PV cells and GC cells recorded"
   ]
  },
  {
   "cell_type": "code",
   "execution_count": 7,
   "metadata": {
    "collapsed": false
   },
   "outputs": [
    {
     "data": {
      "text/plain": [
       "{'octuples': 33,\n",
       " 'pairs': 4,\n",
       " 'quadruplets': 12,\n",
       " 'quintuplets': 29,\n",
       " 'septuplets': 54,\n",
       " 'sextuplets': 46,\n",
       " 'triplets': 6}"
      ]
     },
     "execution_count": 7,
     "metadata": {},
     "output_type": "execute_result"
    }
   ],
   "source": [
    "mydataset.configuration # number of recording configurations"
   ]
  },
  {
   "cell_type": "code",
   "execution_count": 8,
   "metadata": {
    "collapsed": false
   },
   "outputs": [
    {
     "name": "stdout",
     "output_type": "stream",
     "text": [
      "+----------+-------+--------+\n",
      "| Motif    | found | tested |\n",
      "+----------+-------+--------+\n",
      "| e2i      | 33    | 2266   |\n",
      "| e3i      | 7     | 2798   |\n",
      "| ee_c1e   | 0     | 4066   |\n",
      "| ee_c2    | 0     | 2033   |\n",
      "| ee_c2e   | 0     | 2033   |\n",
      "| ee_chain | 0     | 7719   |\n",
      "| ee_chem  | 0     | 4066   |\n",
      "| ee_con   | 0     | 7719   |\n",
      "| ee_div   | 0     | 7719   |\n",
      "| ee_elec  | 0     | 2033   |\n",
      "| ei       | 90    | 1050   |\n",
      "| ie       | 260   | 1050   |\n",
      "| ii_c1e   | 17    | 98     |\n",
      "| ii_c2    | 8     | 49     |\n",
      "| ii_c2e   | 6     | 49     |\n",
      "| ii_chain | 2     | 21     |\n",
      "| ii_chem  | 27    | 98     |\n",
      "| ii_con   | 1     | 21     |\n",
      "| ii_div   | 2     | 21     |\n",
      "| ii_elec  | 22    | 49     |\n",
      "+----------+-------+--------+\n",
      "\n"
     ]
    }
   ],
   "source": [
    "print(mydataset.motif) # number of connections tested and found for every type"
   ]
  },
  {
   "cell_type": "markdown",
   "metadata": {},
   "source": [
    "Details of every experiments are given in a list"
   ]
  },
  {
   "cell_type": "code",
   "execution_count": 9,
   "metadata": {
    "collapsed": false
   },
   "outputs": [
    {
     "data": {
      "text/plain": [
       "{'fname': '2_170411_02.syn', 'matrix': array([[0, 2],\n",
       "        [0, 0]]), 'motif': {'e2i': {'found': 0, 'tested': 0},\n",
       "  'e3i': {'found': 0, 'tested': 0},\n",
       "  'ee_c1e': {'found': 0, 'tested': 0},\n",
       "  'ee_c2': {'found': 0, 'tested': 0},\n",
       "  'ee_c2e': {'found': 0, 'tested': 0},\n",
       "  'ee_chain': {'found': 0, 'tested': 0},\n",
       "  'ee_chem': {'found': 0, 'tested': 0},\n",
       "  'ee_con': {'found': 0, 'tested': 0},\n",
       "  'ee_div': {'found': 0, 'tested': 0},\n",
       "  'ee_elec': {'found': 0, 'tested': 0},\n",
       "  'ei': {'found': 0, 'tested': 0},\n",
       "  'ie': {'found': 0, 'tested': 0},\n",
       "  'ii_c1e': {'found': 0, 'tested': 2},\n",
       "  'ii_c2': {'found': 0, 'tested': 1},\n",
       "  'ii_c2e': {'found': 0, 'tested': 1},\n",
       "  'ii_chain': {'found': 0, 'tested': 0},\n",
       "  'ii_chem': {'found': 0, 'tested': 2},\n",
       "  'ii_con': {'found': 0, 'tested': 0},\n",
       "  'ii_div': {'found': 0, 'tested': 0},\n",
       "  'ii_elec': {'found': 1, 'tested': 1}}}"
      ]
     },
     "execution_count": 9,
     "metadata": {},
     "output_type": "execute_result"
    }
   ],
   "source": [
    "mydataset.experiment[0] # example of the data from the first experiment"
   ]
  },
  {
   "cell_type": "markdown",
   "metadata": {},
   "source": [
    "and details fo the recording configurations are provided"
   ]
  },
  {
   "cell_type": "code",
   "execution_count": 10,
   "metadata": {
    "collapsed": false
   },
   "outputs": [
    {
     "data": {
      "text/plain": [
       "'1_170313_01.syn'"
      ]
     },
     "execution_count": 10,
     "metadata": {},
     "output_type": "execute_result"
    }
   ],
   "source": [
    "mydataset.experiment[12]['fname']"
   ]
  },
  {
   "cell_type": "code",
   "execution_count": 11,
   "metadata": {
    "collapsed": false
   },
   "outputs": [
    {
     "data": {
      "text/plain": [
       "array([[0, 1, 1, 0, 0, 0, 0, 0],\n",
       "       [1, 0, 0, 0, 0, 0, 0, 0],\n",
       "       [0, 0, 0, 0, 0, 0, 0, 0],\n",
       "       [0, 0, 0, 0, 0, 0, 0, 0],\n",
       "       [0, 0, 0, 0, 0, 0, 0, 0],\n",
       "       [0, 0, 0, 0, 0, 0, 0, 0],\n",
       "       [0, 0, 0, 0, 0, 0, 0, 0],\n",
       "       [0, 0, 0, 0, 0, 0, 0, 0]])"
      ]
     },
     "execution_count": 11,
     "metadata": {},
     "output_type": "execute_result"
    }
   ],
   "source": [
    "mydataset.experiment[12]['matrix']"
   ]
  },
  {
   "cell_type": "code",
   "execution_count": 12,
   "metadata": {
    "collapsed": false
   },
   "outputs": [
    {
     "name": "stdout",
     "output_type": "stream",
     "text": [
      "+----------+-------+--------+\n",
      "| Motif    | found | tested |\n",
      "+----------+-------+--------+\n",
      "| e2i      | 0     | 21     |\n",
      "| e3i      | 0     | 35     |\n",
      "| ee_c1e   | 0     | 42     |\n",
      "| ee_c2    | 0     | 21     |\n",
      "| ee_c2e   | 0     | 21     |\n",
      "| ee_chain | 0     | 105    |\n",
      "| ee_chem  | 0     | 42     |\n",
      "| ee_con   | 0     | 105    |\n",
      "| ee_div   | 0     | 105    |\n",
      "| ee_elec  | 0     | 21     |\n",
      "| ei       | 1     | 7      |\n",
      "| ie       | 2     | 7      |\n",
      "| ii_c1e   | 0     | 0      |\n",
      "| ii_c2    | 0     | 0      |\n",
      "| ii_c2e   | 0     | 0      |\n",
      "| ii_chain | 0     | 0      |\n",
      "| ii_chem  | 0     | 0      |\n",
      "| ii_con   | 0     | 0      |\n",
      "| ii_div   | 0     | 0      |\n",
      "| ii_elec  | 0     | 0      |\n",
      "+----------+-------+--------+\n",
      "\n"
     ]
    }
   ],
   "source": [
    "print(mydataset.experiment[12]['motif'])"
   ]
  },
  {
   "cell_type": "markdown",
   "metadata": {},
   "source": [
    "or the type the number of configurations when two PV-positive cells were recorded"
   ]
  },
  {
   "cell_type": "code",
   "execution_count": 13,
   "metadata": {
    "collapsed": false
   },
   "outputs": [
    {
     "data": {
      "text/plain": [
       "{'octuples': 5,\n",
       " 'pairs': 4,\n",
       " 'quadruplets': 3,\n",
       " 'quintuplets': 1,\n",
       " 'septuplets': 9,\n",
       " 'sextuplets': 5,\n",
       " 'triplets': 1}"
      ]
     },
     "execution_count": 13,
     "metadata": {},
     "output_type": "execute_result"
    }
   ],
   "source": [
    "mydataset.IN[2]"
   ]
  },
  {
   "cell_type": "markdown",
   "metadata": {},
   "source": [
    "<H2> Descriptive statistics </H2>\n",
    "The stats attribute will return basis statistics of the whole dataset"
   ]
  },
  {
   "cell_type": "code",
   "execution_count": 14,
   "metadata": {
    "collapsed": false
   },
   "outputs": [
    {
     "name": "stdout",
     "output_type": "stream",
     "text": [
      "+-----------------+----------+\n",
      "| Concept         | Quantity |\n",
      "+-----------------+----------+\n",
      "| Principal cells | 911      |\n",
      "| Interneurons    | 226      |\n",
      "|                 |          |\n",
      "| Pairs           | 4        |\n",
      "| Triplets        | 6        |\n",
      "| Quadruplets     | 12       |\n",
      "| Quintuplets     | 29       |\n",
      "| Sextuplets      | 46       |\n",
      "| Septuplets      | 54       |\n",
      "| Octuplets       | 33       |\n",
      "+-----------------+----------+\n"
     ]
    }
   ],
   "source": [
    "y = mydataset.stats('conf')\n",
    "\n",
    "print AsciiTable(y).table "
   ]
  },
  {
   "cell_type": "code",
   "execution_count": 15,
   "metadata": {
    "collapsed": false
   },
   "outputs": [
    {
     "name": "stdout",
     "output_type": "stream",
     "text": [
      "+-------------------------------------------------+-----------------+\n",
      "| Connection type                                 | Value           |\n",
      "+-------------------------------------------------+-----------------+\n",
      "| PV-PV chemical synapses                         | 27              |\n",
      "| PV-PV electrical synapses                       | 22              |\n",
      "|                                                 |                 |\n",
      "| PV-PV bidirectional chemical                    | 8               |\n",
      "| PV-PV divergent chemical                        | 2               |\n",
      "| PV-PV convergent chemical                       | 1               |\n",
      "| PV-PV linear chemical                           | 2               |\n",
      "|                                                 |                 |\n",
      "| PV-PV one chemical with electrical              | 17              |\n",
      "| PV-PV bidirectional chemical with electrical    | 6               |\n",
      "|                                                 |                 |\n",
      "| P(PV-PV) chemical synapse                       | 0.275510204082  |\n",
      "| P(PV-PV) electrical synapse                     | 0.448979591837  |\n",
      "|                                                 |                 |\n",
      "| P(PV-PV) bidirectional chemical synapse         | 0.163265306122  |\n",
      "| P(div) divergent chemical motifs                | 0.0952380952381 |\n",
      "| P(div) convergent chemical motifs               | 0.047619047619  |\n",
      "| P(chain) linear chain motifs                    | 0.0952380952381 |\n",
      "|                                                 |                 |\n",
      "| P(PV-PV) one chemical with electrical           | 0.173469387755  |\n",
      "| P(PV-PV) bidirectional chemical with electrical | 0.122448979592  |\n",
      "|                                                 |                 |\n",
      "| PV-GC chemical synapses                         | 260             |\n",
      "| GC-PC chemical synapses                         | 90              |\n",
      "|                                                 |                 |\n",
      "| P(PV-GC) chemical synapse                       | 0.247619047619  |\n",
      "| P(GC-PC) chemical synapse                       | 0.0857142857143 |\n",
      "|                                                 |                 |\n",
      "+-------------------------------------------------+-----------------+\n"
     ]
    }
   ],
   "source": [
    "mymotifs = mydataset.motif\n",
    "info = [\n",
    "        ['Connection type', 'Value'],\n",
    "        ['PV-PV chemical synapses', mymotifs.ii_chem_found],\n",
    "        ['PV-PV electrical synapses', mymotifs.ii_elec_found],\n",
    "        [' ',' '],\n",
    "        ['PV-PV bidirectional chemical', mymotifs.ii_c2_found],\n",
    "        ['PV-PV divergent chemical', mymotifs.ii_div_found],\n",
    "        ['PV-PV convergent chemical', mymotifs.ii_con_found],\n",
    "        ['PV-PV linear chemical', mymotifs.ii_chain_found],\n",
    "        [''],\n",
    "        ['PV-PV one chemical with electrical', mymotifs.ii_c1e_found],\n",
    "        ['PV-PV bidirectional chemical with electrical', mymotifs.ii_c2e_found],\n",
    "        [' ',' '],\n",
    "        ['P(PV-PV) chemical synapse', mymotifs.ii_chem_found/mymotifs.ii_chem_tested],\n",
    "        ['P(PV-PV) electrical synapse', mymotifs.ii_elec_found/mymotifs.ii_elec_tested],\n",
    "        [''],\n",
    "        ['P(PV-PV) bidirectional chemical synapse', mymotifs.ii_c2_found/mymotifs.ii_c2_tested],\n",
    "        ['P(div) divergent chemical motifs', mymotifs.ii_div_found/mymotifs.ii_div_tested],\n",
    "        ['P(div) convergent chemical motifs', mymotifs.ii_con_found/mymotifs.ii_con_tested],  \n",
    "        ['P(chain) linear chain motifs', mymotifs.ii_chain_found/mymotifs.ii_chain_tested],\n",
    "        [' ',' '],\n",
    "        ['P(PV-PV) one chemical with electrical', mymotifs.ii_c1e_found/mymotifs.ii_c1e_tested],\n",
    "        ['P(PV-PV) bidirectional chemical with electrical', mymotifs.ii_c2e_found/mymotifs.ii_c2e_tested],\n",
    "        [' ',' '],\n",
    "        ['PV-GC chemical synapses', mymotifs.ie_found],\n",
    "        ['GC-PC chemical synapses', mymotifs.ei_found],\n",
    "        [' ',' '],\n",
    "        ['P(PV-GC) chemical synapse',mymotifs.ie_found/mymotifs.ie_tested],\n",
    "        ['P(GC-PC) chemical synapse', mymotifs.ei_found/mymotifs.ei_tested],\n",
    "        [' ',' '],\n",
    "        ]\n",
    "\n",
    "\n",
    "table = AsciiTable(info)\n",
    "print (table.table)"
   ]
  },
  {
   "cell_type": "code",
   "execution_count": 16,
   "metadata": {
    "collapsed": false
   },
   "outputs": [
    {
     "data": {
      "text/plain": [
       "0.08163265306106121"
      ]
     },
     "execution_count": 16,
     "metadata": {},
     "output_type": "execute_result"
    }
   ],
   "source": [
    "0.285714285714 *0.285714285714 "
   ]
  }
 ],
 "metadata": {
  "kernelspec": {
   "display_name": "Python 2",
   "language": "python",
   "name": "python2"
  },
  "language_info": {
   "codemirror_mode": {
    "name": "ipython",
    "version": 2
   },
   "file_extension": ".py",
   "mimetype": "text/x-python",
   "name": "python",
   "nbconvert_exporter": "python",
   "pygments_lexer": "ipython2",
   "version": "2.7.12"
  }
 },
 "nbformat": 4,
 "nbformat_minor": 1
}
