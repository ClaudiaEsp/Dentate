{
 "cells": [
  {
   "cell_type": "markdown",
   "metadata": {},
   "source": [
    "<H1>Counting synapses</H1>"
   ]
  },
  {
   "cell_type": "code",
   "execution_count": null,
   "metadata": {
    "collapsed": true
   },
   "outputs": [],
   "source": [
    "import numpy as np\n",
    "from inet import utils"
   ]
  },
  {
   "cell_type": "code",
   "execution_count": null,
   "metadata": {
    "collapsed": false
   },
   "outputs": [],
   "source": [
    "# use example found in https://github.com/ClaudiaEsp/inet/blob/master/doc/Reading_matrices.md\n",
    "mymatrix = np.array([[ 0, 1, 3 ],[ 1, 0, 2 ],[ 1, 0, 0 ]], dtype=int)"
   ]
  },
  {
   "cell_type": "code",
   "execution_count": null,
   "metadata": {
    "collapsed": false
   },
   "outputs": [],
   "source": [
    "mymatrix"
   ]
  },
  {
   "cell_type": "markdown",
   "metadata": {},
   "source": [
    "<H2>Counting synapses</H2>"
   ]
  },
  {
   "cell_type": "code",
   "execution_count": null,
   "metadata": {
    "collapsed": false
   },
   "outputs": [],
   "source": [
    "chem = mymatrix[np.where(mymatrix==1)].size\n",
    "elec = mymatrix[np.where(mymatrix==2)].size\n",
    "\n",
    "both = mymatrix[np.where(mymatrix==3)].size\n",
    "chem +=both\n",
    "elec +=both\n",
    "\n",
    "print('%d total chemical synapses ' %chem)\n",
    "print('%d total electrical synases' %elec)\n",
    "print('%d chemical alone' %(chem-both))\n",
    "print('%d electrical alone' %(elec-both))"
   ]
  },
  {
   "cell_type": "code",
   "execution_count": null,
   "metadata": {
    "collapsed": true
   },
   "outputs": [],
   "source": []
  }
 ],
 "metadata": {
  "kernelspec": {
   "display_name": "Python 2",
   "language": "python",
   "name": "python2"
  },
  "language_info": {
   "codemirror_mode": {
    "name": "ipython",
    "version": 2
   },
   "file_extension": ".py",
   "mimetype": "text/x-python",
   "name": "python",
   "nbconvert_exporter": "python",
   "pygments_lexer": "ipython2",
   "version": "2.7.12"
  }
 },
 "nbformat": 4,
 "nbformat_minor": 0
}
