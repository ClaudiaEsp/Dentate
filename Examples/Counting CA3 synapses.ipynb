{
 "cells": [
  {
   "cell_type": "markdown",
   "metadata": {},
   "source": [
    "<H1>Counting CA3 synapses</H1>\n",
    "<P> We will count synapses and motifs in the CA3 network</P>"
   ]
  },
  {
   "cell_type": "code",
   "execution_count": 1,
   "metadata": {
    "collapsed": true
   },
   "outputs": [],
   "source": [
    "from __future__ import division\n",
    "from terminaltables import AsciiTable"
   ]
  },
  {
   "cell_type": "code",
   "execution_count": 2,
   "metadata": {
    "collapsed": false
   },
   "outputs": [
    {
     "data": {
      "text/plain": [
       "'0.0.10'"
      ]
     },
     "execution_count": 2,
     "metadata": {},
     "output_type": "execute_result"
    }
   ],
   "source": [
    "import inet\n",
    "inet.__version__"
   ]
  },
  {
   "cell_type": "code",
   "execution_count": 3,
   "metadata": {
    "collapsed": true
   },
   "outputs": [],
   "source": [
    "from inet import DataLoader"
   ]
  },
  {
   "cell_type": "markdown",
   "metadata": {},
   "source": [
    "<H2>Load CA3 matrices</H2>"
   ]
  },
  {
   "cell_type": "code",
   "execution_count": 4,
   "metadata": {
    "collapsed": false
   },
   "outputs": [
    {
     "name": "stdout",
     "output_type": "stream",
     "text": [
      "1102 syn  files loaded\n"
     ]
    }
   ],
   "source": [
    "mydataset = DataLoader('../data/CA3/') # 1102 experiments"
   ]
  },
  {
   "cell_type": "code",
   "execution_count": 5,
   "metadata": {
    "collapsed": false
   },
   "outputs": [
    {
     "data": {
      "text/plain": [
       "{'ee_c1e': {'found': 0, 'tested': 15930},\n",
       " 'ee_c2': {'found': 6, 'tested': 7965},\n",
       " 'ee_c2e': {'found': 0, 'tested': 7965},\n",
       " 'ee_chain': {'found': 25, 'tested': 31614},\n",
       " 'ee_chem': {'found': 146, 'tested': 15930},\n",
       " 'ee_con': {'found': 11, 'tested': 31614},\n",
       " 'ee_div': {'found': 24, 'tested': 31614},\n",
       " 'ee_elec': {'found': 1, 'tested': 7965}}"
      ]
     },
     "execution_count": 5,
     "metadata": {},
     "output_type": "execute_result"
    }
   ],
   "source": [
    "mydataset.motif # number of connections tested and found for every type"
   ]
  },
  {
   "cell_type": "code",
   "execution_count": 6,
   "metadata": {
    "collapsed": false
   },
   "outputs": [
    {
     "name": "stdout",
     "output_type": "stream",
     "text": [
      "4164 principal cells recorded\n",
      "   0 interneurons recorded\n"
     ]
    }
   ],
   "source": [
    "#number of interneurons and principal cells\n",
    "print('{:4d} principal cells recorded'.format(mydataset.nPC))\n",
    "print('{:4d} interneurons recorded'.format(mydataset.nIN)) #"
   ]
  },
  {
   "cell_type": "code",
   "execution_count": 7,
   "metadata": {
    "collapsed": false
   },
   "outputs": [
    {
     "data": {
      "text/plain": [
       "{'octuples': 72,\n",
       " 'pairs': 495,\n",
       " 'quadruplets': 135,\n",
       " 'quintuplets': 120,\n",
       " 'septuplets': 66,\n",
       " 'sextuplets': 118,\n",
       " 'triplets': 96}"
      ]
     },
     "execution_count": 7,
     "metadata": {},
     "output_type": "execute_result"
    }
   ],
   "source": [
    "mydataset.configuration # number of recording configurations"
   ]
  },
  {
   "cell_type": "code",
   "execution_count": 8,
   "metadata": {
    "collapsed": false
   },
   "outputs": [
    {
     "name": "stdout",
     "output_type": "stream",
     "text": [
      "Connection probability between CA3 cells = 0.0092 %\n"
     ]
    }
   ],
   "source": [
    "PEE = mydataset.motif.ee_chem_found/mydataset.motif.ee_chem_tested\n",
    "print('Connection probability between CA3 cells = {:4.4f} %'.format(PEE))"
   ]
  },
  {
   "cell_type": "markdown",
   "metadata": {},
   "source": [
    "the element in the list with IN[0] contains zero interneurons (all the rest\n",
    "are principal neurons)"
   ]
  },
  {
   "cell_type": "code",
   "execution_count": 9,
   "metadata": {
    "collapsed": false
   },
   "outputs": [
    {
     "data": {
      "text/plain": [
       "{'octuples': 72,\n",
       " 'pairs': 495,\n",
       " 'quadruplets': 135,\n",
       " 'quintuplets': 120,\n",
       " 'septuplets': 66,\n",
       " 'sextuplets': 118,\n",
       " 'triplets': 96}"
      ]
     },
     "execution_count": 9,
     "metadata": {},
     "output_type": "execute_result"
    }
   ],
   "source": [
    "mydataset.IN[0]"
   ]
  },
  {
   "cell_type": "markdown",
   "metadata": {},
   "source": [
    "<H2> Descriptive statistics </H2>\n",
    "The stats attribute will return basis statistics of the whole dataset"
   ]
  },
  {
   "cell_type": "code",
   "execution_count": 10,
   "metadata": {
    "collapsed": false
   },
   "outputs": [
    {
     "name": "stdout",
     "output_type": "stream",
     "text": [
      "+-----------------+----------+\n",
      "| Concept         | Quantity |\n",
      "+-----------------+----------+\n",
      "| Principal cells | 4164     |\n",
      "| Interneurons    | 0        |\n",
      "|                 |          |\n",
      "| Pairs           | 495      |\n",
      "| Triplets        | 96       |\n",
      "| Quadruplets     | 135      |\n",
      "| Quintuplets     | 120      |\n",
      "| Sextuplets      | 118      |\n",
      "| Septuplets      | 66       |\n",
      "| Octuplets       | 72       |\n",
      "+-----------------+----------+\n"
     ]
    }
   ],
   "source": [
    "y = mydataset.stats('conf')\n",
    "\n",
    "print AsciiTable(y).table "
   ]
  },
  {
   "cell_type": "code",
   "execution_count": 24,
   "metadata": {
    "collapsed": false
   },
   "outputs": [
    {
     "name": "stdout",
     "output_type": "stream",
     "text": [
      "+----------------------------------+-------------------+\n",
      "| Connection type                  | Value             |\n",
      "+----------------------------------+-------------------+\n",
      "| CA3-CA3 chemical synapses        | 146               |\n",
      "| CA3-CA3 electrical synapses      | 1                 |\n",
      "|                                  |                   |\n",
      "| CA3-CA3 bidirectional motifs     | 6                 |\n",
      "| CA3-CA3 divergent motifs         | 24                |\n",
      "| CA3-CA3 convergetn motifs        | 11                |\n",
      "| CA3-CA3 linear chains            | 25                |\n",
      "|                                  |                   |\n",
      "| P(CA3-CA3) unidirectional motifs | 0.00916509730069  |\n",
      "| P(CA3-CA3) bidirectional motifs  | 0.00075329566855  |\n",
      "| P(CA3-CA3) convergent motifs     | 0.000347947112039 |\n",
      "| P(CA3-CA3) divergent motifs      | 0.000759157335358 |\n",
      "| P(CA3-CA3) chain motifs          | 0.000790788890998 |\n",
      "+----------------------------------+-------------------+\n"
     ]
    }
   ],
   "source": [
    "mymotifs = mydataset.motif\n",
    "info = [\n",
    "        ['Connection type', 'Value'],\n",
    "        ['CA3-CA3 chemical synapses', mymotifs.ee_chem_found],\n",
    "        ['CA3-CA3 electrical synapses', mymotifs.ee_elec_found],\n",
    "        [' ',' '],\n",
    "        ['CA3-CA3 bidirectional motifs', mymotifs.ee_c2_found],\n",
    "        ['CA3-CA3 divergent motifs', mymotifs.ee_div_found],\n",
    "        ['CA3-CA3 convergetn motifs', mymotifs.ee_con_found],\n",
    "        ['CA3-CA3 linear chains', mymotifs.ee_chain_found],\n",
    "        [' ',' '],\n",
    "        ['P(CA3-CA3) unidirectional motifs', mymotifs.ee_chem_found/mymotifs.ee_chem_tested],\n",
    "        ['P(CA3-CA3) bidirectional motifs', mymotifs.ee_c2_found/mymotifs.ee_c2_tested],\n",
    "        ['P(CA3-CA3) convergent motifs', mymotifs.ee_con_found/mymotifs.ee_con_tested],\n",
    "        ['P(CA3-CA3) divergent motifs', mymotifs.ee_div_found/mymotifs.ee_div_tested],\n",
    "        ['P(CA3-CA3) chain motifs', mymotifs.ee_chain_found/mymotifs.ee_chain_tested],\n",
    "\n",
    "        ]\n",
    "\n",
    "\n",
    "table = AsciiTable(info)\n",
    "print (table.table)"
   ]
  },
  {
   "cell_type": "code",
   "execution_count": null,
   "metadata": {
    "collapsed": true
   },
   "outputs": [],
   "source": []
  }
 ],
 "metadata": {
  "kernelspec": {
   "display_name": "Python 2",
   "language": "python",
   "name": "python2"
  },
  "language_info": {
   "codemirror_mode": {
    "name": "ipython",
    "version": 2
   },
   "file_extension": ".py",
   "mimetype": "text/x-python",
   "name": "python",
   "nbconvert_exporter": "python",
   "pygments_lexer": "ipython2",
   "version": "2.7.12"
  }
 },
 "nbformat": 4,
 "nbformat_minor": 0
}
