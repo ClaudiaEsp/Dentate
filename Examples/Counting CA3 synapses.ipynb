{
 "cells": [
  {
   "cell_type": "markdown",
   "metadata": {},
   "source": [
    "<H1>Counting CA3 synapses</H1>\n",
    "<P> We will count synapses and motifs in the CA3 network</P>"
   ]
  },
  {
   "cell_type": "code",
   "execution_count": 4,
   "metadata": {
    "collapsed": true
   },
   "outputs": [],
   "source": [
    "from __future__ import division\n",
    "from terminaltables import AsciiTable"
   ]
  },
  {
   "cell_type": "code",
   "execution_count": 5,
   "metadata": {
    "collapsed": false
   },
   "outputs": [
    {
     "data": {
      "text/plain": [
       "'0.0.9'"
      ]
     },
     "execution_count": 5,
     "metadata": {},
     "output_type": "execute_result"
    }
   ],
   "source": [
    "import inet\n",
    "inet.__version__"
   ]
  },
  {
   "cell_type": "code",
   "execution_count": 6,
   "metadata": {
    "collapsed": true
   },
   "outputs": [],
   "source": [
    "from inet import DataLoader"
   ]
  },
  {
   "cell_type": "markdown",
   "metadata": {},
   "source": [
    "<H2>Load CA3 matrices</H2>"
   ]
  },
  {
   "cell_type": "code",
   "execution_count": 7,
   "metadata": {
    "collapsed": false
   },
   "outputs": [
    {
     "name": "stdout",
     "output_type": "stream",
     "text": [
      "1102 syn  files loaded\n"
     ]
    }
   ],
   "source": [
    "mydataset = DataLoader('../data/CA3/') # 1102 experiments"
   ]
  },
  {
   "cell_type": "code",
   "execution_count": 8,
   "metadata": {
    "collapsed": false
   },
   "outputs": [
    {
     "data": {
      "text/plain": [
       "{'ee_c1e': {'found': 0, 'tested': 15930},\n",
       " 'ee_c2': {'found': 6, 'tested': 7965},\n",
       " 'ee_c2e': {'found': 0, 'tested': 7965},\n",
       " 'ee_chain': {'found': 25, 'tested': 31614},\n",
       " 'ee_chem': {'found': 146, 'tested': 15930},\n",
       " 'ee_con': {'found': 10, 'tested': 31614},\n",
       " 'ee_div': {'found': 23, 'tested': 31614},\n",
       " 'ee_elec': {'found': 0, 'tested': 7965}}"
      ]
     },
     "execution_count": 8,
     "metadata": {},
     "output_type": "execute_result"
    }
   ],
   "source": [
    "mydataset.motif # number of connections tested and found for every type"
   ]
  },
  {
   "cell_type": "code",
   "execution_count": 9,
   "metadata": {
    "collapsed": false
   },
   "outputs": [
    {
     "name": "stdout",
     "output_type": "stream",
     "text": [
      "4164 principal cells recorded\n",
      "   0 interneurons recorded\n"
     ]
    }
   ],
   "source": [
    "#number of interneurons and principal cells\n",
    "print('{:4d} principal cells recorded'.format(mydataset.nPC))\n",
    "print('{:4d} interneurons recorded'.format(mydataset.nIN)) #"
   ]
  },
  {
   "cell_type": "code",
   "execution_count": 10,
   "metadata": {
    "collapsed": false
   },
   "outputs": [
    {
     "data": {
      "text/plain": [
       "{'octuples': 72,\n",
       " 'pairs': 495,\n",
       " 'quadruplets': 135,\n",
       " 'quintuplets': 120,\n",
       " 'septuplets': 66,\n",
       " 'sextuplets': 118,\n",
       " 'triplets': 96}"
      ]
     },
     "execution_count": 10,
     "metadata": {},
     "output_type": "execute_result"
    }
   ],
   "source": [
    "mydataset.configuration # number of recording configurations"
   ]
  },
  {
   "cell_type": "code",
   "execution_count": 13,
   "metadata": {
    "collapsed": false
   },
   "outputs": [
    {
     "name": "stdout",
     "output_type": "stream",
     "text": [
      "Connection probability between CA3 cells = 0.0092 %\n"
     ]
    }
   ],
   "source": [
    "PEE = mydataset.motif.ee_chem_found/mydataset.motif.ee_chem_tested\n",
    "print('Connection probability between CA3 cells = {:4.4f} %'.format(PEE))"
   ]
  },
  {
   "cell_type": "markdown",
   "metadata": {},
   "source": [
    "the element in the list with IN[0] contains zero interneurons (all the rest\n",
    "are principal neurons)"
   ]
  },
  {
   "cell_type": "code",
   "execution_count": 15,
   "metadata": {
    "collapsed": false
   },
   "outputs": [
    {
     "data": {
      "text/plain": [
       "{'octuples': 72,\n",
       " 'pairs': 495,\n",
       " 'quadruplets': 135,\n",
       " 'quintuplets': 120,\n",
       " 'septuplets': 66,\n",
       " 'sextuplets': 118,\n",
       " 'triplets': 96}"
      ]
     },
     "execution_count": 15,
     "metadata": {},
     "output_type": "execute_result"
    }
   ],
   "source": [
    "mydataset.IN[0]"
   ]
  },
  {
   "cell_type": "markdown",
   "metadata": {},
   "source": [
    "<H2> Descriptive statistics </H2>\n",
    "The stats attribute will return basis statistics of the whole dataset"
   ]
  },
  {
   "cell_type": "code",
   "execution_count": 16,
   "metadata": {
    "collapsed": false
   },
   "outputs": [
    {
     "name": "stdout",
     "output_type": "stream",
     "text": [
      "+-----------------+----------+\n",
      "| Concept         | Quantity |\n",
      "+-----------------+----------+\n",
      "| Principal cells | 4164     |\n",
      "| Interneurons    | 0        |\n",
      "|                 |          |\n",
      "| Pairs           | 495      |\n",
      "| Triplets        | 96       |\n",
      "| Quadruplets     | 135      |\n",
      "| Quintuplets     | 120      |\n",
      "| Sextuplets      | 118      |\n",
      "| Septuplets      | 66       |\n",
      "| Octuplets       | 72       |\n",
      "+-----------------+----------+\n"
     ]
    }
   ],
   "source": [
    "y = mydataset.stats('conf')\n",
    "\n",
    "print AsciiTable(y).table "
   ]
  },
  {
   "cell_type": "code",
   "execution_count": 23,
   "metadata": {
    "collapsed": false
   },
   "outputs": [
    {
     "name": "stdout",
     "output_type": "stream",
     "text": [
      "+---------------------------------------------------+------------------+\n",
      "| Connection type                                   | Value            |\n",
      "+---------------------------------------------------+------------------+\n",
      "| CA3-CA3 chemical synapses                         | 146              |\n",
      "|                                                   |                  |\n",
      "| CA3-CA3 bidirectional chemical                    | 6                |\n",
      "| CA3-CA3 one chemical with electrical              | 0                |\n",
      "| CA3-CA3 bidirectional chemical with electrical    | 0                |\n",
      "|                                                   |                  |\n",
      "| P(CA3-CA3) chemical synapse                       | 0.00916509730069 |\n",
      "| P(CA3-CA3) electrical synapse                     | 0.0              |\n",
      "| P(CA3-CA3) bidirectional chemical synapse         | 0.00075329566855 |\n",
      "|                                                   |                  |\n",
      "| P(CA3-CA3) one chemical with electrical           | 0.0              |\n",
      "| P(CA3-CA3) bidirectional chemical with electrical | 0.0              |\n",
      "+---------------------------------------------------+------------------+\n"
     ]
    }
   ],
   "source": [
    "mymotifs = mydataset.motif\n",
    "info = [\n",
    "        ['Connection type', 'Value'],\n",
    "        ['CA3-CA3 chemical synapses', mymotifs.ee_chem_found],\n",
    "        [' ',' '],\n",
    "        ['CA3-CA3 bidirectional chemical', mymotifs.ee_c2_found],\n",
    "        ['CA3-CA3 one chemical with electrical', mymotifs.ee_c1e_found],\n",
    "        ['CA3-CA3 bidirectional chemical with electrical', mymotifs.ee_c2e_found],\n",
    "        [' ',' '],\n",
    "        ['P(CA3-CA3) chemical synapse', mymotifs.ee_chem_found/mymotifs.ee_chem_tested],\n",
    "        ['P(CA3-CA3) electrical synapse', mymotifs.ee_elec_found/mymotifs.ee_elec_tested],\n",
    "        ['P(CA3-CA3) bidirectional chemical synapse', mymotifs.ee_c2_found/mymotifs.ee_c2_tested],\n",
    "        [' ',' '],\n",
    "        ['P(CA3-CA3) one chemical with electrical', mymotifs.ee_c1e_found/mymotifs.ee_c1e_tested],\n",
    "        ['P(CA3-CA3) bidirectional chemical with electrical', mymotifs.ee_c2e_found/mymotifs.ee_c2e_tested],\n",
    "        ]\n",
    "\n",
    "\n",
    "table = AsciiTable(info)\n",
    "print (table.table)"
   ]
  },
  {
   "cell_type": "code",
   "execution_count": null,
   "metadata": {
    "collapsed": true
   },
   "outputs": [],
   "source": []
  }
 ],
 "metadata": {
  "kernelspec": {
   "display_name": "Python 2",
   "language": "python",
   "name": "python2"
  },
  "language_info": {
   "codemirror_mode": {
    "name": "ipython",
    "version": 2
   },
   "file_extension": ".py",
   "mimetype": "text/x-python",
   "name": "python",
   "nbconvert_exporter": "python",
   "pygments_lexer": "ipython2",
   "version": "2.7.12"
  }
 },
 "nbformat": 4,
 "nbformat_minor": 0
}
