{
 "cells": [
  {
   "cell_type": "code",
   "execution_count": 1,
   "metadata": {
    "collapsed": true
   },
   "outputs": [],
   "source": [
    "# loading python modules\n",
    "import numpy as np\n",
    "from terminaltables import AsciiTable \n",
    "\n",
    "from __future__ import division"
   ]
  },
  {
   "cell_type": "code",
   "execution_count": 2,
   "metadata": {
    "collapsed": false
   },
   "outputs": [],
   "source": [
    "# loading custom inet modules\n",
    "from inet import DataLoader\n",
    "from inet.motifs import iicounter\n",
    "from inet.utils import chem_squarematrix, elec_squarematrix"
   ]
  },
  {
   "cell_type": "code",
   "execution_count": 3,
   "metadata": {
    "collapsed": false
   },
   "outputs": [
    {
     "name": "stdout",
     "output_type": "stream",
     "text": [
      " 161 syn  files loaded\n"
     ]
    }
   ],
   "source": [
    "# use the dataset to create the null hypothesis\n",
    "mydataset = DataLoader('../data')"
   ]
  },
  {
   "cell_type": "markdown",
   "metadata": {},
   "source": [
    "<H2>Collect number of experiments </H2>"
   ]
  },
  {
   "cell_type": "code",
   "execution_count": 4,
   "metadata": {
    "collapsed": false
   },
   "outputs": [],
   "source": [
    "# e.g. mydataset.PV[2].values  will return the different configurations with 2 PV cells\n",
    "nPV = range(9)\n",
    "for i in nPV:\n",
    "    nPV[i] = np.sum(mydataset.PV[i].values())\n",
    "    nPV[i] = np.sum(mydataset.PV[i].values())"
   ]
  },
  {
   "cell_type": "code",
   "execution_count": 5,
   "metadata": {
    "collapsed": false
   },
   "outputs": [
    {
     "data": {
      "text/plain": [
       "[0, 141, 18, 2, 0, 0, 0, 0, 0]"
      ]
     },
     "execution_count": 5,
     "metadata": {},
     "output_type": "execute_result"
    }
   ],
   "source": [
    "nPV"
   ]
  },
  {
   "cell_type": "code",
   "execution_count": 6,
   "metadata": {
    "collapsed": false
   },
   "outputs": [
    {
     "data": {
      "text/plain": [
       "(18, 2)"
      ]
     },
     "execution_count": 6,
     "metadata": {},
     "output_type": "execute_result"
    }
   ],
   "source": [
    "# for the moment, we only count experiments with 2 or 3 PVs\n",
    "# later we use mydataset.PV[2:]\n",
    "PV2 = sum(mydataset.PV[2].values())\n",
    "PV3 = sum(mydataset.PV[3].values())\n",
    "PV2, PV3"
   ]
  },
  {
   "cell_type": "markdown",
   "metadata": {},
   "source": [
    "<H2> Calculate empirical probabilities </H2>"
   ]
  },
  {
   "cell_type": "code",
   "execution_count": 7,
   "metadata": {
    "collapsed": false
   },
   "outputs": [
    {
     "name": "stdout",
     "output_type": "stream",
     "text": [
      "P(C)     : chemical synapse                       = 0.2917\n",
      "P(E)     : electrical synapse                     = 0.4583\n",
      "P(E U C) : electrical and unidirectional chemical = 0.1458\n",
      "P(E U 2C): electrical and bidirectional chemical  = 0.1250\n"
     ]
    }
   ],
   "source": [
    "PC = mydataset.II_chem_found/mydataset.II_chem_tested\n",
    "PE = mydataset.II_elec_found/mydataset.II_elec_tested\n",
    "PCE1 = mydataset.II_ce1_found/mydataset.II_ce1_tested\n",
    "PCE2 = mydataset.II_ce2_found/mydataset.II_ce2_tested\n",
    "\n",
    "print('P(C)     : chemical synapse                       = %2.4f' %PC)\n",
    "print('P(E)     : electrical synapse                     = %2.4f' %PE)\n",
    "print('P(E U C) : electrical and unidirectional chemical = %2.4f' %PCE1)\n",
    "print('P(E U 2C): electrical and bidirectional chemical  = %2.4f' %PCE2)"
   ]
  },
  {
   "cell_type": "markdown",
   "metadata": {},
   "source": [
    "<H2> Simulate random chemical synapses</H2>\n",
    "from a random distribution whose probability is adjusted to the empirical probability found in the recordings.\n"
   ]
  },
  {
   "cell_type": "code",
   "execution_count": 8,
   "metadata": {
    "collapsed": true
   },
   "outputs": [],
   "source": [
    "def mychem_simulation():\n",
    "    \"\"\"\n",
    "    simulate inhibitory chemical connections of the dataset\n",
    "    \n",
    "    Return\n",
    "    ------\n",
    "    A iicounter object \n",
    "    \"\"\"\n",
    "    mycount = iicounter()\n",
    "    for _ in range(PV2):\n",
    "        mycount += iicounter(chem_squarematrix(size=2,prob = PC))\n",
    "\n",
    "    for _ in range(PV3):\n",
    "        mycount += iicounter(chem_squarematrix(size=3, prob = PC))\n",
    "        \n",
    "    return(mycount)"
   ]
  },
  {
   "cell_type": "code",
   "execution_count": 9,
   "metadata": {
    "collapsed": false
   },
   "outputs": [
    {
     "data": {
      "text/plain": [
       "{'ii_ce1': {'found': 0, 'tested': 48},\n",
       " 'ii_ce2': {'found': 0, 'tested': 24},\n",
       " 'ii_chem': {'found': 14, 'tested': 48},\n",
       " 'ii_elec': {'found': 0, 'tested': 24}}"
      ]
     },
     "execution_count": 9,
     "metadata": {},
     "output_type": "execute_result"
    }
   ],
   "source": [
    "mychem_simulation() # one simulation, test the number of connection tested"
   ]
  },
  {
   "cell_type": "code",
   "execution_count": 10,
   "metadata": {
    "collapsed": false
   },
   "outputs": [
    {
     "name": "stdout",
     "output_type": "stream",
     "text": [
      "('ii_ce1', {'tested': 48, 'found': 7})\n",
      "('ii_elec', {'tested': 24, 'found': 11})\n",
      "('ii_ce2', {'tested': 24, 'found': 3})\n",
      "('ii_chem', {'tested': 48, 'found': 14})\n"
     ]
    }
   ],
   "source": [
    "# must contain the same number of tested connections\n",
    "for key in mychem_simulation().keys():\n",
    "    print(key, mydataset.motif[key])"
   ]
  },
  {
   "cell_type": "code",
   "execution_count": 11,
   "metadata": {
    "collapsed": false
   },
   "outputs": [],
   "source": [
    "# simulate the whole data set 10,000 times\n",
    "n_chem = list()\n",
    "for _ in range(1000):\n",
    "    syn_counter = mychem_simulation()\n",
    "    n_chem.append(syn_counter['ii_chem']['found'])"
   ]
  },
  {
   "cell_type": "markdown",
   "metadata": {},
   "source": [
    "If the null hypothesis is correctly implemented, we should see almost the same \n",
    "number of chemical synases as in the experiments."
   ]
  },
  {
   "cell_type": "code",
   "execution_count": 12,
   "metadata": {
    "collapsed": false
   },
   "outputs": [
    {
     "data": {
      "text/plain": [
       "13.879"
      ]
     },
     "execution_count": 12,
     "metadata": {},
     "output_type": "execute_result"
    }
   ],
   "source": [
    "np.mean(n_chem) # on average 14 connections\n"
   ]
  },
  {
   "cell_type": "code",
   "execution_count": 13,
   "metadata": {
    "collapsed": false
   },
   "outputs": [
    {
     "data": {
      "text/plain": [
       "14"
      ]
     },
     "execution_count": 13,
     "metadata": {},
     "output_type": "execute_result"
    }
   ],
   "source": [
    "mydataset.motif['ii_chem']['found']"
   ]
  },
  {
   "cell_type": "markdown",
   "metadata": {},
   "source": [
    "<H2> Simulate random electrical synapses</H2>\n",
    "from a random distribution whose probability is adjusted to the empirical probability found in the recordings."
   ]
  },
  {
   "cell_type": "code",
   "execution_count": 14,
   "metadata": {
    "collapsed": true
   },
   "outputs": [],
   "source": [
    "def myelec_simulation():\n",
    "    \"\"\"\n",
    "    simulate inhibitory electrical connections of the dataset\n",
    "    \n",
    "    Return\n",
    "    ------\n",
    "    A iicounter object \n",
    "    \"\"\"\n",
    "    mycount = iicounter()\n",
    "    for _ in range(PV2):\n",
    "        mycount += iicounter(elec_squarematrix(size=2,prob = PE))\n",
    "\n",
    "    for _ in range(PV3):\n",
    "        mycount += iicounter(elec_squarematrix(size=3, prob = PE))\n",
    "        \n",
    "    return(mycount)"
   ]
  },
  {
   "cell_type": "code",
   "execution_count": 15,
   "metadata": {
    "collapsed": false
   },
   "outputs": [
    {
     "data": {
      "text/plain": [
       "{'ii_ce1': {'found': 0, 'tested': 48},\n",
       " 'ii_ce2': {'found': 0, 'tested': 24},\n",
       " 'ii_chem': {'found': 0, 'tested': 48},\n",
       " 'ii_elec': {'found': 19, 'tested': 24}}"
      ]
     },
     "execution_count": 15,
     "metadata": {},
     "output_type": "execute_result"
    }
   ],
   "source": [
    "myelec_simulation() # one simulation, test the number of connection tested"
   ]
  },
  {
   "cell_type": "code",
   "execution_count": 16,
   "metadata": {
    "collapsed": false
   },
   "outputs": [
    {
     "name": "stdout",
     "output_type": "stream",
     "text": [
      "('ii_ce1', {'tested': 48, 'found': 7})\n",
      "('ii_elec', {'tested': 24, 'found': 11})\n",
      "('ii_ce2', {'tested': 24, 'found': 3})\n",
      "('ii_chem', {'tested': 48, 'found': 14})\n"
     ]
    }
   ],
   "source": [
    "# must contain the same number of tested connections\n",
    "for key in myelec_simulation().keys():\n",
    "    print(key, mydataset.motif[key])"
   ]
  },
  {
   "cell_type": "code",
   "execution_count": 17,
   "metadata": {
    "collapsed": true
   },
   "outputs": [],
   "source": [
    "n_elec = list()\n",
    "for _ in range(1000):\n",
    "    syn_elec = myelec_simulation()\n",
    "    n_elec.append(syn_elec['ii_elec']['found'])"
   ]
  },
  {
   "cell_type": "markdown",
   "metadata": {},
   "source": [
    "Similarly, we must see almost the same \n",
    "number of electrical connections as with the experiments"
   ]
  },
  {
   "cell_type": "code",
   "execution_count": 18,
   "metadata": {
    "collapsed": false
   },
   "outputs": [
    {
     "data": {
      "text/plain": [
       "10.834"
      ]
     },
     "execution_count": 18,
     "metadata": {},
     "output_type": "execute_result"
    }
   ],
   "source": [
    "np.mean(n_elec)"
   ]
  },
  {
   "cell_type": "code",
   "execution_count": 19,
   "metadata": {
    "collapsed": false
   },
   "outputs": [
    {
     "data": {
      "text/plain": [
       "11"
      ]
     },
     "execution_count": 19,
     "metadata": {},
     "output_type": "execute_result"
    }
   ],
   "source": [
    "mydataset.motif['ii_elec']['found'] # voila!"
   ]
  },
  {
   "cell_type": "markdown",
   "metadata": {},
   "source": [
    "<H2>Simulate electrical and chemical synapses independently</H2>"
   ]
  },
  {
   "cell_type": "code",
   "execution_count": 20,
   "metadata": {
    "collapsed": false
   },
   "outputs": [
    {
     "data": {
      "text/plain": [
       "array([[0, 2],\n",
       "       [1, 0]])"
      ]
     },
     "execution_count": 20,
     "metadata": {},
     "output_type": "execute_result"
    }
   ],
   "source": [
    "C = chem_squarematrix(size = 2, prob = PC)\n",
    "E = elec_squarematrix(size = 2, prob = PE)\n",
    "C + E # when a chemical (1) and electrical (2) synapse add , they have the motif 3"
   ]
  },
  {
   "cell_type": "code",
   "execution_count": 21,
   "metadata": {
    "collapsed": false
   },
   "outputs": [],
   "source": [
    "def myii_simulation():\n",
    "    \"\"\"\n",
    "    simulate inhibitory electrical and chemical connections of the dataset\n",
    "    \n",
    "    Return\n",
    "    ------\n",
    "    A iicounter object \n",
    "    \"\"\"\n",
    "    mycount = iicounter()\n",
    "    for _ in range(PV2):\n",
    "        C = chem_squarematrix(size = 2, prob = PC)\n",
    "        E = elec_squarematrix(size = 2, prob = PE)\n",
    "        \n",
    "        S = C + E\n",
    "        x, y = np.where(S==2) # test to eliminate '1' from the oposite direction\n",
    "        mycoor = zip(y,x)\n",
    "        for i,j in mycoor:\n",
    "            if S[i,j]==1:\n",
    "                S[i,j]=3\n",
    "                S[j,i]=0\n",
    "                \n",
    "        mycount += iicounter( S ) \n",
    "\n",
    "    for _ in range(PV3):\n",
    "        C = chem_squarematrix(size = 3, prob = PC)\n",
    "        E = elec_squarematrix(size = 3, prob = PE)\n",
    "\n",
    "        S = C + E\n",
    "        x, y = np.where(S==2) # test to eliminate '1' from the oposite direction\n",
    "        mycoor = zip(y,x)\n",
    "        for i,j in mycoor:\n",
    "            if S[i,j]==1:\n",
    "                S[i,j]=3\n",
    "                S[j,i]=0\n",
    "                \n",
    "        mycount += iicounter( S ) \n",
    "\n",
    "    return(mycount)"
   ]
  },
  {
   "cell_type": "code",
   "execution_count": 22,
   "metadata": {
    "collapsed": false
   },
   "outputs": [
    {
     "data": {
      "text/plain": [
       "{'ii_ce1': {'found': 8, 'tested': 48},\n",
       " 'ii_ce2': {'found': 2, 'tested': 24},\n",
       " 'ii_chem': {'found': 18, 'tested': 48},\n",
       " 'ii_elec': {'found': 10, 'tested': 24}}"
      ]
     },
     "execution_count": 22,
     "metadata": {},
     "output_type": "execute_result"
    }
   ],
   "source": [
    "myii_simulation()# one simulation, again, test the number of connections tested"
   ]
  },
  {
   "cell_type": "code",
   "execution_count": 23,
   "metadata": {
    "collapsed": false
   },
   "outputs": [
    {
     "name": "stdout",
     "output_type": "stream",
     "text": [
      "('ii_ce1', {'tested': 48, 'found': 7})\n",
      "('ii_elec', {'tested': 24, 'found': 11})\n",
      "('ii_ce2', {'tested': 24, 'found': 3})\n",
      "('ii_chem', {'tested': 48, 'found': 14})\n"
     ]
    }
   ],
   "source": [
    "# must contain the same number of tested connections\n",
    "for key in myii_simulation().keys():\n",
    "    print(key, mydataset.motif[key])"
   ]
  },
  {
   "cell_type": "code",
   "execution_count": 24,
   "metadata": {
    "collapsed": false
   },
   "outputs": [],
   "source": [
    "# simulate the whole data set 1,000 times\n",
    "n_chem = list()\n",
    "n_elec = list()\n",
    "n_ce1 = list()\n",
    "n_ce2 = list()\n",
    "\n",
    "for _ in range(1000):\n",
    "    syn_counter = myii_simulation()\n",
    "    n_chem.append( syn_counter['ii_chem']['found'] )\n",
    "    n_elec.append( syn_counter['ii_elec']['found'] )\n",
    "    n_ce1.append( syn_counter['ii_ce1']['found'] )\n",
    "    n_ce2.append( syn_counter['ii_ce2']['found'] )"
   ]
  },
  {
   "cell_type": "code",
   "execution_count": 25,
   "metadata": {
    "collapsed": false
   },
   "outputs": [
    {
     "name": "stdout",
     "output_type": "stream",
     "text": [
      "+---------------+-------------+-----------+\n",
      "| Syn Motif     | Simulations | Empirical |\n",
      "+---------------+-------------+-----------+\n",
      "| chemical      | 13.923      | 14        |\n",
      "| electrical    | 11.146      | 11        |\n",
      "| 1 chem + elec | 6.448       | 7         |\n",
      "| 2 chem + elec | 0.926       | 3         |\n",
      "+---------------+-------------+-----------+\n"
     ]
    }
   ],
   "source": [
    "info = [\n",
    "    ['Syn Motif', 'Simulations', 'Empirical'], \n",
    "    ['chemical', np.mean(n_chem),  mydataset.motif['ii_chem']['found']],\n",
    "    ['electrical', np.mean(n_elec),  mydataset.motif['ii_elec']['found']],\n",
    "    ['1 chem + elec', np.mean(n_ce1),  mydataset.motif['ii_ce1']['found']],\n",
    "    ['2 chem + elec', np.mean(n_ce2),  mydataset.motif['ii_ce2']['found']],\n",
    "     ]\n",
    "print(AsciiTable(info).table)"
   ]
  },
  {
   "cell_type": "markdown",
   "metadata": {},
   "source": [
    "Let's see if the connections found correspond to the theoretical values for the complex motifs. \n"
   ]
  },
  {
   "cell_type": "markdown",
   "metadata": {},
   "source": [
    "<H3>ce1: unidirectional chemical connections in the presence of an electrical synapse</H3>"
   ]
  },
  {
   "cell_type": "code",
   "execution_count": 26,
   "metadata": {
    "collapsed": false
   },
   "outputs": [
    {
     "data": {
      "text/plain": [
       "{'found': 7, 'tested': 48}"
      ]
     },
     "execution_count": 26,
     "metadata": {},
     "output_type": "execute_result"
    }
   ],
   "source": [
    "mydataset.motif['ii_ce1']"
   ]
  },
  {
   "cell_type": "code",
   "execution_count": 27,
   "metadata": {
    "collapsed": false
   },
   "outputs": [
    {
     "data": {
      "text/plain": [
       "0.14583333333333334"
      ]
     },
     "execution_count": 27,
     "metadata": {},
     "output_type": "execute_result"
    }
   ],
   "source": [
    "PCE1 = mydataset.motif['ii_ce1']['found']/mydataset.motif['ii_ce1']['tested']\n",
    "PCE1"
   ]
  },
  {
   "cell_type": "code",
   "execution_count": 28,
   "metadata": {
    "collapsed": false
   },
   "outputs": [
    {
     "data": {
      "text/plain": [
       "6.416666666666666"
      ]
     },
     "execution_count": 28,
     "metadata": {},
     "output_type": "execute_result"
    }
   ],
   "source": [
    "(PC*PE)*mydataset.motif['ii_ce1']['tested'] # this value must be close to the simulation"
   ]
  },
  {
   "cell_type": "markdown",
   "metadata": {},
   "source": [
    "<H3>ce2: bidirectional chemical connections in the presence of an electrical synapse</H3>"
   ]
  },
  {
   "cell_type": "code",
   "execution_count": 29,
   "metadata": {
    "collapsed": false
   },
   "outputs": [
    {
     "data": {
      "text/plain": [
       "{'found': 3, 'tested': 24}"
      ]
     },
     "execution_count": 29,
     "metadata": {},
     "output_type": "execute_result"
    }
   ],
   "source": [
    "mydataset.motif['ii_ce2']"
   ]
  },
  {
   "cell_type": "code",
   "execution_count": 30,
   "metadata": {
    "collapsed": false
   },
   "outputs": [
    {
     "data": {
      "text/plain": [
       "0.125"
      ]
     },
     "execution_count": 30,
     "metadata": {},
     "output_type": "execute_result"
    }
   ],
   "source": [
    "PCE2 = mydataset.motif['ii_ce2']['found']/mydataset.motif['ii_ce2']['tested']\n",
    "PCE2"
   ]
  },
  {
   "cell_type": "code",
   "execution_count": 31,
   "metadata": {
    "collapsed": false
   },
   "outputs": [
    {
     "data": {
      "text/plain": [
       "0.9357638888888891"
      ]
     },
     "execution_count": 31,
     "metadata": {},
     "output_type": "execute_result"
    }
   ],
   "source": [
    "(PE*PC*PC)*mydataset.motif['ii_ce2']['tested'] # this value must be close to the simulation"
   ]
  },
  {
   "cell_type": "markdown",
   "metadata": {
    "collapsed": true
   },
   "source": [
    "<H2>Calculating P-Values</H2>"
   ]
  },
  {
   "cell_type": "code",
   "execution_count": 32,
   "metadata": {
    "collapsed": false
   },
   "outputs": [],
   "source": [
    "n_chem = np.array(n_chem)\n",
    "n_elec = np.array(n_elec)\n",
    "n_ce1 = np.array(n_ce1)\n",
    "n_ce2 = np.array(n_ce2)\n"
   ]
  },
  {
   "cell_type": "code",
   "execution_count": 33,
   "metadata": {
    "collapsed": false
   },
   "outputs": [],
   "source": [
    "pii_chem = len(n_chem[n_chem>mydataset.motif['ii_chem']['found']])/len(n_chem)\n",
    "pii_elec = len(n_elec[n_elec>mydataset.motif['ii_elec']['found']])/len(n_elec)\n",
    "pii_ce1 = len(n_ce1[n_ce1>mydataset.motif['ii_ce1']['found']])/len(n_ce1)\n",
    "pii_ce2 = len(n_ce2[n_ce2>mydataset.motif['ii_ce2']['found']])/len(n_ce2)\n"
   ]
  },
  {
   "cell_type": "code",
   "execution_count": 34,
   "metadata": {
    "collapsed": false
   },
   "outputs": [
    {
     "name": "stdout",
     "output_type": "stream",
     "text": [
      "+---------------+-------------+-----------+----------------+\n",
      "| Syn Motif     | Simulations | Empirical | P(Simulations) |\n",
      "+---------------+-------------+-----------+----------------+\n",
      "| chemical      | 13.923      | 14        | 0.431          |\n",
      "| electrical    | 11.146      | 11        | 0.443          |\n",
      "| 1 chem + elec | 6.448       | 7         | 0.337          |\n",
      "| 2 chem + elec | 0.926       | 3         | 0.017          |\n",
      "+---------------+-------------+-----------+----------------+\n"
     ]
    }
   ],
   "source": [
    "info = [\n",
    "    ['Syn Motif', 'Simulations', 'Empirical', 'P(Simulations)'], \n",
    "    ['chemical', np.mean(n_chem),  mydataset.motif['ii_chem']['found'], pii_chem],\n",
    "    ['electrical', np.mean(n_elec),  mydataset.motif['ii_elec']['found'], pii_elec],\n",
    "    ['1 chem + elec', np.mean(n_ce1),  mydataset.motif['ii_ce1']['found'], pii_ce1],\n",
    "    ['2 chem + elec', np.mean(n_ce2),  mydataset.motif['ii_ce2']['found'], pii_ce2],\n",
    "     ]\n",
    "print(AsciiTable(info).table)"
   ]
  }
 ],
 "metadata": {
  "kernelspec": {
   "display_name": "Python 2",
   "language": "python",
   "name": "python2"
  },
  "language_info": {
   "codemirror_mode": {
    "name": "ipython",
    "version": 2
   },
   "file_extension": ".py",
   "mimetype": "text/x-python",
   "name": "python",
   "nbconvert_exporter": "python",
   "pygments_lexer": "ipython2",
   "version": "2.7.12"
  }
 },
 "nbformat": 4,
 "nbformat_minor": 0
}
