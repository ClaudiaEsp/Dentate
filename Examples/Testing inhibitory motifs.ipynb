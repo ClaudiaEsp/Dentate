{
 "cells": [
  {
   "cell_type": "markdown",
   "metadata": {},
   "source": [
    "<H1>Testing inhibitory motifs</H1>"
   ]
  },
  {
   "cell_type": "code",
   "execution_count": 1,
   "metadata": {
    "collapsed": true
   },
   "outputs": [],
   "source": [
    "# loading python modules\n",
    "import numpy as np\n",
    "np.random.seed(0)\n",
    "\n",
    "from matplotlib.pyplot import figure\n",
    "from terminaltables import AsciiTable \n",
    "\n",
    "from __future__ import division"
   ]
  },
  {
   "cell_type": "code",
   "execution_count": 2,
   "metadata": {
    "collapsed": false
   },
   "outputs": [],
   "source": [
    "# loading custom inet modules\n",
    "from inet import DataLoader\n",
    "from inet.motifs import iicounter, motifcounter\n",
    "from inet.utils import chem_squarematrix, elec_squarematrix"
   ]
  },
  {
   "cell_type": "code",
   "execution_count": 3,
   "metadata": {
    "collapsed": false
   },
   "outputs": [
    {
     "name": "stdout",
     "output_type": "stream",
     "text": [
      " 168 syn  files loaded\n"
     ]
    }
   ],
   "source": [
    "# use the dataset to create the null hypothesis\n",
    "mydataset = DataLoader('../data/PV')"
   ]
  },
  {
   "cell_type": "markdown",
   "metadata": {},
   "source": [
    "<H2>Collect number of experiments containing PV(+) cells</H2>"
   ]
  },
  {
   "cell_type": "code",
   "execution_count": 4,
   "metadata": {
    "collapsed": false
   },
   "outputs": [],
   "source": [
    "# e.g. mydataset.PV[2].values  will return the different configurations with 2 PV cells\n",
    "nPV = range(9)\n",
    "for i in nPV:\n",
    "    nPV[i] = np.sum(mydataset.IN[i].values())\n",
    "    nPV[i] = np.sum(mydataset.IN[i].values())"
   ]
  },
  {
   "cell_type": "code",
   "execution_count": 5,
   "metadata": {
    "collapsed": false
   },
   "outputs": [
    {
     "data": {
      "text/plain": [
       "[0, 145, 21, 2, 0, 0, 0, 0, 0]"
      ]
     },
     "execution_count": 5,
     "metadata": {},
     "output_type": "execute_result"
    }
   ],
   "source": [
    "nPV"
   ]
  },
  {
   "cell_type": "code",
   "execution_count": 6,
   "metadata": {
    "collapsed": false
   },
   "outputs": [
    {
     "data": {
      "text/plain": [
       "(21, 2)"
      ]
     },
     "execution_count": 6,
     "metadata": {},
     "output_type": "execute_result"
    }
   ],
   "source": [
    "# for the moment, we only count experiments with 2 or 3 PVs\n",
    "# later we use mydataset.PV[2:]\n",
    "PV2 = sum(mydataset.IN[2].values())\n",
    "PV3 = sum(mydataset.IN[3].values())\n",
    "PV2, PV3"
   ]
  },
  {
   "cell_type": "markdown",
   "metadata": {},
   "source": [
    "<H2> Calculate empirical probabilities </H2>"
   ]
  },
  {
   "cell_type": "code",
   "execution_count": 7,
   "metadata": {
    "collapsed": false
   },
   "outputs": [
    {
     "name": "stdout",
     "output_type": "stream",
     "text": [
      "+----------+-------------+----------------------------------------+----------------+\n",
      "| key      | Probability | Motif                                  | Value          |\n",
      "+----------+-------------+----------------------------------------+----------------+\n",
      "| ii_chem  | P(C)        | chemical synapse                       | 0.296296296296 |\n",
      "| ii_elec  | P(E)        | electrical synapse                     | 0.481481481481 |\n",
      "|          |             |                                        |                |\n",
      "| ii_c2    | P(C U C)    | bidirectional chemical synapse         | 0.148148148148 |\n",
      "| ii_con   | Pcon        | convergent inhibitory motifs           | 0.0            |\n",
      "| ii_div   | Pdiv        | divergent inhibitory motifs            | 0.166666666667 |\n",
      "| ii_chain | Pchain      | linear inhibitory motifs               | 0.0            |\n",
      "|          |             |                                        |                |\n",
      "| ii_c1e   | P(C U E)    | electrical and unidirectional chemical | 0.148148148148 |\n",
      "| ii_c2e   | P(2C U E):  | electrical and bidirectional chemical  | 0.111111111111 |\n",
      "+----------+-------------+----------------------------------------+----------------+\n"
     ]
    }
   ],
   "source": [
    "PC = mydataset.motif.ii_chem_found/mydataset.motif.ii_chem_tested\n",
    "PE = mydataset.motif.ii_elec_found/mydataset.motif.ii_elec_tested\n",
    "\n",
    "PC2  = mydataset.motif.ii_c2_found/mydataset.motif.ii_c2_tested\n",
    "Pdiv = mydataset.motif.ii_div_found/mydataset.motif.ii_div_tested\n",
    "Pcon = mydataset.motif.ii_con_found/mydataset.motif.ii_con_tested\n",
    "Pchain = mydataset.motif.ii_chain_found/mydataset.motif.ii_chain_tested\n",
    "\n",
    "PC1E = mydataset.motif.ii_c1e_found/mydataset.motif.ii_c1e_tested\n",
    "PC2E = mydataset.motif.ii_c2e_found/mydataset.motif.ii_c2e_tested\n",
    "\n",
    "\n",
    "\n",
    "info = [\n",
    "    ['key', 'Probability', 'Motif', 'Value'],\n",
    "    ['ii_chem', 'P(C)', 'chemical synapse',PC ],\n",
    "    ['ii_elec', 'P(E)', 'electrical synapse',PE ],\n",
    "    ['','',''],\n",
    "    ['ii_c2', 'P(C U C)','bidirectional chemical synapse',PC2],\n",
    "    ['ii_con', 'Pcon', 'convergent inhibitory motifs', Pcon],\n",
    "    ['ii_div', 'Pdiv', 'divergent inhibitory motifs', Pdiv],\n",
    "    ['ii_chain', 'Pchain', 'linear inhibitory motifs', Pchain],\n",
    "    ['',''],\n",
    "    ['ii_c1e', 'P(C U E)', 'electrical and unidirectional chemical', PC1E],\n",
    "    ['ii_c2e', 'P(2C U E):','electrical and bidirectional chemical', PC2E],\n",
    "\n",
    "]\n",
    "print(AsciiTable(info).table)"
   ]
  },
  {
   "cell_type": "markdown",
   "metadata": {},
   "source": [
    "<H2> Simulate random chemical synapses</H2>\n",
    "from a random distribution whose probability is adjusted to the empirical probability found in the recordings.\n"
   ]
  },
  {
   "cell_type": "code",
   "execution_count": 8,
   "metadata": {
    "collapsed": true
   },
   "outputs": [],
   "source": [
    "def mychem_simulation():\n",
    "    \"\"\"\n",
    "    simulate inhibitory chemical connections of the dataset\n",
    "    \n",
    "    Return\n",
    "    ------\n",
    "    A iicounter object \n",
    "    \"\"\"\n",
    "    mycount = iicounter()\n",
    "    for _ in range(PV2):\n",
    "        mycount += iicounter(chem_squarematrix(size=2,prob = PC))\n",
    "\n",
    "    for _ in range(PV3):\n",
    "        mycount += iicounter(chem_squarematrix(size=3, prob = PC))\n",
    "        \n",
    "    return(mycount)"
   ]
  },
  {
   "cell_type": "code",
   "execution_count": 9,
   "metadata": {
    "collapsed": false
   },
   "outputs": [
    {
     "name": "stdout",
     "output_type": "stream",
     "text": [
      "+----------+-------+--------+\n",
      "| Motif    | found | tested |\n",
      "+----------+-------+--------+\n",
      "| ii_c1e   | 0     | 54     |\n",
      "| ii_c2    | 2     | 27     |\n",
      "| ii_c2e   | 0     | 27     |\n",
      "| ii_chain | 1     | 6      |\n",
      "| ii_chem  | 11    | 54     |\n",
      "| ii_con   | 0     | 6      |\n",
      "| ii_div   | 1     | 6      |\n",
      "| ii_elec  | 0     | 27     |\n",
      "+----------+-------+--------+\n",
      "\n"
     ]
    }
   ],
   "source": [
    "print(mychem_simulation()) # one simulation, test the number of connection tested"
   ]
  },
  {
   "cell_type": "code",
   "execution_count": 10,
   "metadata": {
    "collapsed": false
   },
   "outputs": [
    {
     "name": "stdout",
     "output_type": "stream",
     "text": [
      "('ii_chem', {'tested': 54, 'found': 16})\n",
      "('ii_c1e', {'tested': 54, 'found': 8})\n",
      "('ii_div', {'tested': 6, 'found': 1})\n",
      "('ii_c2e', {'tested': 27, 'found': 3})\n",
      "('ii_elec', {'tested': 27, 'found': 13})\n",
      "('ii_chain', {'tested': 6, 'found': 0})\n",
      "('ii_con', {'tested': 6, 'found': 0})\n",
      "('ii_c2', {'tested': 27, 'found': 4})\n"
     ]
    }
   ],
   "source": [
    "# must contain the same number of tested connections\n",
    "for key in mychem_simulation().keys():\n",
    "    print(key, mydataset.motif[key])\n"
   ]
  },
  {
   "cell_type": "code",
   "execution_count": 11,
   "metadata": {
    "collapsed": false
   },
   "outputs": [],
   "source": [
    "# simulate the whole data set 1,000 times\n",
    "n_chem = list()\n",
    "\n",
    "n_bichem = list()\n",
    "n_div = list()\n",
    "n_con = list()\n",
    "n_chain = list()\n",
    "\n",
    "for _ in range(1000):\n",
    "    syn_counter = mychem_simulation()\n",
    "    n_chem.append(syn_counter['ii_chem']['found']) # null hypothesis\n",
    "    \n",
    "    n_bichem.append(syn_counter['ii_c2']['found'])    \n",
    "    n_con.append(syn_counter['ii_con']['found'])\n",
    "    n_div.append(syn_counter['ii_div']['found'])\n",
    "    n_chain.append(syn_counter['ii_chain']['found'])"
   ]
  },
  {
   "cell_type": "markdown",
   "metadata": {},
   "source": [
    "If the null hypothesis is correctly implemented, we should see almost the same \n",
    "number of chemical synases as in the experiments."
   ]
  },
  {
   "cell_type": "code",
   "execution_count": 12,
   "metadata": {
    "collapsed": false
   },
   "outputs": [
    {
     "data": {
      "text/plain": [
       "16.135000000000002"
      ]
     },
     "execution_count": 12,
     "metadata": {},
     "output_type": "execute_result"
    }
   ],
   "source": [
    "np.mean(n_chem) # on average the same number of unidirectional connections\n"
   ]
  },
  {
   "cell_type": "code",
   "execution_count": 13,
   "metadata": {
    "collapsed": false
   },
   "outputs": [
    {
     "data": {
      "text/plain": [
       "16"
      ]
     },
     "execution_count": 13,
     "metadata": {},
     "output_type": "execute_result"
    }
   ],
   "source": [
    "mydataset.motif['ii_chem']['found']"
   ]
  },
  {
   "cell_type": "markdown",
   "metadata": {},
   "source": [
    "If we found a number which is different form the empirical, we must revise our \n",
    "null hypothese."
   ]
  },
  {
   "cell_type": "code",
   "execution_count": 14,
   "metadata": {
    "collapsed": false
   },
   "outputs": [
    {
     "data": {
      "text/plain": [
       "2.3799999999999999"
      ]
     },
     "execution_count": 14,
     "metadata": {},
     "output_type": "execute_result"
    }
   ],
   "source": [
    "np.mean(n_bichem) # on average the same number of bidirectional connections????"
   ]
  },
  {
   "cell_type": "markdown",
   "metadata": {},
   "source": [
    "Define analiticaly the null hypothese:"
   ]
  },
  {
   "cell_type": "code",
   "execution_count": 15,
   "metadata": {
    "collapsed": false
   },
   "outputs": [
    {
     "data": {
      "text/plain": [
       "2.3703703703703702"
      ]
     },
     "execution_count": 15,
     "metadata": {},
     "output_type": "execute_result"
    }
   ],
   "source": [
    "PC*PC*mydataset.motif['ii_c2']['tested'] # null hypothesis"
   ]
  },
  {
   "cell_type": "code",
   "execution_count": 16,
   "metadata": {
    "collapsed": false
   },
   "outputs": [
    {
     "data": {
      "text/plain": [
       "4"
      ]
     },
     "execution_count": 16,
     "metadata": {},
     "output_type": "execute_result"
    }
   ],
   "source": [
    "mydataset.motif['ii_c2']['found'] # however, we found more empirically"
   ]
  },
  {
   "cell_type": "code",
   "execution_count": 17,
   "metadata": {
    "collapsed": false
   },
   "outputs": [
    {
     "data": {
      "text/plain": [
       "0.52600000000000002"
      ]
     },
     "execution_count": 17,
     "metadata": {},
     "output_type": "execute_result"
    }
   ],
   "source": [
    "# Number of divergent connections found should be very similar to the ones calculates\n",
    "np.mean(n_div)"
   ]
  },
  {
   "cell_type": "code",
   "execution_count": 18,
   "metadata": {
    "collapsed": false
   },
   "outputs": [
    {
     "data": {
      "text/plain": [
       "0.5267489711934156"
      ]
     },
     "execution_count": 18,
     "metadata": {},
     "output_type": "execute_result"
    }
   ],
   "source": [
    "PC*PC*mydataset.motif['ii_div']['tested'] # null hypothesis"
   ]
  },
  {
   "cell_type": "code",
   "execution_count": 19,
   "metadata": {
    "collapsed": false
   },
   "outputs": [
    {
     "data": {
      "text/plain": [
       "0.56599999999999995"
      ]
     },
     "execution_count": 19,
     "metadata": {},
     "output_type": "execute_result"
    }
   ],
   "source": [
    "np.mean(n_con)"
   ]
  },
  {
   "cell_type": "code",
   "execution_count": 20,
   "metadata": {
    "collapsed": false
   },
   "outputs": [
    {
     "data": {
      "text/plain": [
       "0.5267489711934156"
      ]
     },
     "execution_count": 20,
     "metadata": {},
     "output_type": "execute_result"
    }
   ],
   "source": [
    "PC*PC*mydataset.motif['ii_con']['tested'] # null hypothesis"
   ]
  },
  {
   "cell_type": "markdown",
   "metadata": {},
   "source": [
    "<H2> Simulate random electrical synapses</H2>\n",
    "from a random distribution whose probability is adjusted to the empirical probability found in the recordings."
   ]
  },
  {
   "cell_type": "code",
   "execution_count": 21,
   "metadata": {
    "collapsed": true
   },
   "outputs": [],
   "source": [
    "def myelec_simulation():\n",
    "    \"\"\"\n",
    "    simulate inhibitory electrical connections of the dataset\n",
    "    \n",
    "    Return\n",
    "    ------\n",
    "    A iicounter object \n",
    "    \"\"\"\n",
    "    mycount = iicounter()\n",
    "    for _ in range(PV2):\n",
    "        mycount += iicounter(elec_squarematrix(size=2,prob = PE))\n",
    "\n",
    "    for _ in range(PV3):\n",
    "        mycount += iicounter(elec_squarematrix(size=3, prob = PE))\n",
    "        \n",
    "    return(mycount)"
   ]
  },
  {
   "cell_type": "code",
   "execution_count": 22,
   "metadata": {
    "collapsed": false
   },
   "outputs": [
    {
     "name": "stdout",
     "output_type": "stream",
     "text": [
      "+----------+-------+--------+\n",
      "| Motif    | found | tested |\n",
      "+----------+-------+--------+\n",
      "| ii_c1e   | 0     | 54     |\n",
      "| ii_c2    | 0     | 27     |\n",
      "| ii_c2e   | 0     | 27     |\n",
      "| ii_chain | 0     | 6      |\n",
      "| ii_chem  | 0     | 54     |\n",
      "| ii_con   | 0     | 6      |\n",
      "| ii_div   | 0     | 6      |\n",
      "| ii_elec  | 16    | 27     |\n",
      "+----------+-------+--------+\n",
      "\n"
     ]
    }
   ],
   "source": [
    "print(myelec_simulation()) # one simulation, test the number of connection tested"
   ]
  },
  {
   "cell_type": "code",
   "execution_count": 23,
   "metadata": {
    "collapsed": false
   },
   "outputs": [
    {
     "name": "stdout",
     "output_type": "stream",
     "text": [
      "('ii_chem', {'tested': 54, 'found': 16})\n",
      "('ii_c1e', {'tested': 54, 'found': 8})\n",
      "('ii_div', {'tested': 6, 'found': 1})\n",
      "('ii_c2e', {'tested': 27, 'found': 3})\n",
      "('ii_elec', {'tested': 27, 'found': 13})\n",
      "('ii_chain', {'tested': 6, 'found': 0})\n",
      "('ii_con', {'tested': 6, 'found': 0})\n",
      "('ii_c2', {'tested': 27, 'found': 4})\n"
     ]
    }
   ],
   "source": [
    "# must contain the same number of tested connections\n",
    "for key in myelec_simulation().keys():\n",
    "    print(key, mydataset.motif[key])"
   ]
  },
  {
   "cell_type": "code",
   "execution_count": 24,
   "metadata": {
    "collapsed": true
   },
   "outputs": [],
   "source": [
    "n_elec = list()\n",
    "for _ in range(1000):\n",
    "    syn_elec = myelec_simulation()\n",
    "    n_elec.append(syn_elec['ii_elec']['found'])"
   ]
  },
  {
   "cell_type": "markdown",
   "metadata": {},
   "source": [
    "Similarly, we must see almost the same \n",
    "number of electrical connections as with the experiments"
   ]
  },
  {
   "cell_type": "code",
   "execution_count": 25,
   "metadata": {
    "collapsed": false
   },
   "outputs": [
    {
     "data": {
      "text/plain": [
       "12.949999999999999"
      ]
     },
     "execution_count": 25,
     "metadata": {},
     "output_type": "execute_result"
    }
   ],
   "source": [
    "np.mean(n_elec)"
   ]
  },
  {
   "cell_type": "code",
   "execution_count": 26,
   "metadata": {
    "collapsed": false
   },
   "outputs": [
    {
     "data": {
      "text/plain": [
       "13"
      ]
     },
     "execution_count": 26,
     "metadata": {},
     "output_type": "execute_result"
    }
   ],
   "source": [
    "mydataset.motif.ii_elec_found # voila!"
   ]
  },
  {
   "cell_type": "markdown",
   "metadata": {},
   "source": [
    "<H2>Simulate electrical and chemical synapses independently</H2>"
   ]
  },
  {
   "cell_type": "code",
   "execution_count": 27,
   "metadata": {
    "collapsed": false
   },
   "outputs": [
    {
     "data": {
      "text/plain": [
       "array([[0, 3],\n",
       "       [0, 0]])"
      ]
     },
     "execution_count": 27,
     "metadata": {},
     "output_type": "execute_result"
    }
   ],
   "source": [
    "C = chem_squarematrix(size = 2, prob = PC)\n",
    "E = elec_squarematrix(size = 2, prob = PE)\n",
    "C + E # when a chemical (1) and electrical (2) synapse add , they have the motif 3"
   ]
  },
  {
   "cell_type": "code",
   "execution_count": 28,
   "metadata": {
    "collapsed": false
   },
   "outputs": [],
   "source": [
    "def myii_simulation():\n",
    "    \"\"\"\n",
    "    simulate inhibitory electrical and chemical connections of the dataset\n",
    "    \n",
    "    Return\n",
    "    ------\n",
    "    A iicounter object \n",
    "    \"\"\"\n",
    "    mycount = iicounter()\n",
    "    for _ in range(PV2):\n",
    "        C = chem_squarematrix(size = 2, prob = PC)\n",
    "        E = elec_squarematrix(size = 2, prob = PE)\n",
    "        \n",
    "        S = C + E\n",
    "        x, y = np.where(S==2) # test to eliminate '1' from the oposite direction\n",
    "        mycoor = zip(y,x)\n",
    "        for i,j in mycoor:\n",
    "            if S[i,j]==1:\n",
    "                S[i,j]=3\n",
    "                S[j,i]=0\n",
    "                \n",
    "        mycount += iicounter( S ) \n",
    "\n",
    "    for _ in range(PV3):\n",
    "        C = chem_squarematrix(size = 3, prob = PC)\n",
    "        E = elec_squarematrix(size = 3, prob = PE)\n",
    "\n",
    "        S = C + E\n",
    "        x, y = np.where(S==2) # test to eliminate '1' from the oposite direction\n",
    "        mycoor = zip(y,x)\n",
    "        for i,j in mycoor:\n",
    "            if S[i,j]==1:\n",
    "                S[i,j]=3\n",
    "                S[j,i]=0\n",
    "                \n",
    "        mycount += iicounter( S ) \n",
    "\n",
    "    return(mycount)"
   ]
  },
  {
   "cell_type": "code",
   "execution_count": 29,
   "metadata": {
    "collapsed": false
   },
   "outputs": [
    {
     "data": {
      "text/plain": [
       "{'ii_c1e': {'found': 6, 'tested': 54},\n",
       " 'ii_c2': {'found': 2, 'tested': 27},\n",
       " 'ii_c2e': {'found': 0, 'tested': 27},\n",
       " 'ii_chain': {'found': 1, 'tested': 6},\n",
       " 'ii_chem': {'found': 13, 'tested': 54},\n",
       " 'ii_con': {'found': 1, 'tested': 6},\n",
       " 'ii_div': {'found': 0, 'tested': 6},\n",
       " 'ii_elec': {'found': 12, 'tested': 27}}"
      ]
     },
     "execution_count": 29,
     "metadata": {},
     "output_type": "execute_result"
    }
   ],
   "source": [
    "myii_simulation()# one simulation, again, test the number of connections tested"
   ]
  },
  {
   "cell_type": "code",
   "execution_count": 30,
   "metadata": {
    "collapsed": false
   },
   "outputs": [
    {
     "name": "stdout",
     "output_type": "stream",
     "text": [
      "('ii_chem', {'tested': 54, 'found': 16})\n",
      "('ii_c1e', {'tested': 54, 'found': 8})\n",
      "('ii_div', {'tested': 6, 'found': 1})\n",
      "('ii_c2e', {'tested': 27, 'found': 3})\n",
      "('ii_elec', {'tested': 27, 'found': 13})\n",
      "('ii_chain', {'tested': 6, 'found': 0})\n",
      "('ii_con', {'tested': 6, 'found': 0})\n",
      "('ii_c2', {'tested': 27, 'found': 4})\n"
     ]
    }
   ],
   "source": [
    "# must contain the same number of tested connections\n",
    "for key in myii_simulation().keys():\n",
    "    print(key, mydataset.motif[key])"
   ]
  },
  {
   "cell_type": "code",
   "execution_count": 31,
   "metadata": {
    "collapsed": false
   },
   "outputs": [],
   "source": [
    "# simulate the whole data set 1,000 times\n",
    "n_chem = list()\n",
    "n_elec = list()\n",
    "\n",
    "n_c1e = list()\n",
    "n_c2e = list()\n",
    "\n",
    "n_c2 = list()\n",
    "n_div = list()\n",
    "n_con = list()\n",
    "n_chain = list()\n",
    "\n",
    "for _ in range(1000):\n",
    "    syn_counter = myii_simulation()\n",
    "    n_chem.append( syn_counter['ii_chem']['found'] ) # null hypothesis\n",
    "    n_elec.append( syn_counter['ii_elec']['found'] ) # null hypothesis\n",
    "    \n",
    "    n_c1e.append( syn_counter['ii_c1e']['found'] )\n",
    "    n_c2e.append( syn_counter['ii_c2e']['found'] )\n",
    "    \n",
    "    n_c2.append( syn_counter['ii_c2']['found'])\n",
    "    n_con.append( syn_counter['ii_div']['found'])\n",
    "    n_div.append( syn_counter['ii_div']['found'])\n",
    "    n_chain.append( syn_counter['ii_chain']['found'])"
   ]
  },
  {
   "cell_type": "code",
   "execution_count": 32,
   "metadata": {
    "collapsed": false
   },
   "outputs": [
    {
     "name": "stdout",
     "output_type": "stream",
     "text": [
      "+---------------+-------------+-----------+\n",
      "| Syn Motif     | Simulations | Empirical |\n",
      "+---------------+-------------+-----------+\n",
      "| chemical      | 15.695      | 16        |\n",
      "| electrical    | 13.1        | 13        |\n",
      "|               |             |           |\n",
      "| 2 chem        | 2.302       | 4         |\n",
      "| convergent    | 0.504       | 0         |\n",
      "| divergent     | 0.504       | 1         |\n",
      "| chains        | 1.027       | 0         |\n",
      "|               |             |           |\n",
      "| 1 chem + elec | 7.725       | 8         |\n",
      "| 2 chem + elec | 1.121       | 3         |\n",
      "+---------------+-------------+-----------+\n"
     ]
    }
   ],
   "source": [
    "info = [\n",
    "    ['Syn Motif', 'Simulations', 'Empirical'], \n",
    "    ['chemical', np.mean(n_chem),  mydataset.motif['ii_chem']['found']],\n",
    "    ['electrical', np.mean(n_elec),  mydataset.motif['ii_elec']['found']],\n",
    "    [''],\n",
    "    ['2 chem',np.mean(n_c2),mydataset.motif['ii_c2']['found']],\n",
    "    ['convergent', np.mean(n_con), mydataset.motif['ii_con']['found']],\n",
    "    ['divergent', np.mean(n_div), mydataset.motif['ii_div']['found']],\n",
    "    ['chains', np.mean(n_chain), mydataset.motif['ii_chain']['found']],\n",
    "    [''],\n",
    "    ['1 chem + elec', np.mean(n_c1e),  mydataset.motif['ii_c1e']['found']],\n",
    "    ['2 chem + elec', np.mean(n_c2e),  mydataset.motif['ii_c2e']['found']],\n",
    "     ]\n",
    "print(AsciiTable(info).table)"
   ]
  },
  {
   "cell_type": "markdown",
   "metadata": {},
   "source": [
    "Let's see if the connections found correspond to the theoretical values for the complex motifs. \n"
   ]
  },
  {
   "cell_type": "markdown",
   "metadata": {},
   "source": [
    "<H3>ii_c2: bidirectional chemical connections</H3>"
   ]
  },
  {
   "cell_type": "code",
   "execution_count": 33,
   "metadata": {
    "collapsed": false
   },
   "outputs": [
    {
     "data": {
      "text/plain": [
       "{'found': 4, 'tested': 27}"
      ]
     },
     "execution_count": 33,
     "metadata": {},
     "output_type": "execute_result"
    }
   ],
   "source": [
    "mydataset.motif['ii_c2']"
   ]
  },
  {
   "cell_type": "code",
   "execution_count": 34,
   "metadata": {
    "collapsed": false
   },
   "outputs": [
    {
     "data": {
      "text/plain": [
       "0.2962962962962963"
      ]
     },
     "execution_count": 34,
     "metadata": {},
     "output_type": "execute_result"
    }
   ],
   "source": [
    "PC1 = mydataset.motif.ii_chem_found /mydataset.motif.ii_chem_tested\n",
    "PC1"
   ]
  },
  {
   "cell_type": "code",
   "execution_count": 35,
   "metadata": {
    "collapsed": false
   },
   "outputs": [
    {
     "data": {
      "text/plain": [
       "2.3703703703703702"
      ]
     },
     "execution_count": 35,
     "metadata": {},
     "output_type": "execute_result"
    }
   ],
   "source": [
    "# definition of the null hypothese is based on unidirectional connections\n",
    "(PC1*PC1)*mydataset.motif.ii_c2_tested # this value must be close to the simulation"
   ]
  },
  {
   "cell_type": "markdown",
   "metadata": {},
   "source": [
    "<H3>ii_div: divergent inhibitory connections</H3>"
   ]
  },
  {
   "cell_type": "code",
   "execution_count": 36,
   "metadata": {
    "collapsed": false
   },
   "outputs": [
    {
     "data": {
      "text/plain": [
       "{'found': 1, 'tested': 6}"
      ]
     },
     "execution_count": 36,
     "metadata": {},
     "output_type": "execute_result"
    }
   ],
   "source": [
    "mydataset.motif['ii_div']"
   ]
  },
  {
   "cell_type": "code",
   "execution_count": 37,
   "metadata": {
    "collapsed": false
   },
   "outputs": [
    {
     "data": {
      "text/plain": [
       "0.16666666666666666"
      ]
     },
     "execution_count": 37,
     "metadata": {},
     "output_type": "execute_result"
    }
   ],
   "source": [
    "Pdiv = mydataset.motif.ii_div_found /mydataset.motif.ii_div_tested\n",
    "Pdiv"
   ]
  },
  {
   "cell_type": "code",
   "execution_count": 38,
   "metadata": {
    "collapsed": false
   },
   "outputs": [
    {
     "data": {
      "text/plain": [
       "0.5267489711934156"
      ]
     },
     "execution_count": 38,
     "metadata": {},
     "output_type": "execute_result"
    }
   ],
   "source": [
    "# definition of the null hypothese is based on unidirectional connections\n",
    "(PC1*PC1)*mydataset.motif.ii_div_tested # this value must be close to the simulation"
   ]
  },
  {
   "cell_type": "markdown",
   "metadata": {},
   "source": [
    "<H3>ce1: unidirectional chemical connections in the presence of an electrical synapse</H3>"
   ]
  },
  {
   "cell_type": "code",
   "execution_count": 39,
   "metadata": {
    "collapsed": false
   },
   "outputs": [
    {
     "data": {
      "text/plain": [
       "{'found': 8, 'tested': 54}"
      ]
     },
     "execution_count": 39,
     "metadata": {},
     "output_type": "execute_result"
    }
   ],
   "source": [
    "mydataset.motif['ii_c1e']"
   ]
  },
  {
   "cell_type": "code",
   "execution_count": 40,
   "metadata": {
    "collapsed": false
   },
   "outputs": [
    {
     "data": {
      "text/plain": [
       "0.14814814814814814"
      ]
     },
     "execution_count": 40,
     "metadata": {},
     "output_type": "execute_result"
    }
   ],
   "source": [
    "PCE1 = mydataset.motif.ii_c1e_found /mydataset.motif.ii_c1e_tested\n",
    "PCE1"
   ]
  },
  {
   "cell_type": "code",
   "execution_count": 41,
   "metadata": {
    "collapsed": false
   },
   "outputs": [
    {
     "data": {
      "text/plain": [
       "7.703703703703702"
      ]
     },
     "execution_count": 41,
     "metadata": {},
     "output_type": "execute_result"
    }
   ],
   "source": [
    "# definition of the null hypothese\n",
    "(PC*PE)*mydataset.motif.ii_c1e_tested # this value must be close to the simulation"
   ]
  },
  {
   "cell_type": "markdown",
   "metadata": {},
   "source": [
    "<H3>ce2: bidirectional chemical connections in the presence of an electrical synapse</H3>"
   ]
  },
  {
   "cell_type": "code",
   "execution_count": 42,
   "metadata": {
    "collapsed": false
   },
   "outputs": [
    {
     "data": {
      "text/plain": [
       "{'found': 3, 'tested': 27}"
      ]
     },
     "execution_count": 42,
     "metadata": {},
     "output_type": "execute_result"
    }
   ],
   "source": [
    "mydataset.motif['ii_c2e']"
   ]
  },
  {
   "cell_type": "code",
   "execution_count": 43,
   "metadata": {
    "collapsed": false
   },
   "outputs": [
    {
     "data": {
      "text/plain": [
       "0.1111111111111111"
      ]
     },
     "execution_count": 43,
     "metadata": {},
     "output_type": "execute_result"
    }
   ],
   "source": [
    "PCE2 = mydataset.motif.ii_c2e_found /mydataset.motif.ii_c2e_tested\n",
    "PCE2"
   ]
  },
  {
   "cell_type": "code",
   "execution_count": 44,
   "metadata": {
    "collapsed": false
   },
   "outputs": [
    {
     "data": {
      "text/plain": [
       "1.1412894375857336"
      ]
     },
     "execution_count": 44,
     "metadata": {},
     "output_type": "execute_result"
    }
   ],
   "source": [
    "(PE*PC*PC)*mydataset.motif.ii_c2e_tested # this value must be close to the simulation"
   ]
  },
  {
   "cell_type": "markdown",
   "metadata": {
    "collapsed": true
   },
   "source": [
    "<H2>Calculating P-Values</H2>"
   ]
  },
  {
   "cell_type": "code",
   "execution_count": 45,
   "metadata": {
    "collapsed": false
   },
   "outputs": [],
   "source": [
    "n_chem = np.array(n_chem)\n",
    "n_elec = np.array(n_elec)\n",
    "\n",
    "\n",
    "n_c2 = np.array(n_c2)\n",
    "n_con = np.array(n_con)\n",
    "n_div = np.array(n_div)\n",
    "n_chain = np.array(n_chain)\n",
    "\n",
    "n_c1e = np.array(n_c1e)\n",
    "n_c2e = np.array(n_c2e)"
   ]
  },
  {
   "cell_type": "code",
   "execution_count": 46,
   "metadata": {
    "collapsed": false
   },
   "outputs": [],
   "source": [
    "pii_chem = len(n_chem[n_chem>mydataset.motif.ii_chem_found]) / n_chem.size\n",
    "pii_elec = len(n_elec[n_elec>mydataset.motif.ii_elec_found])/ n_elec.size\n",
    "\n",
    "\n",
    "\n",
    "pii_c2 =  len(n_c2[n_c2>mydataset.motif.ii_c2_found])/ n_c2.size\n",
    "pii_con = len(n_con[n_con>mydataset.motif.ii_con_found])/n_con.size\n",
    "pii_div = len(n_div[n_div>mydataset.motif.ii_div_found])/n_div.size\n",
    "pii_chain = len(n_chain[n_chain>mydataset.motif.ii_chain_found])/n_chain.size\n",
    "\n",
    "pii_c1e = len(n_c1e[n_c1e>mydataset.motif.ii_c1e_found])/ n_c1e.size\n",
    "pii_c2e = len(n_c2e[n_c2e>mydataset.motif.ii_c2e_found])/ n_c2e.size"
   ]
  },
  {
   "cell_type": "code",
   "execution_count": 47,
   "metadata": {
    "collapsed": false
   },
   "outputs": [
    {
     "name": "stdout",
     "output_type": "stream",
     "text": [
      "+-----------------+-------------+-----------+----------------+\n",
      "| Syn Motif       | Simulations | Empirical | P(Simulations) |\n",
      "+-----------------+-------------+-----------+----------------+\n",
      "| chemical        | 15.695      | 16        | 0.407          |\n",
      "| electrical      | 13.1        | 13        | 0.443          |\n",
      "|                 |             |           |                |\n",
      "| 2 chem bidirect | 2.302       | 4         | 0.073          |\n",
      "| convergent      | 0.504       | 0         | 0.412          |\n",
      "| divergent       | 0.504       | 1         | 0.085          |\n",
      "| chain           | 1.027       | 0         | 0.623          |\n",
      "|                 |             |           |                |\n",
      "| 1 chem + elec   | 7.725       | 8         | 0.365          |\n",
      "| 2 chem + elec   | 1.121       | 3         | 0.03           |\n",
      "+-----------------+-------------+-----------+----------------+\n"
     ]
    }
   ],
   "source": [
    "info = [\n",
    "    ['Syn Motif', 'Simulations', 'Empirical', 'P(Simulations)'], \n",
    "    ['chemical', np.mean(n_chem),  mydataset.motif.ii_chem_found, pii_chem],\n",
    "    ['electrical', np.mean(n_elec),  mydataset.motif.ii_elec_found, pii_elec],\n",
    "    [''],\n",
    "    ['2 chem bidirect', np.mean(n_c2),  mydataset.motif.ii_c2_found, pii_c2],\n",
    "    ['convergent', np.mean(n_con),  mydataset.motif.ii_con_found, pii_con],    \n",
    "    ['divergent', np.mean(n_div), mydataset.motif.ii_div_found, pii_div],\n",
    "    ['chain', np.mean(n_chain), mydataset.motif.ii_chain_found, pii_chain],    \n",
    "    [''],\n",
    "    ['1 chem + elec', np.mean(n_c1e),  mydataset.motif.ii_c1e_found, pii_c1e],\n",
    "    ['2 chem + elec', np.mean(n_c2e),  mydataset.motif.ii_c2e_found, pii_c2e],\n",
    "     ]\n",
    "print(AsciiTable(info).table)"
   ]
  },
  {
   "cell_type": "code",
   "execution_count": 48,
   "metadata": {
    "collapsed": false
   },
   "outputs": [],
   "source": [
    "from inet.plots import barplot"
   ]
  },
  {
   "cell_type": "markdown",
   "metadata": {},
   "source": [
    "<H2> Plot chemical synapses alone</H2>"
   ]
  },
  {
   "cell_type": "code",
   "execution_count": 49,
   "metadata": {
    "collapsed": false
   },
   "outputs": [
    {
     "data": {
      "text/plain": [
       "(0.0, 20)"
      ]
     },
     "execution_count": 49,
     "metadata": {},
     "output_type": "execute_result"
    },
    {
     "data": {
      "image/png": "[encoded data removed]",
      "text/plain": [
       "<matplotlib.figure.Figure at 0x7fe21434b390>"
      ]
     },
     "metadata": {},
     "output_type": "display_data"
    }
   ],
   "source": [
    "# This is our null hypothesis\n",
    "fig = figure()\n",
    "ax = fig.add_subplot(111)\n",
    "\n",
    "ax = barplot(simulation = n_chem, n_found = mydataset.motif.ii_chem_found);\n",
    "ax.set_title('Chemical synapses');\n",
    "ax.set_ylim(ymax=20);\n",
    "\n",
    "#fig.savefig('ii_chem.pdf')"
   ]
  },
  {
   "cell_type": "markdown",
   "metadata": {},
   "source": [
    "<H2>Plot electrical synapses alone </H2>"
   ]
  },
  {
   "cell_type": "code",
   "execution_count": 50,
   "metadata": {
    "collapsed": false
   },
   "outputs": [
    {
     "data": {
      "text/plain": [
       "(0.0, 20)"
      ]
     },
     "execution_count": 50,
     "metadata": {},
     "output_type": "execute_result"
    },
    {
     "data": {
      "image/png": "[encoded data removed]",
      "text/plain": [
       "<matplotlib.figure.Figure at 0x7fe2143018d0>"
      ]
     },
     "metadata": {},
     "output_type": "display_data"
    }
   ],
   "source": [
    "fig = figure()\n",
    "ax = fig.add_subplot(111)\n",
    "\n",
    "ax = barplot(simulation = n_elec, n_found = mydataset.motif.ii_elec_found);\n",
    "ax.set_title('Electrical synapses');\n",
    "ax.set_ylim(ymax=20);\n",
    "\n",
    "#fig.savefig('ii_elec.pdf')"
   ]
  },
  {
   "cell_type": "markdown",
   "metadata": {},
   "source": [
    "<H2>Plot bidirectional chemical synapses</H2>\n"
   ]
  },
  {
   "cell_type": "code",
   "execution_count": 51,
   "metadata": {
    "collapsed": false
   },
   "outputs": [
    {
     "data": {
      "text/plain": [
       "(0.0, 10)"
      ]
     },
     "execution_count": 51,
     "metadata": {},
     "output_type": "execute_result"
    },
    {
     "data": {
      "image/png": "[encoded data removed]",
      "text/plain": [
       "<matplotlib.figure.Figure at 0x7fe21426e110>"
      ]
     },
     "metadata": {},
     "output_type": "display_data"
    }
   ],
   "source": [
    "fig = figure()\n",
    "ax = fig.add_subplot(111)\n",
    "\n",
    "ax = barplot(simulation = n_c2, n_found = mydataset.motif.ii_c2_found);\n",
    "ax.set_title('Bidirectional chemical');\n",
    "ax.set_ylim(ymax=10);\n",
    "\n",
    "#fig.savefig('ii_c2.pdf')"
   ]
  },
  {
   "cell_type": "markdown",
   "metadata": {},
   "source": [
    "<H2>Plot convergent inhibitory</H2>"
   ]
  },
  {
   "cell_type": "code",
   "execution_count": 52,
   "metadata": {
    "collapsed": false
   },
   "outputs": [
    {
     "data": {
      "image/png": "[encoded data removed]",
      "text/plain": [
       "<matplotlib.figure.Figure at 0x7fe21419d990>"
      ]
     },
     "metadata": {},
     "output_type": "display_data"
    }
   ],
   "source": [
    "fig = figure()\n",
    "ax = fig.add_subplot(111)\n",
    "\n",
    "ax = barplot(simulation = n_con, n_found = mydataset.motif.ii_con_found);\n",
    "ax.set_title('Convergent inhibitory');\n",
    "ax.set_ylim(ymin=0, ymax=2);\n"
   ]
  },
  {
   "cell_type": "markdown",
   "metadata": {},
   "source": [
    "<H2> Plot divergent inhibitory </H2>"
   ]
  },
  {
   "cell_type": "code",
   "execution_count": 53,
   "metadata": {
    "collapsed": false
   },
   "outputs": [
    {
     "data": {
      "text/plain": [
       "(0, 5)"
      ]
     },
     "execution_count": 53,
     "metadata": {},
     "output_type": "execute_result"
    },
    {
     "data": {
      "image/png": "[encoded data removed]",
      "text/plain": [
       "<matplotlib.figure.Figure at 0x7fe2140cb1d0>"
      ]
     },
     "metadata": {},
     "output_type": "display_data"
    }
   ],
   "source": [
    "fig = figure()\n",
    "ax = fig.add_subplot(111)\n",
    "\n",
    "ax = barplot(simulation = n_div, n_found = mydataset.motif.ii_div_found);\n",
    "ax.set_title('Divergent inhibitory');\n",
    "ax.set_ylim(ymin=0, ymax=5);\n",
    "\n",
    "#fig.savefig('ii_c1e.pdf')"
   ]
  },
  {
   "cell_type": "markdown",
   "metadata": {},
   "source": [
    "<H2>Plot linear chains</H2>"
   ]
  },
  {
   "cell_type": "code",
   "execution_count": 54,
   "metadata": {
    "collapsed": false
   },
   "outputs": [
    {
     "data": {
      "image/png": "[encoded data removed]",
      "text/plain": [
       "<matplotlib.figure.Figure at 0x7fe21405e650>"
      ]
     },
     "metadata": {},
     "output_type": "display_data"
    }
   ],
   "source": [
    "fig = figure()\n",
    "ax = fig.add_subplot(111)\n",
    "\n",
    "ax = barplot(simulation = n_chain, n_found = mydataset.motif.ii_chain_found);\n",
    "ax.set_title('Linear chains');\n",
    "ax.set_ylim(ymin=0, ymax=5);\n"
   ]
  },
  {
   "cell_type": "markdown",
   "metadata": {},
   "source": [
    "<H2>Plot electrical and one chemical synapse alone </H2>"
   ]
  },
  {
   "cell_type": "code",
   "execution_count": 55,
   "metadata": {
    "collapsed": false
   },
   "outputs": [
    {
     "data": {
      "text/plain": [
       "(0.0, 12)"
      ]
     },
     "execution_count": 55,
     "metadata": {},
     "output_type": "execute_result"
    },
    {
     "data": {
      "image/png": "[encoded data removed]",
      "text/plain": [
       "<matplotlib.figure.Figure at 0x7fe20bf4ad50>"
      ]
     },
     "metadata": {},
     "output_type": "display_data"
    }
   ],
   "source": [
    "fig = figure()\n",
    "ax = fig.add_subplot(111)\n",
    "\n",
    "ax = barplot(simulation = n_c1e, n_found = mydataset.motif.ii_c1e_found);\n",
    "ax.set_title('Electrical and one chemical');\n",
    "ax.set_ylim(ymax=12);\n",
    "\n",
    "#fig.savefig('ii_c1e.pdf')"
   ]
  },
  {
   "cell_type": "markdown",
   "metadata": {},
   "source": [
    "<H2>Plot electrical and two chemical</H2>"
   ]
  },
  {
   "cell_type": "code",
   "execution_count": 56,
   "metadata": {
    "collapsed": false
   },
   "outputs": [
    {
     "data": {
      "text/plain": [
       "(0, 5)"
      ]
     },
     "execution_count": 56,
     "metadata": {},
     "output_type": "execute_result"
    },
    {
     "data": {
      "image/png": "[encoded data removed]",
      "text/plain": [
       "<matplotlib.figure.Figure at 0x7fe20be6a410>"
      ]
     },
     "metadata": {},
     "output_type": "display_data"
    }
   ],
   "source": [
    "fig = figure(5)\n",
    "ax = fig.add_subplot(111)\n",
    "\n",
    "ax = barplot(simulation = n_c2e, n_found = mydataset.motif.ii_c2e_found);\n",
    "ax.set_title('Electrical and two chemical');\n",
    "ax.set_ylim(ymin  = 0, ymax=5);\n",
    "\n",
    "#fig.savefig('ii_c2d.pdf')"
   ]
  },
  {
   "cell_type": "code",
   "execution_count": null,
   "metadata": {
    "collapsed": true
   },
   "outputs": [],
   "source": []
  }
 ],
 "metadata": {
  "kernelspec": {
   "display_name": "Python 2",
   "language": "python",
   "name": "python2"
  },
  "language_info": {
   "codemirror_mode": {
    "name": "ipython",
    "version": 2
   },
   "file_extension": ".py",
   "mimetype": "text/x-python",
   "name": "python",
   "nbconvert_exporter": "python",
   "pygments_lexer": "ipython2",
   "version": "2.7.12"
  }
 },
 "nbformat": 4,
 "nbformat_minor": 0
}
