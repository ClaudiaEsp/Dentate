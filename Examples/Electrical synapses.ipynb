{
 "cells": [
  {
   "cell_type": "markdown",
   "metadata": {},
   "source": [
    "<H1> Electrical Synapses</H1>\n",
    "\n",
    "<P>\n",
    "We will test whether the probability of electrical and chemical synapses is simply\n",
    "the product of the probability of these synapses alone. If not, it will mean the that presence of both types of synapses in one connection rely on a common mechanism, and it is therefore associated with a connectivity motif.<P>\n",
    "\n",
    "Let $P(E) = P(E=1)$ be the probability of having an electrical synapse and $P(C) = P(C=1)$ the probability of having a chemical synapse. Our null hypothesis is:\n",
    "\n",
    "$H_0: P(E \\cap C) = P(E) \\cdot P(C),$\n",
    "\n",
    "If $P(E)$ and $P(C)$ are independent, then the probability of them both occurring is the product of the probabilities of each occurring alone."
   ]
  },
  {
   "cell_type": "code",
   "execution_count": 1,
   "metadata": {
    "collapsed": true
   },
   "outputs": [],
   "source": [
    "import numpy as np"
   ]
  },
  {
   "cell_type": "code",
   "execution_count": 1,
   "metadata": {
    "collapsed": false
   },
   "outputs": [
    {
     "name": "stdout",
     "output_type": "stream",
     "text": [
      " 161 syn  files loaded\n"
     ]
    }
   ],
   "source": [
    "from inet import DataLoader\n",
    "mydataset = DataLoader('../data/')"
   ]
  },
  {
   "cell_type": "code",
   "execution_count": 2,
   "metadata": {
    "collapsed": false
   },
   "outputs": [
    {
     "name": "stdout",
     "output_type": "stream",
     "text": [
      "+-------------------------------------------------+-----------------+\n",
      "| Connection type                                 | Value           |\n",
      "+-------------------------------------------------+-----------------+\n",
      "| PV-PV chemical synapses                         | 14              |\n",
      "| PV-PV electrical synapses                       | 11              |\n",
      "| PV-PV one chemical with electrical              | 7               |\n",
      "| PV-PV bidirectional chemical with electrical    | 3               |\n",
      "|                                                 |                 |\n",
      "| P(PV-PV) chemical synapse                       | 0.291666666667  |\n",
      "| P(PV-PV) electrical synapse                     | 0.458333333333  |\n",
      "| P(PV-PV) one chemical with electrical           | 0.145833333333  |\n",
      "| P(PV-PV) bidirectional chemical with electrical | 0.125           |\n",
      "|                                                 |                 |\n",
      "| PV-GC chemical synapses                         | 241             |\n",
      "| GC-PC chemical synapses                         | 81              |\n",
      "|                                                 |                 |\n",
      "| P(PV-GC) chemical synapse                       | 0.258583690987  |\n",
      "| P(GC-PC) chemical synapse                       | 0.0869098712446 |\n",
      "|                                                 |                 |\n",
      "+-------------------------------------------------+-----------------+\n"
     ]
    }
   ],
   "source": [
    "mydataset.stats('prob')"
   ]
  },
  {
   "cell_type": "code",
   "execution_count": 3,
   "metadata": {
    "collapsed": true
   },
   "outputs": [],
   "source": [
    "from __future__ import division"
   ]
  },
  {
   "cell_type": "markdown",
   "metadata": {},
   "source": [
    "<H2>Electrical synapses with unidirectional chemical synapses</H2>"
   ]
  },
  {
   "cell_type": "code",
   "execution_count": 5,
   "metadata": {
    "collapsed": false
   },
   "outputs": [
    {
     "name": "stdout",
     "output_type": "stream",
     "text": [
      "P(C) chemical synapse    = 0.2917\n",
      "P(E) electrical synapse  = 0.4583\n",
      "P(C and E) both synapses = 0.1458\n"
     ]
    }
   ],
   "source": [
    "PC = mydataset.II_chem_found/mydataset.II_chem_tested\n",
    "PE = mydataset.II_elec_found/mydataset.II_elec_tested\n",
    "Pboth = mydataset.II_ce1_found/mydataset.II_ce1_tested\n",
    "print('P(C) chemical synapse    = %2.4f' %PC)\n",
    "print('P(E) electrical synapse  = %2.4f' %PE)\n",
    "print('P(C and E) both synapses = %2.4f' %Pboth)"
   ]
  },
  {
   "cell_type": "markdown",
   "metadata": {},
   "source": [
    "This probablity is less than the produc of chemical and electrical synapses, suggesting that the motifs of chemical and electrical together is distint."
   ]
  },
  {
   "cell_type": "code",
   "execution_count": 6,
   "metadata": {
    "collapsed": false
   },
   "outputs": [
    {
     "data": {
      "text/plain": [
       "0.13368055555555555"
      ]
     },
     "execution_count": 6,
     "metadata": {},
     "output_type": "execute_result"
    }
   ],
   "source": [
    "PCE = PC * PE\n",
    "PCE"
   ]
  },
  {
   "cell_type": "markdown",
   "metadata": {},
   "source": [
    "When applying this probability to the number of connections tested between PV cells\n",
    "we find less than the ones found empirically "
   ]
  },
  {
   "cell_type": "code",
   "execution_count": 8,
   "metadata": {
    "collapsed": false
   },
   "outputs": [
    {
     "data": {
      "text/plain": [
       "6.416666666666666"
      ]
     },
     "execution_count": 8,
     "metadata": {},
     "output_type": "execute_result"
    }
   ],
   "source": [
    "PCE*mydataset.II_ce1_tested"
   ]
  },
  {
   "cell_type": "code",
   "execution_count": 9,
   "metadata": {
    "collapsed": false
   },
   "outputs": [
    {
     "data": {
      "text/plain": [
       "7"
      ]
     },
     "execution_count": 9,
     "metadata": {},
     "output_type": "execute_result"
    }
   ],
   "source": [
    "mydataset.II_ce1_found"
   ]
  },
  {
   "cell_type": "markdown",
   "metadata": {},
   "source": [
    "<H2>Electrical synapses with bidirectional chemical synapses</H2>\n"
   ]
  },
  {
   "cell_type": "code",
   "execution_count": 15,
   "metadata": {
    "collapsed": false
   },
   "outputs": [
    {
     "name": "stdout",
     "output_type": "stream",
     "text": [
      "P(C) chemical synapse    = 0.2917\n",
      "P(E) electrical synapse  = 0.4583\n",
      "P(E U bidirectional)  = 0.1250\n"
     ]
    }
   ],
   "source": [
    "PC = mydataset.II_chem_found/mydataset.II_chem_tested\n",
    "PE = mydataset.II_elec_found/mydataset.II_elec_tested\n",
    "Pboth = mydataset.II_ce2_found/mydataset.II_ce2_tested\n",
    "print('P(C) chemical synapse    = %2.4f' %PC)\n",
    "print('P(E) electrical synapse  = %2.4f' %PE)\n",
    "print('P(E U bidirectional)  = %2.4f' %Pboth)"
   ]
  },
  {
   "cell_type": "code",
   "execution_count": 16,
   "metadata": {
    "collapsed": false
   },
   "outputs": [
    {
     "data": {
      "text/plain": [
       "0.03899016203703704"
      ]
     },
     "execution_count": 16,
     "metadata": {},
     "output_type": "execute_result"
    }
   ],
   "source": [
    "PCE = PE * PC * PC\n",
    "PCE"
   ]
  },
  {
   "cell_type": "markdown",
   "metadata": {},
   "source": [
    "When applying this probability to the number of connections tested between PV cells we find less than the ones found empirically"
   ]
  },
  {
   "cell_type": "code",
   "execution_count": 17,
   "metadata": {
    "collapsed": false
   },
   "outputs": [
    {
     "data": {
      "text/plain": [
       "0.9357638888888891"
      ]
     },
     "execution_count": 17,
     "metadata": {},
     "output_type": "execute_result"
    }
   ],
   "source": [
    "PCE*mydataset.II_ce2_tested"
   ]
  },
  {
   "cell_type": "code",
   "execution_count": 18,
   "metadata": {
    "collapsed": false
   },
   "outputs": [
    {
     "data": {
      "text/plain": [
       "3"
      ]
     },
     "execution_count": 18,
     "metadata": {},
     "output_type": "execute_result"
    }
   ],
   "source": [
    "mydataset.II_ce2_found"
   ]
  },
  {
   "cell_type": "markdown",
   "metadata": {},
   "source": [
    "<H2>How significant is that value found??? </H2>\n",
    "\n",
    "We will calculate the P-Value for the null hypothesis that the number of motifs found comes from the combined probability of chemical and electrical synapses alone.\n",
    "\n"
   ]
  }
 ],
 "metadata": {
  "kernelspec": {
   "display_name": "Python 2",
   "language": "python",
   "name": "python2"
  },
  "language_info": {
   "codemirror_mode": {
    "name": "ipython",
    "version": 2
   },
   "file_extension": ".py",
   "mimetype": "text/x-python",
   "name": "python",
   "nbconvert_exporter": "python",
   "pygments_lexer": "ipython2",
   "version": "2.7.12"
  }
 },
 "nbformat": 4,
 "nbformat_minor": 0
}
