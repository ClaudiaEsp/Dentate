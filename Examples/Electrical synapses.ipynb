{
 "cells": [
  {
   "cell_type": "markdown",
   "metadata": {},
   "source": [
    "<H1> Electrical Synapses</H1>\n",
    "\n",
    "<P>\n",
    "We will test whether the probability of electrical and chemical synapses is simply\n",
    "the product of the probability of these synapses alone. If not, it will mean the that presence of both types of synapses in one connection rely on a common mechanism, and it is therefore associated with a connectivity motif.<P>\n",
    "\n",
    "Let $P(E) = P(E=1)$ be the probability of having an electrical synapse and $P(C) = P(C=1)$ the probability of having a chemical synapse. Our null hypothesis is:\n",
    "\n",
    "$H_0: P(E \\cap C) = P(E) \\cdot P(C),$\n",
    "\n",
    "If $P(E)$ and $P(C)$ are independent, then the probability of them both occurring is the product of the probabilities of each occurring alone."
   ]
  },
  {
   "cell_type": "code",
   "execution_count": 1,
   "metadata": {
    "collapsed": true
   },
   "outputs": [],
   "source": [
    "import numpy as np"
   ]
  },
  {
   "cell_type": "code",
   "execution_count": 2,
   "metadata": {
    "collapsed": false
   },
   "outputs": [
    {
     "name": "stdout",
     "output_type": "stream",
     "text": [
      " 158 syn  files loaded\n"
     ]
    }
   ],
   "source": [
    "from inet import DataLoader\n",
    "mydataset = DataLoader('../data/')"
   ]
  },
  {
   "cell_type": "code",
   "execution_count": 3,
   "metadata": {
    "collapsed": false
   },
   "outputs": [
    {
     "name": "stdout",
     "output_type": "stream",
     "text": [
      "+------------------------------+-----------------+\n",
      "| Connection type              | Value           |\n",
      "+------------------------------+-----------------+\n",
      "| PV-PV chemical synapses      | 12              |\n",
      "| PV-PV electrical synapses    | 16              |\n",
      "| PV-PV both synapses together | 6               |\n",
      "| PV-GC synapses               | 240             |\n",
      "| GC-PC synapses               | 81              |\n",
      "|                              |                 |\n",
      "| P(PV-PV) connection          | 0.491228070175  |\n",
      "| P(PV-GC) connection          | 0.260021668472  |\n",
      "| P(GC-PC) connection          | 0.0877573131094 |\n",
      "|                              |                 |\n",
      "| P(PV-PV) chemical synapse    | 0.315789473684  |\n",
      "| P(PV-PV) electrical synapse  | 0.842105263158  |\n",
      "| P(PV-PV) both synapse        | 0.315789473684  |\n",
      "+------------------------------+-----------------+\n"
     ]
    }
   ],
   "source": [
    "mydataset.stats('prob')"
   ]
  },
  {
   "cell_type": "code",
   "execution_count": 5,
   "metadata": {
    "collapsed": true
   },
   "outputs": [],
   "source": [
    "from __future__ import division"
   ]
  },
  {
   "cell_type": "code",
   "execution_count": 6,
   "metadata": {
    "collapsed": false
   },
   "outputs": [
    {
     "name": "stdout",
     "output_type": "stream",
     "text": [
      "P(C) chemical synapse    = 0.3158\n",
      "P(E) electrical synapse  = 0.8421\n",
      "P(C and E) both synapses = 0.3158\n"
     ]
    }
   ],
   "source": [
    "PC = mydataset.II_chem_found/mydataset.II_chem_tested\n",
    "PE = mydataset.II_elec_found/mydataset.II_elec_tested\n",
    "Pboth = mydataset.II_both_found/mydataset.II_both_tested\n",
    "print('P(C) chemical synapse    = %2.4f' %PC)\n",
    "print('P(E) electrical synapse  = %2.4f' %PE)\n",
    "print('P(C and E) both synapses = %2.4f' %Pboth)"
   ]
  },
  {
   "cell_type": "markdown",
   "metadata": {},
   "source": [
    "This probablity is less than the produc of chemical and electrical synapses, suggesting that the motifs of chemical and electrical together is distint."
   ]
  },
  {
   "cell_type": "code",
   "execution_count": 8,
   "metadata": {
    "collapsed": false
   },
   "outputs": [
    {
     "data": {
      "text/plain": [
       "0.25925925925925924"
      ]
     },
     "execution_count": 8,
     "metadata": {},
     "output_type": "execute_result"
    }
   ],
   "source": [
    "PCE = PC * PE\n",
    "PCE"
   ]
  },
  {
   "cell_type": "markdown",
   "metadata": {},
   "source": [
    "When applying this probability to the number of connections tested between PV cells\n",
    "we find less than the ones found empirically "
   ]
  },
  {
   "cell_type": "code",
   "execution_count": 9,
   "metadata": {
    "collapsed": false
   },
   "outputs": [
    {
     "data": {
      "text/plain": [
       "4.666666666666666"
      ]
     },
     "execution_count": 9,
     "metadata": {},
     "output_type": "execute_result"
    }
   ],
   "source": [
    "PCE*mydataset.II_both_tested"
   ]
  },
  {
   "cell_type": "code",
   "execution_count": 10,
   "metadata": {
    "collapsed": false
   },
   "outputs": [
    {
     "data": {
      "text/plain": [
       "6"
      ]
     },
     "execution_count": 10,
     "metadata": {},
     "output_type": "execute_result"
    }
   ],
   "source": [
    "mydataset.II_both_found"
   ]
  },
  {
   "cell_type": "markdown",
   "metadata": {},
   "source": [
    "<H2>How significant is that value found??? </H2>\n",
    "\n",
    "We will calculate the P-Value for the null hypothesis that the number of motifs found comes from the combined probability of chemical and electrical synapses alone.\n",
    "\n"
   ]
  },
  {
   "cell_type": "code",
   "execution_count": 11,
   "metadata": {
    "collapsed": false
   },
   "outputs": [
    {
     "data": {
      "text/plain": [
       "[0, 127, 15, 1, 0, 0, 0, 0, 0]"
      ]
     },
     "execution_count": 11,
     "metadata": {},
     "output_type": "execute_result"
    }
   ],
   "source": [
    "# get the number of simulatenous PV cells recorded\n",
    "nPV = [ np.sum(mydataset.PV[i].values()) for i in range(9)]\n",
    "nPV"
   ]
  },
  {
   "cell_type": "markdown",
   "metadata": {},
   "source": [
    "for example, to see how may times 2 PV cells were recorded simulatenously "
   ]
  },
  {
   "cell_type": "code",
   "execution_count": 12,
   "metadata": {
    "collapsed": false
   },
   "outputs": [
    {
     "data": {
      "text/plain": [
       "15"
      ]
     },
     "execution_count": 12,
     "metadata": {},
     "output_type": "execute_result"
    }
   ],
   "source": [
    "nPV[2]"
   ]
  },
  {
   "cell_type": "code",
   "execution_count": null,
   "metadata": {
    "collapsed": false
   },
   "outputs": [],
   "source": [
    "# simulate one whole dataset at the empirical connection probabilities\n",
    "nPV[2]*(2*1)"
   ]
  },
  {
   "cell_type": "markdown",
   "metadata": {},
   "source": [
    "Simulate one whole dataset of connections"
   ]
  },
  {
   "cell_type": "code",
   "execution_count": null,
   "metadata": {
    "collapsed": true
   },
   "outputs": [],
   "source": []
  }
 ],
 "metadata": {
  "kernelspec": {
   "display_name": "Python 2",
   "language": "python",
   "name": "python2"
  },
  "language_info": {
   "codemirror_mode": {
    "name": "ipython",
    "version": 2
   },
   "file_extension": ".py",
   "mimetype": "text/x-python",
   "name": "python",
   "nbconvert_exporter": "python",
   "pygments_lexer": "ipython2",
   "version": "2.7.12"
  }
 },
 "nbformat": 4,
 "nbformat_minor": 0
}
