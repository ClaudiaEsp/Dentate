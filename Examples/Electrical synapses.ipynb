{
 "cells": [
  {
   "cell_type": "markdown",
   "metadata": {},
   "source": [
    "<H1> Electrical Synapses</H1>\n",
    "We will test whether the probability of electrical and chemical synapses is simply\n",
    "the product of the probability of electrical and chemical synapses alone. If not, it will mean the that presence of both types of synapses in one connection represent a different mechanism, and is associated with a connectivity motif."
   ]
  },
  {
   "cell_type": "code",
   "execution_count": 1,
   "metadata": {
    "collapsed": false
   },
   "outputs": [
    {
     "name": "stdout",
     "output_type": "stream",
     "text": [
      " 143 syn  files loaded\n"
     ]
    }
   ],
   "source": [
    "from inet import DataLoader\n",
    "mydataset = DataLoader('../data/')"
   ]
  },
  {
   "cell_type": "code",
   "execution_count": 2,
   "metadata": {
    "collapsed": false
   },
   "outputs": [
    {
     "name": "stdout",
     "output_type": "stream",
     "text": [
      "+------------------------------+-----------------+\n",
      "| Connection type              | Value           |\n",
      "+------------------------------+-----------------+\n",
      "| PV-PV chemical synapses      | 12              |\n",
      "| PV-PV electrical synapses    | 14              |\n",
      "| PV-PV both synapses together | 6               |\n",
      "| PV-GC synapses               | 216             |\n",
      "| GC-PC synapses               | 76              |\n",
      "|                              |                 |\n",
      "| P(PV-PV) connection          | 0.481481481481  |\n",
      "| P(PV-GC) connection          | 0.260240963855  |\n",
      "| P(GC-PC) connection          | 0.0915662650602 |\n",
      "|                              |                 |\n",
      "| P(PV-PV) chemical synapse    | 0.333333333333  |\n",
      "| P(PV-PV) electrical synapse  | 0.777777777778  |\n",
      "| P(PV-PV) both synapse        | 0.333333333333  |\n",
      "+------------------------------+-----------------+\n"
     ]
    }
   ],
   "source": [
    "mydataset.stats('prob')"
   ]
  },
  {
   "cell_type": "code",
   "execution_count": 3,
   "metadata": {
    "collapsed": true
   },
   "outputs": [],
   "source": [
    "from __future__ import division"
   ]
  },
  {
   "cell_type": "code",
   "execution_count": 4,
   "metadata": {
    "collapsed": false
   },
   "outputs": [
    {
     "name": "stdout",
     "output_type": "stream",
     "text": [
      "('P chemical synapse', 0.3333333333333333)\n",
      "('P electrical synapse', 0.7777777777777778)\n",
      "('P both synapse', 0.3333333333333333)\n"
     ]
    }
   ],
   "source": [
    "Pchem = mydataset.II_chem_found/mydataset.II_chem_tested\n",
    "Pelec = mydataset.II_elec_found/mydataset.II_elec_tested\n",
    "Pboth = mydataset.II_both_found/mydataset.II_both_tested\n",
    "print('P chemical synapse' , Pchem)\n",
    "print('P electrical synapse', Pelec)\n",
    "print('P both synapse', Pboth)"
   ]
  },
  {
   "cell_type": "markdown",
   "metadata": {},
   "source": [
    "This probablity is less than the produc of chemical and electrical synapses, suggesting that the motifs of chemical and electrical together is distint."
   ]
  },
  {
   "cell_type": "code",
   "execution_count": 5,
   "metadata": {
    "collapsed": false
   },
   "outputs": [
    {
     "data": {
      "text/plain": [
       "0.25925925925925924"
      ]
     },
     "execution_count": 5,
     "metadata": {},
     "output_type": "execute_result"
    }
   ],
   "source": [
    "PEC = Pchem*Pelec\n",
    "PEC"
   ]
  },
  {
   "cell_type": "markdown",
   "metadata": {},
   "source": [
    "When applying this probability to the number of connections tested between PV cells\n",
    "we find less than the ones found empirically "
   ]
  },
  {
   "cell_type": "code",
   "execution_count": 6,
   "metadata": {
    "collapsed": false
   },
   "outputs": [
    {
     "data": {
      "text/plain": [
       "4.666666666666666"
      ]
     },
     "execution_count": 6,
     "metadata": {},
     "output_type": "execute_result"
    }
   ],
   "source": [
    "PEC*mydataset.II_both_tested"
   ]
  },
  {
   "cell_type": "code",
   "execution_count": 7,
   "metadata": {
    "collapsed": false
   },
   "outputs": [
    {
     "data": {
      "text/plain": [
       "6"
      ]
     },
     "execution_count": 7,
     "metadata": {},
     "output_type": "execute_result"
    }
   ],
   "source": [
    "mydataset.II_both_found"
   ]
  },
  {
   "cell_type": "markdown",
   "metadata": {},
   "source": [
    "How significant is that value found??? \n",
    "\n",
    "We will calculate the P-Value for the null hypothesis that the number of motifs found comes from the combined probability of chemical and electrical synapses alone.\n",
    "\n"
   ]
  },
  {
   "cell_type": "code",
   "execution_count": 8,
   "metadata": {
    "collapsed": false
   },
   "outputs": [
    {
     "data": {
      "text/plain": [
       "{'octuples': 28,\n",
       " 'pairs': 0,\n",
       " 'quadruplets': 8,\n",
       " 'quintuplets': 22,\n",
       " 'septuplets': 44,\n",
       " 'sextuplets': 38,\n",
       " 'triplets': 3}"
      ]
     },
     "execution_count": 8,
     "metadata": {},
     "output_type": "execute_result"
    }
   ],
   "source": [
    "mydataset.configuration"
   ]
  },
  {
   "cell_type": "code",
   "execution_count": 9,
   "metadata": {
    "collapsed": false
   },
   "outputs": [
    {
     "data": {
      "text/plain": [
       "{'octuples': 4,\n",
       " 'pairs': 0,\n",
       " 'quadruplets': 1,\n",
       " 'quintuplets': 0,\n",
       " 'septuplets': 7,\n",
       " 'sextuplets': 3,\n",
       " 'triplets': 0}"
      ]
     },
     "execution_count": 9,
     "metadata": {},
     "output_type": "execute_result"
    }
   ],
   "source": [
    "mydataset.PV[2] # recording configurations where 2 PV cells where present"
   ]
  },
  {
   "cell_type": "markdown",
   "metadata": {},
   "source": [
    "Simulate one whole dataset of connections"
   ]
  },
  {
   "cell_type": "code",
   "execution_count": null,
   "metadata": {
    "collapsed": true
   },
   "outputs": [],
   "source": []
  }
 ],
 "metadata": {
  "kernelspec": {
   "display_name": "Python 2",
   "language": "python",
   "name": "python2"
  },
  "language_info": {
   "codemirror_mode": {
    "name": "ipython",
    "version": 2
   },
   "file_extension": ".py",
   "mimetype": "text/x-python",
   "name": "python",
   "nbconvert_exporter": "python",
   "pygments_lexer": "ipython2",
   "version": "2.7.12"
  }
 },
 "nbformat": 4,
 "nbformat_minor": 0
}
