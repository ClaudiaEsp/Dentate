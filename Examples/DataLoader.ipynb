{
 "cells": [
  {
   "cell_type": "markdown",
   "metadata": {},
   "source": [
    "<H1>The DataLoader object</H1>\n",
    "<P>This is an example on how to use a DataLoader object</P>"
   ]
  },
  {
   "cell_type": "code",
   "execution_count": 1,
   "metadata": {
    "collapsed": false
   },
   "outputs": [
    {
     "name": "stdout",
     "output_type": "stream",
     "text": [
      "Populating the interactive namespace from numpy and matplotlib\n"
     ]
    }
   ],
   "source": [
    "# preliminary loading\n",
    "%pylab inline\n",
    "import os\n",
    "os.chdir('../') # scripts are the in the folder above"
   ]
  },
  {
   "cell_type": "code",
   "execution_count": 2,
   "metadata": {
    "collapsed": false
   },
   "outputs": [],
   "source": [
    "from loader import DataLoader"
   ]
  },
  {
   "cell_type": "markdown",
   "metadata": {},
   "source": [
    "<H2>Object creation</H2>\n",
    "The object loads the connectivity matrices in .syn format and reports the number of files loaded at construction."
   ]
  },
  {
   "cell_type": "code",
   "execution_count": 3,
   "metadata": {
    "collapsed": false
   },
   "outputs": [
    {
     "name": "stdout",
     "output_type": "stream",
     "text": [
      " 143 syn  files loaded\n"
     ]
    }
   ],
   "source": [
    "mydataset = DataLoader('./data') # create an object with information of all connections"
   ]
  },
  {
   "cell_type": "markdown",
   "metadata": {},
   "source": [
    "<H2>Object atttributes</H2>\n",
    "The object contains a list with all experiments loaded"
   ]
  },
  {
   "cell_type": "code",
   "execution_count": 4,
   "metadata": {
    "collapsed": false
   },
   "outputs": [
    {
     "data": {
      "text/plain": [
       "143"
      ]
     },
     "execution_count": 4,
     "metadata": {},
     "output_type": "execute_result"
    }
   ],
   "source": [
    "len(mydataset.experiment)"
   ]
  },
  {
   "cell_type": "code",
   "execution_count": 5,
   "metadata": {
    "collapsed": false
   },
   "outputs": [
    {
     "data": {
      "text/plain": [
       "(160, 751)"
      ]
     },
     "execution_count": 5,
     "metadata": {},
     "output_type": "execute_result"
    }
   ],
   "source": [
    "mydataset.nPV, mydataset.nGC # number of PV cells and GC cells recorded"
   ]
  },
  {
   "cell_type": "code",
   "execution_count": 6,
   "metadata": {
    "collapsed": false
   },
   "outputs": [
    {
     "data": {
      "text/plain": [
       "{'octuples': 28,\n",
       " 'pairs': 0,\n",
       " 'quadruplets': 8,\n",
       " 'quintuplets': 22,\n",
       " 'septuplets': 44,\n",
       " 'sextuplets': 38,\n",
       " 'triplets': 3}"
      ]
     },
     "execution_count": 6,
     "metadata": {},
     "output_type": "execute_result"
    }
   ],
   "source": [
    "mydataset.configuration # recording configurations"
   ]
  },
  {
   "cell_type": "code",
   "execution_count": 7,
   "metadata": {
    "collapsed": false
   },
   "outputs": [
    {
     "data": {
      "text/plain": [
       "{'EI': {'found': 76, 'tested': 830},\n",
       " 'IE': {'found': 216, 'tested': 830},\n",
       " 'II_both': {'found': 6, 'tested': 18},\n",
       " 'II_chem': {'found': 12, 'tested': 36},\n",
       " 'II_elec': {'found': 14, 'tested': 18}}"
      ]
     },
     "execution_count": 7,
     "metadata": {},
     "output_type": "execute_result"
    }
   ],
   "source": [
    "mydataset.connection # number of connections found"
   ]
  },
  {
   "cell_type": "markdown",
   "metadata": {},
   "source": [
    "Details of every experiments are given in a list"
   ]
  },
  {
   "cell_type": "code",
   "execution_count": 8,
   "metadata": {
    "collapsed": false
   },
   "outputs": [
    {
     "data": {
      "text/plain": [
       "{'connection': {'EI': {'found': 0, 'tested': 6},\n",
       "  'IE': {'found': 2, 'tested': 6},\n",
       "  'II_both': {'found': 0, 'tested': 0},\n",
       "  'II_chem': {'found': 0, 'tested': 0},\n",
       "  'II_elec': {'found': 0, 'tested': 0}},\n",
       " 'fname': '1_170302_02.syn',\n",
       " 'matrix': array([[0, 0, 1, 0, 0, 0, 1],\n",
       "        [0, 0, 0, 0, 0, 0, 0],\n",
       "        [0, 0, 0, 0, 0, 0, 0],\n",
       "        [0, 0, 0, 0, 0, 0, 0],\n",
       "        [0, 0, 0, 0, 0, 0, 0],\n",
       "        [0, 0, 0, 0, 0, 0, 0],\n",
       "        [0, 0, 0, 0, 0, 0, 0]])}"
      ]
     },
     "execution_count": 8,
     "metadata": {},
     "output_type": "execute_result"
    }
   ],
   "source": [
    "mydataset.experiment[0] # example of the data from the first experiment"
   ]
  },
  {
   "cell_type": "markdown",
   "metadata": {},
   "source": [
    "and details fo the recording configurations are provided"
   ]
  },
  {
   "cell_type": "code",
   "execution_count": 9,
   "metadata": {
    "collapsed": false
   },
   "outputs": [
    {
     "data": {
      "text/plain": [
       "'1_170516_02.syn'"
      ]
     },
     "execution_count": 9,
     "metadata": {},
     "output_type": "execute_result"
    }
   ],
   "source": [
    "mydataset.experiment[12]['fname']"
   ]
  },
  {
   "cell_type": "code",
   "execution_count": 10,
   "metadata": {
    "collapsed": false
   },
   "outputs": [
    {
     "data": {
      "text/plain": [
       "array([[0, 0, 1, 0, 0, 1, 1],\n",
       "       [0, 0, 0, 0, 0, 0, 0],\n",
       "       [0, 0, 0, 0, 0, 0, 0],\n",
       "       [0, 0, 0, 0, 0, 0, 0],\n",
       "       [0, 0, 0, 0, 0, 0, 0],\n",
       "       [0, 0, 0, 0, 0, 0, 0],\n",
       "       [0, 0, 0, 0, 0, 0, 0]])"
      ]
     },
     "execution_count": 10,
     "metadata": {},
     "output_type": "execute_result"
    }
   ],
   "source": [
    "mydataset.experiment[12]['matrix']"
   ]
  },
  {
   "cell_type": "code",
   "execution_count": 11,
   "metadata": {
    "collapsed": false
   },
   "outputs": [
    {
     "data": {
      "text/plain": [
       "{'EI': {'found': 0, 'tested': 6},\n",
       " 'IE': {'found': 3, 'tested': 6},\n",
       " 'II_both': {'found': 0, 'tested': 0},\n",
       " 'II_chem': {'found': 0, 'tested': 0},\n",
       " 'II_elec': {'found': 0, 'tested': 0}}"
      ]
     },
     "execution_count": 11,
     "metadata": {},
     "output_type": "execute_result"
    }
   ],
   "source": [
    "mydataset.experiment[12]['connection']"
   ]
  },
  {
   "cell_type": "markdown",
   "metadata": {},
   "source": [
    "or the type and number of configurations when two PV-positive cells were recorded"
   ]
  },
  {
   "cell_type": "code",
   "execution_count": 12,
   "metadata": {
    "collapsed": false
   },
   "outputs": [
    {
     "data": {
      "text/plain": [
       "{'octuples': 4,\n",
       " 'pairs': 0,\n",
       " 'quadruplets': 1,\n",
       " 'quintuplets': 0,\n",
       " 'septuplets': 7,\n",
       " 'sextuplets': 3,\n",
       " 'triplets': 0}"
      ]
     },
     "execution_count": 12,
     "metadata": {},
     "output_type": "execute_result"
    }
   ],
   "source": [
    "mydataset.PV[2]"
   ]
  },
  {
   "cell_type": "markdown",
   "metadata": {},
   "source": [
    "<H2> Descriptive statistics </H2>\n",
    "The stats attribute will return basis statistics of the whole dataset"
   ]
  },
  {
   "cell_type": "code",
   "execution_count": 13,
   "metadata": {
    "collapsed": false,
    "scrolled": true
   },
   "outputs": [
    {
     "name": "stdout",
     "output_type": "stream",
     "text": [
      "+-------------------+----------+\n",
      "| Concept           | Quantity |\n",
      "+-------------------+----------+\n",
      "| PV-positive cells | 160      |\n",
      "| Granule cells     | 751      |\n",
      "|                   |          |\n",
      "| Pairs             | 0        |\n",
      "| Triplets          | 3        |\n",
      "| Quadruplets       | 8        |\n",
      "| Quintuplets       | 22       |\n",
      "| Sextuplets        | 38       |\n",
      "| Septuplets        | 44       |\n",
      "| Octuplets         | 28       |\n",
      "+-------------------+----------+\n"
     ]
    }
   ],
   "source": [
    "mydataset.stats('conf') # provide descriptive statistics on cell and connection types "
   ]
  },
  {
   "cell_type": "code",
   "execution_count": 14,
   "metadata": {
    "collapsed": false
   },
   "outputs": [
    {
     "name": "stdout",
     "output_type": "stream",
     "text": [
      "+------------------------------+-----------------+\n",
      "| Connection type              | Value           |\n",
      "+------------------------------+-----------------+\n",
      "| PV-PV chemical synapses      | 12              |\n",
      "| PV-PV electrical synapses    | 14              |\n",
      "| PV-PV both synapses together | 6               |\n",
      "| PV-GC synapses               | 216             |\n",
      "| GC-PC synapses               | 76              |\n",
      "|                              |                 |\n",
      "| P(PV-PV) connection          | 0.481481481481  |\n",
      "| P(PV-GC) connection          | 0.260240963855  |\n",
      "| P(GC-PC) connection          | 0.0915662650602 |\n",
      "|                              |                 |\n",
      "| P(PV-PV) chemical synapse    | 0.333333333333  |\n",
      "| P(PV-PV) electrical synapse  | 0.777777777778  |\n",
      "| P(PV-PV) both synapse        | 0.333333333333  |\n",
      "+------------------------------+-----------------+\n"
     ]
    }
   ],
   "source": [
    "mydataset.stats('prob')"
   ]
  }
 ],
 "metadata": {
  "kernelspec": {
   "display_name": "Python 2",
   "language": "python",
   "name": "python2"
  },
  "language_info": {
   "codemirror_mode": {
    "name": "ipython",
    "version": 2
   },
   "file_extension": ".py",
   "mimetype": "text/x-python",
   "name": "python",
   "nbconvert_exporter": "python",
   "pygments_lexer": "ipython2",
   "version": "2.7.12"
  }
 },
 "nbformat": 4,
 "nbformat_minor": 1
}
