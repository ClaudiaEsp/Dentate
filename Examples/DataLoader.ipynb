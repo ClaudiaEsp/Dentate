{
 "cells": [
  {
   "cell_type": "markdown",
   "metadata": {},
   "source": [
    "<H1>The DataLoader object</H1>\n",
    "<P>This is an example on how to use a DataLoader object</P>"
   ]
  },
  {
   "cell_type": "code",
   "execution_count": 1,
   "metadata": {
    "collapsed": false
   },
   "outputs": [
    {
     "name": "stdout",
     "output_type": "stream",
     "text": [
      "Populating the interactive namespace from numpy and matplotlib\n"
     ]
    }
   ],
   "source": [
    "# preliminary loading\n",
    "%pylab inline\n",
    "import os\n",
    "os.chdir('../') # scripts are the in the folder aboveg"
   ]
  },
  {
   "cell_type": "code",
   "execution_count": 2,
   "metadata": {
    "collapsed": true
   },
   "outputs": [],
   "source": [
    "from loader import DataLoader"
   ]
  },
  {
   "cell_type": "markdown",
   "metadata": {},
   "source": [
    "<H2>Object creation</H2>\n",
    "The object loads the connectivity matrices in .syn format and reports the number of files loaded at construction."
   ]
  },
  {
   "cell_type": "code",
   "execution_count": 3,
   "metadata": {
    "collapsed": false
   },
   "outputs": [
    {
     "name": "stdout",
     "output_type": "stream",
     "text": [
      " 143 syn  files loaded\n"
     ]
    }
   ],
   "source": [
    "mydataset = DataLoader('./data') # create an object with information ofall connections"
   ]
  },
  {
   "cell_type": "markdown",
   "metadata": {},
   "source": [
    "The object contains a list with all experiments loaded"
   ]
  },
  {
   "cell_type": "code",
   "execution_count": 4,
   "metadata": {
    "collapsed": false
   },
   "outputs": [
    {
     "data": {
      "text/plain": [
       "143"
      ]
     },
     "execution_count": 4,
     "metadata": {},
     "output_type": "execute_result"
    }
   ],
   "source": [
    "len(mydataset.experiment)"
   ]
  },
  {
   "cell_type": "code",
   "execution_count": 5,
   "metadata": {
    "collapsed": false
   },
   "outputs": [
    {
     "data": {
      "text/plain": [
       "{'fname': '1_170302_02.syn', 'matrix': array([[0, 0, 1, 0, 0, 0, 1],\n",
       "        [0, 0, 0, 0, 0, 0, 0],\n",
       "        [0, 0, 0, 0, 0, 0, 0],\n",
       "        [0, 0, 0, 0, 0, 0, 0],\n",
       "        [0, 0, 0, 0, 0, 0, 0],\n",
       "        [0, 0, 0, 0, 0, 0, 0],\n",
       "        [0, 0, 0, 0, 0, 0, 0]])}"
      ]
     },
     "execution_count": 5,
     "metadata": {},
     "output_type": "execute_result"
    }
   ],
   "source": [
    "mydataset.experiment[0]"
   ]
  },
  {
   "cell_type": "markdown",
   "metadata": {},
   "source": [
    "<H2> Descriptive statistics </H2>\n",
    "The stats attribute will return basis statistics of the whole dataset"
   ]
  },
  {
   "cell_type": "code",
   "execution_count": 6,
   "metadata": {
    "collapsed": false
   },
   "outputs": [
    {
     "name": "stdout",
     "output_type": "stream",
     "text": [
      "+--------------------------------+-----------------+\n",
      "| Concept                        | Quantity        |\n",
      "+--------------------------------+-----------------+\n",
      "| PV-positive cells              | 160             |\n",
      "| Granule cells                  | 751             |\n",
      "|                                |                 |\n",
      "| Pairs                          | 0               |\n",
      "| Triplets                       | 3               |\n",
      "| Quadruplets                    | 8               |\n",
      "| Quintuplets                    | 22              |\n",
      "| Sextuplets                     | 38              |\n",
      "| Septuplets                     | 44              |\n",
      "| Octuplets                      | 28              |\n",
      "|                                |                 |\n",
      "| PV-PV connections              | 20              |\n",
      "| PV-GC connections              | 216             |\n",
      "| GC-PC connections              | 76              |\n",
      "|                                |                 |\n",
      "| P(PV-PV) connection            | 0.555555555556  |\n",
      "| P(PV-GC) connection            | 0.260240963855  |\n",
      "| P(GC-PC) connection            | 0.0915662650602 |\n",
      "|                                |                 |\n",
      "| PV-PV chemical synapses only   | 6               |\n",
      "| PV-PV electrical synapses only | 8               |\n",
      "| PV-PV both synapses together   | 6               |\n",
      "|                                |                 |\n",
      "| P(PV-PV) chemical only         | 0.166666666667  |\n",
      "| P(PV-PV) electrical only       | 0.444444444444  |\n",
      "+--------------------------------+-----------------+\n"
     ]
    }
   ],
   "source": [
    "mydataset.stats # provide descriptive statistics on cell and connection types "
   ]
  },
  {
   "cell_type": "code",
   "execution_count": null,
   "metadata": {
    "collapsed": true
   },
   "outputs": [],
   "source": []
  }
 ],
 "metadata": {
  "kernelspec": {
   "display_name": "Python 2",
   "language": "python",
   "name": "python2"
  },
  "language_info": {
   "codemirror_mode": {
    "name": "ipython",
    "version": 2
   },
   "file_extension": ".py",
   "mimetype": "text/x-python",
   "name": "python",
   "nbconvert_exporter": "python",
   "pygments_lexer": "ipython2",
   "version": "2.7.12"
  }
 },
 "nbformat": 4,
 "nbformat_minor": 1
}
