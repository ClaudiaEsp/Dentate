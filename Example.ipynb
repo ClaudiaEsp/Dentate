{
 "cells": [
  {
   "cell_type": "markdown",
   "metadata": {},
   "source": [
    "<H1>Example</H1>\n",
    "<P>This is an example on the DataLoader object</P>"
   ]
  },
  {
   "cell_type": "code",
   "execution_count": 2,
   "metadata": {
    "collapsed": true
   },
   "outputs": [],
   "source": [
    "from loader import DataLoader"
   ]
  },
  {
   "cell_type": "code",
   "execution_count": 3,
   "metadata": {
    "collapsed": false
   },
   "outputs": [
    {
     "name": "stdout",
     "output_type": "stream",
     "text": [
      " 143 syn  files found\n",
      " 143 dist files found\n",
      "\n"
     ]
    }
   ],
   "source": [
    "mydataset = DataLoader('./data') # create an object with information of all connections"
   ]
  },
  {
   "cell_type": "code",
   "execution_count": 5,
   "metadata": {
    "collapsed": false
   },
   "outputs": [
    {
     "name": "stdout",
     "output_type": "stream",
     "text": [
      "+---------------------+-----------------+\n",
      "| Concept             | Quantity        |\n",
      "+---------------------+-----------------+\n",
      "| PV-positive cells   | 160             |\n",
      "| Granule cells       | 751             |\n",
      "|                     |                 |\n",
      "| Pairs               | 0               |\n",
      "| Triplets            | 3               |\n",
      "| Quadruplets         | 8               |\n",
      "| Quintuplets         | 22              |\n",
      "| Sextuplets          | 38              |\n",
      "| Septuplets          | 44              |\n",
      "| Octuplets           | 28              |\n",
      "|                     |                 |\n",
      "| PV-PV connections   | 20              |\n",
      "| PV-GC connections   | 216             |\n",
      "| GC-PC connections   | 76              |\n",
      "|                     |                 |\n",
      "| P(PV-PV) connection | 0.555555555556  |\n",
      "| P(PV-GC) connection | 0.260240963855  |\n",
      "| P(GC-PC) connection | 0.0915662650602 |\n",
      "+---------------------+-----------------+\n"
     ]
    }
   ],
   "source": [
    "mydataset.stats # provide descriptive statistics on cell and connection types "
   ]
  }
 ],
 "metadata": {
  "kernelspec": {
   "display_name": "Python 2",
   "language": "python",
   "name": "python2"
  },
  "language_info": {
   "codemirror_mode": {
    "name": "ipython",
    "version": 2
   },
   "file_extension": ".py",
   "mimetype": "text/x-python",
   "name": "python",
   "nbconvert_exporter": "python",
   "pygments_lexer": "ipython2",
   "version": "2.7.6"
  }
 },
 "nbformat": 4,
 "nbformat_minor": 1
}
