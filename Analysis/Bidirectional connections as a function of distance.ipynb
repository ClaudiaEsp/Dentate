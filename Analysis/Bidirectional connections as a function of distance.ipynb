{
 "cells": [
  {
   "cell_type": "markdown",
   "metadata": {},
   "source": [
    "<H1>Bidirectional connections as a function of the distance </H1>\n",
    "<P>\n",
    "We will analyze the probability of finding bidirectionally connected inhibitory synapses are over-represented as a function of the intersomatic distance.</P>"
   ]
  },
  {
   "cell_type": "code",
   "execution_count": 1,
   "metadata": {
    "collapsed": false
   },
   "outputs": [
    {
     "name": "stdout",
     "output_type": "stream",
     "text": [
      "Populating the interactive namespace from numpy and matplotlib\n",
      "Inet version 0.0.15\n"
     ]
    }
   ],
   "source": [
    "%pylab inline\n",
    "import warnings\n",
    "from inet import DataLoader, __version__\n",
    "\n",
    "from inet.utils import II_slice\n",
    "print('Inet version {}'.format(__version__))"
   ]
  },
  {
   "cell_type": "markdown",
   "metadata": {},
   "source": [
    "Read filename from the dataset, that contains 2 or more PV(+)-interneurons"
   ]
  },
  {
   "cell_type": "code",
   "execution_count": 3,
   "metadata": {
    "collapsed": false
   },
   "outputs": [
    {
     "name": "stdout",
     "output_type": "stream",
     "text": [
      " 211 syn  files loaded\n",
      "50 experiments with 2 or more PV-cells\n",
      "\n",
      "40 experiments with 2 PV-cells\n",
      " 9 experiments with 3 PV-cells\n",
      " 1 experiments with 4 PV-cells\n"
     ]
    }
   ],
   "source": [
    "# use filenames in the dataset to read list of distances to be read\n",
    "mydataset = DataLoader('../data/PV/')\n",
    "\n",
    "count_pv = lambda x : len([i for i in range(len(mydataset)) if int(mydataset.filename(i)[0])==x])\n",
    "    \n",
    "pv_id = [ idx for idx in range(len(mydataset)) if int(mydataset.filename(idx)[0])>1 ]\n",
    "print('{} experiments with 2 or more PV-cells\\n'.format(len(pv_id)))\n",
    "\n",
    "for i in range(2,5):    \n",
    "    print('{:2d} experiments with {} PV-cells'.format(count_pv(i), i))"
   ]
  },
  {
   "cell_type": "markdown",
   "metadata": {},
   "source": [
    "<H2> Load all distances from all connected PV cells</H2>\n",
    "\n",
    "<P> Read intersomatic distances between PV(+) interneurons. Some distances may be \n",
    "missing, and the function will return a warning.</P>"
   ]
  },
  {
   "cell_type": "code",
   "execution_count": 4,
   "metadata": {
    "collapsed": false
   },
   "outputs": [],
   "source": [
    "# read distances from between inhibitory neurons\n",
    "def read_dist(fname):\n",
    "    \"\"\"\n",
    "    get distances between inhibitory pairs of neurons\n",
    "    from a matrix of intersomatic distances.\n",
    "    \n",
    "    Argument:\n",
    "    \n",
    "    fname: string\n",
    "        the matrix name to that contains the connected synapses. It is\n",
    "        the name of the file without extension (e.g., *.syn).\n",
    "        \n",
    "    It will through a warning if the matrix of distances is not added.\n",
    "    \"\"\"\n",
    "    mypath = '../data/PV/' + fname + '.dist'\n",
    "    \n",
    "    try:\n",
    "        D = np.loadtxt(mypath)\n",
    "        D = II_slice(D, int(fname[0]))\n",
    "        idx = np.where(~np.eye(D.shape[0], dtype = bool))\n",
    "        mydist = np.abs(D[idx]).tolist()\n",
    "        \n",
    "        return(mydist)\n",
    "    \n",
    "    except IOError:\n",
    "        warnings.warn(fname + '.dist not found!')\n",
    "        return([])\n",
    "    "
   ]
  },
  {
   "cell_type": "code",
   "execution_count": 6,
   "metadata": {
    "collapsed": false
   },
   "outputs": [
    {
     "name": "stderr",
     "output_type": "stream",
     "text": [
      "/usr/local/lib/python2.7/dist-packages/ipykernel/__main__.py:24: UserWarning: 2_170411_02.dist not found!\n",
      "/usr/local/lib/python2.7/dist-packages/ipykernel/__main__.py:24: UserWarning: 2_171127_02.dist not found!\n",
      "/usr/local/lib/python2.7/dist-packages/ipykernel/__main__.py:24: UserWarning: 2_171116_02.dist not found!\n",
      "/usr/local/lib/python2.7/dist-packages/ipykernel/__main__.py:24: UserWarning: 2_171116_01.dist not found!\n",
      "/usr/local/lib/python2.7/dist-packages/ipykernel/__main__.py:24: UserWarning: 2_171127_01.dist not found!\n",
      "/usr/local/lib/python2.7/dist-packages/ipykernel/__main__.py:24: UserWarning: 2_171120_02.dist not found!\n",
      "/usr/local/lib/python2.7/dist-packages/ipykernel/__main__.py:24: UserWarning: 4_171121_02.dist not found!\n",
      "/usr/local/lib/python2.7/dist-packages/ipykernel/__main__.py:24: UserWarning: 3_171121_01.dist not found!\n",
      "/usr/local/lib/python2.7/dist-packages/ipykernel/__main__.py:24: UserWarning: 2_171120_01.dist not found!\n",
      "/usr/local/lib/python2.7/dist-packages/ipykernel/__main__.py:24: UserWarning: 2_171113_02.dist not found!\n",
      "/usr/local/lib/python2.7/dist-packages/ipykernel/__main__.py:24: UserWarning: 2_170315_02.dist not found!\n",
      "/usr/local/lib/python2.7/dist-packages/ipykernel/__main__.py:24: UserWarning: 2_171102_01.dist not found!\n",
      "/usr/local/lib/python2.7/dist-packages/ipykernel/__main__.py:24: UserWarning: 2_171124_01.dist not found!\n"
     ]
    }
   ],
   "source": [
    "# collect all intersomatic distances in a single list\n",
    "dist_tested = list()\n",
    "for i in pv_id:\n",
    "    dist_tested +=read_dist( mydataset.filename(i) )\n"
   ]
  },
  {
   "cell_type": "code",
   "execution_count": 8,
   "metadata": {
    "collapsed": false
   },
   "outputs": [
    {
     "name": "stdout",
     "output_type": "stream",
     "text": [
      "106 total distances read\n"
     ]
    }
   ],
   "source": [
    "print('{} total distances read'.format(len(dist_tested))) # total distances"
   ]
  },
  {
   "cell_type": "markdown",
   "metadata": {},
   "source": [
    "<H2> Plot the histogram of recorded distances</H2>"
   ]
  },
  {
   "cell_type": "code",
   "execution_count": 9,
   "metadata": {
    "collapsed": false
   },
   "outputs": [
    {
     "data": {
      "image/png": "[encoded data removed]",
      "text/plain": [
       "<matplotlib.figure.Figure at 0x7f36e7c50110>"
      ]
     },
     "metadata": {},
     "output_type": "display_data"
    }
   ],
   "source": [
    "mybins = arange(0,600, 50)\n",
    "\n",
    "plt.hist(dist_tested, bins = mybins, facecolor='white', lw=2);\n",
    "plt.ylim(ymax=40);\n",
    "plt.ylabel('Inhibitory chemical synapses');\n",
    "plt.xlabel('Intersomatic distance ($\\mu$m)');"
   ]
  },
  {
   "cell_type": "markdown",
   "metadata": {},
   "source": [
    "<H2>Distances in recurrently connected inhibitory neurons</H2>\n",
    "\n",
    "<P> We now collect only recurrently connected inhibitory neurons (i.e., bidirectionally connected).</P>"
   ]
  },
  {
   "cell_type": "code",
   "execution_count": 10,
   "metadata": {
    "collapsed": false
   },
   "outputs": [],
   "source": [
    "def read_rec_dist(fname):\n",
    "    \"\"\"\n",
    "    get distances between bidirectionally connected interneurons\n",
    "    from a matrix of intersomatic distances.\n",
    "    \n",
    "    Argument:\n",
    "    fname: string\n",
    "        the matrix name to that contains the connected synapses (*.syn)\n",
    "    \"\"\"\n",
    "    \n",
    "\n",
    "    mydistpath = '../data/PV/' + fname + '.dist'\n",
    "\n",
    "    # load distance matrix (D)\n",
    "    try:\n",
    "        D = II_slice(np.loadtxt(mydistpath), int(fname[0]))\n",
    "        \n",
    "    except IOError:\n",
    "        warnings.warn(mydistpath + ' not found!')\n",
    "        return([])\n",
    "    \n",
    "    # load synapse matrix (S)\n",
    "    try: \n",
    "        S = np.loadtxt('../data/PV/' + fname + '.syn')\n",
    "        \n",
    "    except IOError:\n",
    "        warnings.warn(fname + ' not found!')\n",
    "        return([])\n",
    "    \n",
    "    S = II_slice(S, int(fname[0]) )\n",
    "    S[S==2] = 0 # remove gaps\n",
    "    S[S==3] = 1 # remove gaps in chemical\n",
    "     \n",
    "\n",
    "    x,y = np.nonzero(S)\n",
    "    ids = zip(x,y)\n",
    "    mydist = list()\n",
    "    if ids>0:\n",
    "        for i,j in ids:\n",
    "            if S[j,i] == 1:\n",
    "                mydist.append( D[i,j] )\n",
    "     \n",
    "    #print( np.unique(np.abs(mydist)) )  \n",
    "\n",
    "    return( np.unique(np.abs(mydist)).tolist() )\n"
   ]
  },
  {
   "cell_type": "code",
   "execution_count": 11,
   "metadata": {
    "collapsed": false
   },
   "outputs": [
    {
     "data": {
      "text/plain": [
       "{'found': 14, 'tested': 73}"
      ]
     },
     "execution_count": 11,
     "metadata": {},
     "output_type": "execute_result"
    }
   ],
   "source": [
    "# Number of bidirectionally connected interneurons is computed in the counter\n",
    "mydataset.motif['ii_c2']"
   ]
  },
  {
   "cell_type": "code",
   "execution_count": 12,
   "metadata": {
    "collapsed": false
   },
   "outputs": [
    {
     "name": "stdout",
     "output_type": "stream",
     "text": [
      "Experiment   3, filename: 3_170824_01\n",
      "Experiment  38, filename: 2_171116_02\n",
      "Experiment  50, filename: 3_170829_01\n",
      "Experiment  51, filename: 2_171002_01\n",
      "Experiment  66, filename: 3_170830_02\n",
      "Experiment  72, filename: 2_170328_02\n",
      "Experiment  82, filename: 2_170907_01\n",
      "Experiment  93, filename: 2_170315_01\n",
      "Experiment 150, filename: 4_171121_02\n",
      "Experiment 151, filename: 3_171121_01\n",
      "Experiment 176, filename: 2_160523_02\n",
      "Experiment 177, filename: 2_170329_01\n",
      "Experiment 181, filename: 2_171102_01\n",
      "Experiment 202, filename: 2_171124_01\n"
     ]
    }
   ],
   "source": [
    "# select experiments with bidirectional motifs\n",
    "bidirectional_id = [i for i in range(len(mydataset)) if mydataset.motifs(i)['ii_c2']['found']]\n",
    "\n",
    "for i in bidirectional_id:\n",
    "    print('Experiment {:3d}, filename: {}'.format(i, mydataset.filename(i)))"
   ]
  },
  {
   "cell_type": "markdown",
   "metadata": {},
   "source": [
    "We collect the intersomatic distances between recurently connected inhibitory neurons. We will plot\n",
    "them against the total number of possible bidirectionally connected neurons. "
   ]
  },
  {
   "cell_type": "code",
   "execution_count": 14,
   "metadata": {
    "collapsed": false
   },
   "outputs": [
    {
     "name": "stderr",
     "output_type": "stream",
     "text": [
      "/usr/local/lib/python2.7/dist-packages/ipykernel/__main__.py:19: UserWarning: ../data/PV/2_171116_02.dist not found!\n",
      "/usr/local/lib/python2.7/dist-packages/ipykernel/__main__.py:19: UserWarning: ../data/PV/4_171121_02.dist not found!\n",
      "/usr/local/lib/python2.7/dist-packages/ipykernel/__main__.py:19: UserWarning: ../data/PV/3_171121_01.dist not found!\n",
      "/usr/local/lib/python2.7/dist-packages/ipykernel/__main__.py:19: UserWarning: ../data/PV/2_171102_01.dist not found!\n",
      "/usr/local/lib/python2.7/dist-packages/ipykernel/__main__.py:19: UserWarning: ../data/PV/2_171124_01.dist not found!\n"
     ]
    }
   ],
   "source": [
    "dist_found = list()\n",
    "for i in bidirectional_id:\n",
    "    dist_found += read_rec_dist( fname = mydataset.filename(i) )"
   ]
  },
  {
   "cell_type": "markdown",
   "metadata": {
    "collapsed": false
   },
   "source": [
    "To plot the total number of possible bidirectional connections we could simply divide the total number by two.\n",
    "Alternatively, we can take only the positive (or negative) distances. Remember that positive distances are\n",
    "distances from neuron A -> B and negative distances are from B -> A. Either one of these is the number of \n",
    "positive bidirectional connections (not both of them!)."
   ]
  },
  {
   "cell_type": "code",
   "execution_count": 15,
   "metadata": {
    "collapsed": false
   },
   "outputs": [
    {
     "data": {
      "image/png": "[encoded data removed]",
      "text/plain": [
       "<matplotlib.figure.Figure at 0x7f36e7df4ed0>"
      ]
     },
     "metadata": {},
     "output_type": "display_data"
    }
   ],
   "source": [
    "mybins = arange(0,550, 50)\n",
    "bid_tested = np.unique(dist_tested) # like dividing by two\n",
    "plt.hist(bid_tested, bins = mybins, facecolor='white', lw=2);\n",
    "plt.ylim(ymax=20);\n",
    "plt.ylabel('Inhbitory chemical synapses');\n",
    "plt.xlabel('Intersomatic distance ($\\mu$m)');\n",
    "\n",
    "plt.hist(dist_found, bins = mybins, facecolor='gray', lw=2);\n"
   ]
  },
  {
   "cell_type": "code",
   "execution_count": null,
   "metadata": {
    "collapsed": true
   },
   "outputs": [],
   "source": []
  }
 ],
 "metadata": {
  "kernelspec": {
   "display_name": "Python 2",
   "language": "python",
   "name": "python2"
  },
  "language_info": {
   "codemirror_mode": {
    "name": "ipython",
    "version": 2
   },
   "file_extension": ".py",
   "mimetype": "text/x-python",
   "name": "python",
   "nbconvert_exporter": "python",
   "pygments_lexer": "ipython2",
   "version": "2.7.12"
  }
 },
 "nbformat": 4,
 "nbformat_minor": 0
}
