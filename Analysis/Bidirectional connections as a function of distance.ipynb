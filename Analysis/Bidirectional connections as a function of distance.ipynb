{
 "cells": [
  {
   "cell_type": "markdown",
   "metadata": {},
   "source": [
    "<H1>Bidirectional connections as a function of the distance </H1>\n",
    "We will test whether bidirectionally connected inhibitory interneurons are over-represented as a function of the intersomatic distance."
   ]
  },
  {
   "cell_type": "code",
   "execution_count": 54,
   "metadata": {
    "collapsed": false
   },
   "outputs": [
    {
     "name": "stdout",
     "output_type": "stream",
     "text": [
      "Populating the interactive namespace from numpy and matplotlib\n",
      "Inet version 0.0.13\n"
     ]
    },
    {
     "name": "stderr",
     "output_type": "stream",
     "text": [
      "WARNING: pylab import has clobbered these variables: ['__version__']\n",
      "`%matplotlib` prevents importing * from pylab and numpy\n"
     ]
    }
   ],
   "source": [
    "%pylab inline\n",
    "import warnings\n",
    "from inet import DataLoader, __version__\n",
    "from inet.motifs import iicounter\n",
    "from inet.utils import II_slice\n",
    "print('Inet version {}'.format(__version__))"
   ]
  },
  {
   "cell_type": "code",
   "execution_count": 3,
   "metadata": {
    "collapsed": false
   },
   "outputs": [
    {
     "name": "stdout",
     "output_type": "stream",
     "text": [
      " 190 syn  files loaded\n",
      "39 experiments with 2 or more PV-cells\n"
     ]
    }
   ],
   "source": [
    "# use filenames in the dataset to read list of distances to be read\n",
    "mydataset = DataLoader('../data/PV')\n",
    "\n",
    "pvfiles = [ i for i in range(len(mydataset)) if int(mydataset.filename(i)[0])>1 ]\n",
    "print('{} experiments with 2 or more PV-cells'.format(len(pvfiles)))"
   ]
  },
  {
   "cell_type": "markdown",
   "metadata": {},
   "source": [
    "<H2> Load all distances from connected PV cells</H2>"
   ]
  },
  {
   "cell_type": "code",
   "execution_count": 121,
   "metadata": {
    "collapsed": false
   },
   "outputs": [],
   "source": [
    "# read distances from between inhibitory neurons\n",
    "def read_dist(fname):\n",
    "    \"\"\"\n",
    "    get distances between inhibitory pairs of neurons\n",
    "    from a matrix of intersomatic distances.\n",
    "    Argument:\n",
    "    fname: string\n",
    "        the matrix name to that contains the connected synapses (*.syn)\n",
    "    \"\"\"\n",
    "    # take all non-diagonal elements\n",
    "    mypath = '../data/PV/' + fname[:-3] + 'dist'\n",
    "    \n",
    "    try:\n",
    "        D = np.loadtxt(mypath)\n",
    "        D = II_slice(D, int(fname[0]))\n",
    "        idx = np.where(~np.eye(D.shape[0], dtype = bool))\n",
    "        mydist = np.abs(D[idx]).tolist()\n",
    "        return(mydist)\n",
    "    \n",
    "    except IOError:\n",
    "        warnings.warn(mypath + ' not found!')\n",
    "        return([])\n",
    "    "
   ]
  },
  {
   "cell_type": "code",
   "execution_count": 122,
   "metadata": {
    "collapsed": false
   },
   "outputs": [
    {
     "name": "stderr",
     "output_type": "stream",
     "text": [
      "/usr/local/lib/python2.7/dist-packages/ipykernel/__main__.py:21: UserWarning: ../data/PV/2_170411_02.dist not found!\n",
      "/usr/local/lib/python2.7/dist-packages/ipykernel/__main__.py:21: UserWarning: ../data/PV/2_170315_02.dist not found!\n"
     ]
    }
   ],
   "source": [
    "dist_tested = list()\n",
    "for i in pvfiles:\n",
    "    dist_tested +=  read_dist(mydataset.filename(i))\n"
   ]
  },
  {
   "cell_type": "code",
   "execution_count": 123,
   "metadata": {
    "collapsed": false
   },
   "outputs": [
    {
     "name": "stdout",
     "output_type": "stream",
     "text": [
      "106 total distances read\n"
     ]
    }
   ],
   "source": [
    "print('{} total distances read'.format(len(dist_tested)))"
   ]
  },
  {
   "cell_type": "code",
   "execution_count": 124,
   "metadata": {
    "collapsed": false
   },
   "outputs": [
    {
     "data": {
      "image/png": "[encoded data removed]",
      "text/plain": [
       "<matplotlib.figure.Figure at 0x7f7442282d90>"
      ]
     },
     "metadata": {},
     "output_type": "display_data"
    }
   ],
   "source": [
    "mybins = arange(0,600, 50)\n",
    "\n",
    "plt.hist(dist_tested, bins = mybins, facecolor='white', lw=2);\n",
    "plt.ylim(ymax=50);\n",
    "plt.ylabel('Inhbitory chemical synapses');\n",
    "plt.xlabel('Intersomatic distance ($\\mu$m)');"
   ]
  },
  {
   "cell_type": "markdown",
   "metadata": {},
   "source": [
    "<H2>Distances in recurrently connected inhibitory neurons</H2>"
   ]
  },
  {
   "cell_type": "code",
   "execution_count": 206,
   "metadata": {
    "collapsed": false
   },
   "outputs": [],
   "source": [
    "def read_rec_dist(fname):\n",
    "    \"\"\"\n",
    "    get distances between bidirectionally connected interneurons\n",
    "    from a matrix of intersomatic distances.\n",
    "    \n",
    "    Argument:\n",
    "    fname: string\n",
    "        the matrix name to that contains the connected synapses (*.syn)\n",
    "    \"\"\"\n",
    "    # take all non-diagonal elements\n",
    "    mydistpath = '../data/PV/' + fname[:-3] + 'dist'\n",
    "\n",
    "    try:\n",
    "        D = II_slice(np.loadtxt(mydistpath), int(fname[0]))\n",
    "        \n",
    "    except IOError:\n",
    "        warnings.warn(mydistpath + ' not found!')\n",
    "        return([])\n",
    "    \n",
    "    try:\n",
    "        S = np.loadtxt('../data/PV/'+fname)\n",
    "        \n",
    "    except IOError:\n",
    "        warnings.warn(fname + ' not found!')\n",
    "        return([])\n",
    "    \n",
    "    S = II_slice(S, int(fname[0]))\n",
    "    S[S==2] = 0 # remove gaps\n",
    "    S[S==3] = 1 # remove gaps in chemical\n",
    "        \n",
    "    x,y = np.nonzero(S)\n",
    "    ids = zip(x,y)\n",
    "    mydist = list()\n",
    "    if ids>0:\n",
    "        for i,j in ids:\n",
    "            if S[j,i] == 1:\n",
    "                mydist.append(D[i,j])\n",
    "     \n",
    "    print(np.unique(np.abs(mydist)))  \n",
    "    return( np.unique(np.abs(mydist)).tolist() )\n"
   ]
  },
  {
   "cell_type": "code",
   "execution_count": 159,
   "metadata": {
    "collapsed": false
   },
   "outputs": [
    {
     "data": {
      "text/plain": [
       "{'found': 9, 'tested': 55}"
      ]
     },
     "execution_count": 159,
     "metadata": {},
     "output_type": "execute_result"
    }
   ],
   "source": [
    "# Number of bidirectionally connected interneurons\n",
    "mydataset.motif['ii_c2']"
   ]
  },
  {
   "cell_type": "code",
   "execution_count": 160,
   "metadata": {
    "collapsed": false
   },
   "outputs": [
    {
     "name": "stdout",
     "output_type": "stream",
     "text": [
      "Experiment   3, filename: 3_170824_01.syn\n",
      "Experiment  45, filename: 3_170829_01.syn\n",
      "Experiment  46, filename: 2_171002_01.syn\n",
      "Experiment  59, filename: 3_170830_02.syn\n",
      "Experiment  65, filename: 2_170328_02.syn\n",
      "Experiment  75, filename: 2_170907_01.syn\n",
      "Experiment  84, filename: 2_170315_01.syn\n",
      "Experiment 158, filename: 2_160523_02.syn\n",
      "Experiment 159, filename: 2_170329_01.syn\n"
     ]
    }
   ],
   "source": [
    "# select experiments with bidirectional motifs\n",
    "mybidirec = [i for i in range(len(mydataset)) if mydataset.motifs(i)['ii_c2']['found']>0 ]\n",
    "\n",
    "for i in mybidirec:\n",
    "    print('Experiment {:3d}, filename: {}'.format(i, mydataset.filename(i)))"
   ]
  },
  {
   "cell_type": "code",
   "execution_count": 211,
   "metadata": {
    "collapsed": false
   },
   "outputs": [
    {
     "name": "stdout",
     "output_type": "stream",
     "text": [
      "[ 144.958]\n",
      "[ 76.897]\n",
      "[ 100.958]\n",
      "[ 54.754]\n",
      "[ 86.239]\n",
      "[ 206.317]\n",
      "[ 49.522]\n",
      "[ 66.983]\n",
      "[ 45.971]\n"
     ]
    }
   ],
   "source": [
    "dist_found = list()\n",
    "for i in mybidirec:\n",
    "    dist_found += read_rec_dist(mydataset.filename(i))"
   ]
  },
  {
   "cell_type": "code",
   "execution_count": 212,
   "metadata": {
    "collapsed": false
   },
   "outputs": [
    {
     "data": {
      "text/plain": [
       "[144.958, 76.897, 100.958, 54.754, 86.239, 206.317, 49.522, 66.983, 45.971]"
      ]
     },
     "execution_count": 212,
     "metadata": {},
     "output_type": "execute_result"
    }
   ],
   "source": [
    "dist_found"
   ]
  },
  {
   "cell_type": "code",
   "execution_count": 226,
   "metadata": {
    "collapsed": false
   },
   "outputs": [
    {
     "data": {
      "image/png": "[encoded data removed]",
      "text/plain": [
       "<matplotlib.figure.Figure at 0x7f744212dd90>"
      ]
     },
     "metadata": {},
     "output_type": "display_data"
    }
   ],
   "source": [
    "mybins = arange(0,550, 50)\n",
    "bid_tested = np.unique(dist_tested)\n",
    "plt.hist(bid_tested, bins = mybins, facecolor='white', lw=2);\n",
    "plt.ylim(ymax=20);\n",
    "plt.ylabel('Inhbitory chemical synapses');\n",
    "plt.xlabel('Intersomatic distance ($\\mu$m)');\n",
    "\n",
    "plt.hist(dist_found, bins = mybins, facecolor='gray', lw=2);\n"
   ]
  },
  {
   "cell_type": "code",
   "execution_count": null,
   "metadata": {
    "collapsed": true
   },
   "outputs": [],
   "source": []
  }
 ],
 "metadata": {
  "kernelspec": {
   "display_name": "Python 2",
   "language": "python",
   "name": "python2"
  },
  "language_info": {
   "codemirror_mode": {
    "name": "ipython",
    "version": 2
   },
   "file_extension": ".py",
   "mimetype": "text/x-python",
   "name": "python",
   "nbconvert_exporter": "python",
   "pygments_lexer": "ipython2",
   "version": "2.7.12"
  }
 },
 "nbformat": 4,
 "nbformat_minor": 0
}
