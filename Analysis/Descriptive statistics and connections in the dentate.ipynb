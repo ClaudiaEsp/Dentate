{
 "cells": [
  {
   "cell_type": "markdown",
   "metadata": {},
   "source": [
    "<H1>Descriptive statistics and connections in the dentate</H1>\n",
    "<P>It is done with the DataLoader object of the inet module</P>"
   ]
  },
  {
   "cell_type": "code",
   "execution_count": 1,
   "metadata": {
    "collapsed": true
   },
   "outputs": [],
   "source": [
    "from __future__ import division\n",
    "from terminaltables import AsciiTable"
   ]
  },
  {
   "cell_type": "code",
   "execution_count": 2,
   "metadata": {},
   "outputs": [
    {
     "name": "stdout",
     "output_type": "stream",
     "text": [
      "0.0.15\n"
     ]
    }
   ],
   "source": [
    "# custom module\n",
    "from inet import __version__\n",
    "print(__version__)\n",
    "from inet import DataLoader"
   ]
  },
  {
   "cell_type": "markdown",
   "metadata": {},
   "source": [
    "<H2> Descriptive statistics </H2>\n",
    "Basis statistics of the whole dataset"
   ]
  },
  {
   "cell_type": "code",
   "execution_count": 4,
   "metadata": {},
   "outputs": [
    {
     "name": "stdout",
     "output_type": "stream",
     "text": [
      " 211 syn  files loaded\n"
     ]
    }
   ],
   "source": [
    "mydataset = DataLoader('../data/PV') # create an object with information of all connections"
   ]
  },
  {
   "cell_type": "code",
   "execution_count": 5,
   "metadata": {},
   "outputs": [
    {
     "data": {
      "text/plain": [
       "'211 experiments'"
      ]
     },
     "execution_count": 5,
     "metadata": {},
     "output_type": "execute_result"
    }
   ],
   "source": [
    "'{} experiments'.format(len(mydataset.experiment)) # number of experiments"
   ]
  },
  {
   "cell_type": "code",
   "execution_count": 6,
   "metadata": {},
   "outputs": [
    {
     "data": {
      "text/plain": [
       "'272 PV interneurons and 1026 granule cells'"
      ]
     },
     "execution_count": 6,
     "metadata": {},
     "output_type": "execute_result"
    }
   ],
   "source": [
    "'{} PV interneurons and {} granule cells'.format(mydataset.nIN, mydataset.nPC) # number of PV cells and GC cells recorded"
   ]
  },
  {
   "cell_type": "code",
   "execution_count": 7,
   "metadata": {},
   "outputs": [
    {
     "name": "stdout",
     "output_type": "stream",
     "text": [
      "+-----------------+----------+\n",
      "| Concept         | Quantity |\n",
      "+-----------------+----------+\n",
      "| Principal cells | 1026     |\n",
      "| Interneurons    | 272      |\n",
      "|                 |          |\n",
      "| Pairs           | 4        |\n",
      "| Triplets        | 9        |\n",
      "| Quadruplets     | 13       |\n",
      "| Quintuplets     | 35       |\n",
      "| Sextuplets      | 52       |\n",
      "| Septuplets      | 60       |\n",
      "| Octuplets       | 38       |\n",
      "+-----------------+----------+\n"
     ]
    }
   ],
   "source": [
    "y = mydataset.stats()\n",
    "\n",
    "print AsciiTable(y).table "
   ]
  },
  {
   "cell_type": "markdown",
   "metadata": {},
   "source": [
    "<H2>Connection probabilities and connectivity types</H2> "
   ]
  },
  {
   "cell_type": "code",
   "execution_count": 8,
   "metadata": {},
   "outputs": [
    {
     "name": "stdout",
     "output_type": "stream",
     "text": [
      "+---------+-------+--------+\n",
      "| Motif   | found | tested |\n",
      "+---------+-------+--------+\n",
      "| e2i     | 36    | 2611   |\n",
      "| e3i     | 7     | 3150   |\n",
      "| ee_c1e  | 0     | 4506   |\n",
      "| ee_c2   | 0     | 2253   |\n",
      "| ee_c2e  | 0     | 2253   |\n",
      "| ee_chem | 0     | 4506   |\n",
      "| ee_con  | 0     | 8430   |\n",
      "| ee_div  | 0     | 8430   |\n",
      "| ee_elec | 0     | 2253   |\n",
      "| ee_lin  | 0     | 16860  |\n",
      "| ei      | 107   | 1237   |\n",
      "| ie      | 307   | 1237   |\n",
      "| ii_c1e  | 28    | 146    |\n",
      "| ii_c2   | 14    | 73     |\n",
      "| ii_c2e  | 10    | 73     |\n",
      "| ii_chem | 44    | 146    |\n",
      "| ii_con  | 1     | 39     |\n",
      "| ii_div  | 3     | 39     |\n",
      "| ii_elec | 33    | 73     |\n",
      "| ii_lin  | 3     | 78     |\n",
      "+---------+-------+--------+\n",
      "\n"
     ]
    }
   ],
   "source": [
    "print(mydataset.motif)"
   ]
  },
  {
   "cell_type": "code",
   "execution_count": 9,
   "metadata": {},
   "outputs": [
    {
     "name": "stdout",
     "output_type": "stream",
     "text": [
      "+-------------------------------------------------+-----------------+\n",
      "| Connection type                                 | Value           |\n",
      "+-------------------------------------------------+-----------------+\n",
      "| PV-PV chemical synapses                         | 44              |\n",
      "| PV-PV electrical synapses                       | 33              |\n",
      "|                                                 |                 |\n",
      "| PV-PV bidirectional chemical                    | 14              |\n",
      "| PV-PV divergent chemical                        | 3               |\n",
      "| PV-PV convergent chemical                       | 1               |\n",
      "| PV-PV linear chemical                           | 3               |\n",
      "|                                                 |                 |\n",
      "| PV-PV one chemical with electrical              | 28              |\n",
      "| PV-PV bidirectional chemical with electrical    | 10              |\n",
      "|                                                 |                 |\n",
      "| P(PV-PV) chemical synapse                       | 0.301369863014  |\n",
      "| P(PV-PV) electrical synapse                     | 0.452054794521  |\n",
      "|                                                 |                 |\n",
      "| P(PV-PV) bidirectional chemical synapse         | 0.191780821918  |\n",
      "| P(div) divergent chemical motifs                | 0.0769230769231 |\n",
      "| P(con) convergent chemical motifs               | 0.025641025641  |\n",
      "| P(chain) linear chain motifs                    | 0.0384615384615 |\n",
      "|                                                 |                 |\n",
      "| P(PV-PV) one chemical with electrical           | 0.191780821918  |\n",
      "| P(PV-PV) bidirectional chemical with electrical | 0.13698630137   |\n",
      "|                                                 |                 |\n",
      "| PV-GC chemical synapses                         | 307             |\n",
      "| GC-PC chemical synapses                         | 107             |\n",
      "|                                                 |                 |\n",
      "| P(PV-GC) chemical synapse                       | 0.248181083266  |\n",
      "| P(GC-PC) chemical synapse                       | 0.0864995957963 |\n",
      "|                                                 |                 |\n",
      "+-------------------------------------------------+-----------------+\n"
     ]
    }
   ],
   "source": [
    "mymotifs = mydataset.motif\n",
    "info = [\n",
    "        ['Connection type', 'Value'],\n",
    "        ['PV-PV chemical synapses', mymotifs.ii_chem_found],\n",
    "        ['PV-PV electrical synapses', mymotifs.ii_elec_found],\n",
    "        [' ',' '],\n",
    "        ['PV-PV bidirectional chemical', mymotifs.ii_c2_found],\n",
    "        ['PV-PV divergent chemical', mymotifs.ii_div_found],\n",
    "        ['PV-PV convergent chemical', mymotifs.ii_con_found],\n",
    "        ['PV-PV linear chemical', mymotifs.ii_lin_found],\n",
    "        [''],\n",
    "        ['PV-PV one chemical with electrical', mymotifs.ii_c1e_found],\n",
    "        ['PV-PV bidirectional chemical with electrical', mymotifs.ii_c2e_found],\n",
    "        [' ',' '],\n",
    "        ['P(PV-PV) chemical synapse', mymotifs.ii_chem_found/mymotifs.ii_chem_tested],\n",
    "        ['P(PV-PV) electrical synapse', mymotifs.ii_elec_found/mymotifs.ii_elec_tested],\n",
    "        [''],\n",
    "        ['P(PV-PV) bidirectional chemical synapse', mymotifs.ii_c2_found/mymotifs.ii_c2_tested],\n",
    "        ['P(div) divergent chemical motifs', mymotifs.ii_div_found/mymotifs.ii_div_tested],\n",
    "        ['P(con) convergent chemical motifs', mymotifs.ii_con_found/mymotifs.ii_con_tested],  \n",
    "        ['P(chain) linear chain motifs', mymotifs.ii_lin_found/mymotifs.ii_lin_tested],\n",
    "        [' ',' '],\n",
    "        ['P(PV-PV) one chemical with electrical', mymotifs.ii_c1e_found/mymotifs.ii_c1e_tested],\n",
    "        ['P(PV-PV) bidirectional chemical with electrical', mymotifs.ii_c2e_found/mymotifs.ii_c2e_tested],\n",
    "        [' ',' '],\n",
    "        ['PV-GC chemical synapses', mymotifs.ie_found],\n",
    "        ['GC-PC chemical synapses', mymotifs.ei_found],\n",
    "        [' ',' '],\n",
    "        ['P(PV-GC) chemical synapse',mymotifs.ie_found/mymotifs.ie_tested],\n",
    "        ['P(GC-PC) chemical synapse', mymotifs.ei_found/mymotifs.ei_tested],\n",
    "        [' ',' '],\n",
    "        ]\n",
    "\n",
    "\n",
    "table = AsciiTable(info)\n",
    "print (table.table)"
   ]
  },
  {
   "cell_type": "code",
   "execution_count": null,
   "metadata": {
    "collapsed": true
   },
   "outputs": [],
   "source": []
  },
  {
   "cell_type": "code",
   "execution_count": null,
   "metadata": {
    "collapsed": true
   },
   "outputs": [],
   "source": []
  }
 ],
 "metadata": {
  "kernelspec": {
   "display_name": "Python 2",
   "language": "python",
   "name": "python2"
  },
  "language_info": {
   "codemirror_mode": {
    "name": "ipython",
    "version": 2
   },
   "file_extension": ".py",
   "mimetype": "text/x-python",
   "name": "python",
   "nbconvert_exporter": "python",
   "pygments_lexer": "ipython2",
   "version": "2.7.13"
  }
 },
 "nbformat": 4,
 "nbformat_minor": 1
}
