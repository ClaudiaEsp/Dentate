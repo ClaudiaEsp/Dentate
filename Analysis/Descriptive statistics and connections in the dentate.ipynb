{
 "cells": [
  {
   "cell_type": "markdown",
   "metadata": {},
   "source": [
    "<H1>Descriptive statistics and connections in the dentate</H1>\n",
    "<P>It is done with the DataLoader object of the inet module</P>"
   ]
  },
  {
   "cell_type": "code",
   "execution_count": 1,
   "metadata": {
    "collapsed": true
   },
   "outputs": [],
   "source": [
    "from __future__ import division\n",
    "from terminaltables import AsciiTable"
   ]
  },
  {
   "cell_type": "code",
   "execution_count": 2,
   "metadata": {
    "collapsed": false
   },
   "outputs": [
    {
     "name": "stdout",
     "output_type": "stream",
     "text": [
      "0.0.14\n"
     ]
    }
   ],
   "source": [
    "# custom module\n",
    "from inet import __version__\n",
    "print(__version__)\n",
    "from inet import DataLoader"
   ]
  },
  {
   "cell_type": "markdown",
   "metadata": {},
   "source": [
    "<H2> Descriptive statistics </H2>\n",
    "Basis statistics of the whole dataset"
   ]
  },
  {
   "cell_type": "code",
   "execution_count": 3,
   "metadata": {
    "collapsed": false
   },
   "outputs": [
    {
     "name": "stdout",
     "output_type": "stream",
     "text": [
      " 190 syn  files loaded\n"
     ]
    }
   ],
   "source": [
    "mydataset = DataLoader('../data/PV') # create an object with information of all connections"
   ]
  },
  {
   "cell_type": "code",
   "execution_count": 4,
   "metadata": {
    "collapsed": false
   },
   "outputs": [
    {
     "data": {
      "text/plain": [
       "'190 experiments'"
      ]
     },
     "execution_count": 4,
     "metadata": {},
     "output_type": "execute_result"
    }
   ],
   "source": [
    "'{} experiments'.format(len(mydataset.experiment)) # number of experiments"
   ]
  },
  {
   "cell_type": "code",
   "execution_count": 5,
   "metadata": {
    "collapsed": false
   },
   "outputs": [
    {
     "data": {
      "text/plain": [
       "'237 PV interneurons and 929 granule cells'"
      ]
     },
     "execution_count": 5,
     "metadata": {},
     "output_type": "execute_result"
    }
   ],
   "source": [
    "'{} PV interneurons and {} granule cells'.format(mydataset.nIN, mydataset.nPC) # number of PV cells and GC cells recorded"
   ]
  },
  {
   "cell_type": "code",
   "execution_count": 6,
   "metadata": {
    "collapsed": false
   },
   "outputs": [
    {
     "name": "stdout",
     "output_type": "stream",
     "text": [
      "+-----------------+----------+\n",
      "| Concept         | Quantity |\n",
      "+-----------------+----------+\n",
      "| Principal cells | 929      |\n",
      "| Interneurons    | 237      |\n",
      "|                 |          |\n",
      "| Pairs           | 4        |\n",
      "| Triplets        | 8        |\n",
      "| Quadruplets     | 12       |\n",
      "| Quintuplets     | 30       |\n",
      "| Sextuplets      | 49       |\n",
      "| Septuplets      | 54       |\n",
      "| Octuplets       | 33       |\n",
      "+-----------------+----------+\n"
     ]
    }
   ],
   "source": [
    "y = mydataset.stats()\n",
    "\n",
    "print AsciiTable(y).table "
   ]
  },
  {
   "cell_type": "markdown",
   "metadata": {
    "collapsed": false
   },
   "source": [
    "<H2>Connection probabilities and connectivity types</H2> "
   ]
  },
  {
   "cell_type": "code",
   "execution_count": 7,
   "metadata": {
    "collapsed": false
   },
   "outputs": [
    {
     "name": "stdout",
     "output_type": "stream",
     "text": [
      "+---------+-------+--------+\n",
      "| Motif   | found | tested |\n",
      "+---------+-------+--------+\n",
      "| e2i     | 33    | 2307   |\n",
      "| e3i     | 7     | 2826   |\n",
      "| ee_c1e  | 0     | 4118   |\n",
      "| ee_c2   | 0     | 2059   |\n",
      "| ee_c2e  | 0     | 2059   |\n",
      "| ee_chem | 0     | 4118   |\n",
      "| ee_con  | 0     | 7776   |\n",
      "| ee_div  | 0     | 7776   |\n",
      "| ee_elec | 0     | 2059   |\n",
      "| ee_lin  | 0     | 15552  |\n",
      "| ei      | 91    | 1079   |\n",
      "| ie      | 265   | 1079   |\n",
      "| ii_c1e  | 18    | 110    |\n",
      "| ii_c2   | 9     | 55     |\n",
      "| ii_c2e  | 6     | 55     |\n",
      "| ii_chem | 31    | 110    |\n",
      "| ii_con  | 1     | 24     |\n",
      "| ii_div  | 2     | 24     |\n",
      "| ii_elec | 24    | 55     |\n",
      "| ii_lin  | 2     | 48     |\n",
      "+---------+-------+--------+\n",
      "\n"
     ]
    }
   ],
   "source": [
    "print(mydataset.motif)"
   ]
  },
  {
   "cell_type": "code",
   "execution_count": 8,
   "metadata": {
    "collapsed": false
   },
   "outputs": [
    {
     "name": "stdout",
     "output_type": "stream",
     "text": [
      "+-------------------------------------------------+-----------------+\n",
      "| Connection type                                 | Value           |\n",
      "+-------------------------------------------------+-----------------+\n",
      "| PV-PV chemical synapses                         | 31              |\n",
      "| PV-PV electrical synapses                       | 24              |\n",
      "|                                                 |                 |\n",
      "| PV-PV bidirectional chemical                    | 9               |\n",
      "| PV-PV divergent chemical                        | 2               |\n",
      "| PV-PV convergent chemical                       | 1               |\n",
      "| PV-PV linear chemical                           | 2               |\n",
      "|                                                 |                 |\n",
      "| PV-PV one chemical with electrical              | 18              |\n",
      "| PV-PV bidirectional chemical with electrical    | 6               |\n",
      "|                                                 |                 |\n",
      "| P(PV-PV) chemical synapse                       | 0.281818181818  |\n",
      "| P(PV-PV) electrical synapse                     | 0.436363636364  |\n",
      "|                                                 |                 |\n",
      "| P(PV-PV) bidirectional chemical synapse         | 0.163636363636  |\n",
      "| P(div) divergent chemical motifs                | 0.0833333333333 |\n",
      "| P(con) convergent chemical motifs               | 0.0416666666667 |\n",
      "| P(chain) linear chain motifs                    | 0.0416666666667 |\n",
      "|                                                 |                 |\n",
      "| P(PV-PV) one chemical with electrical           | 0.163636363636  |\n",
      "| P(PV-PV) bidirectional chemical with electrical | 0.109090909091  |\n",
      "|                                                 |                 |\n",
      "| PV-GC chemical synapses                         | 265             |\n",
      "| GC-PC chemical synapses                         | 91              |\n",
      "|                                                 |                 |\n",
      "| P(PV-GC) chemical synapse                       | 0.245597775718  |\n",
      "| P(GC-PC) chemical synapse                       | 0.0843373493976 |\n",
      "|                                                 |                 |\n",
      "+-------------------------------------------------+-----------------+\n"
     ]
    }
   ],
   "source": [
    "mymotifs = mydataset.motif\n",
    "info = [\n",
    "        ['Connection type', 'Value'],\n",
    "        ['PV-PV chemical synapses', mymotifs.ii_chem_found],\n",
    "        ['PV-PV electrical synapses', mymotifs.ii_elec_found],\n",
    "        [' ',' '],\n",
    "        ['PV-PV bidirectional chemical', mymotifs.ii_c2_found],\n",
    "        ['PV-PV divergent chemical', mymotifs.ii_div_found],\n",
    "        ['PV-PV convergent chemical', mymotifs.ii_con_found],\n",
    "        ['PV-PV linear chemical', mymotifs.ii_lin_found],\n",
    "        [''],\n",
    "        ['PV-PV one chemical with electrical', mymotifs.ii_c1e_found],\n",
    "        ['PV-PV bidirectional chemical with electrical', mymotifs.ii_c2e_found],\n",
    "        [' ',' '],\n",
    "        ['P(PV-PV) chemical synapse', mymotifs.ii_chem_found/mymotifs.ii_chem_tested],\n",
    "        ['P(PV-PV) electrical synapse', mymotifs.ii_elec_found/mymotifs.ii_elec_tested],\n",
    "        [''],\n",
    "        ['P(PV-PV) bidirectional chemical synapse', mymotifs.ii_c2_found/mymotifs.ii_c2_tested],\n",
    "        ['P(div) divergent chemical motifs', mymotifs.ii_div_found/mymotifs.ii_div_tested],\n",
    "        ['P(con) convergent chemical motifs', mymotifs.ii_con_found/mymotifs.ii_con_tested],  \n",
    "        ['P(chain) linear chain motifs', mymotifs.ii_lin_found/mymotifs.ii_lin_tested],\n",
    "        [' ',' '],\n",
    "        ['P(PV-PV) one chemical with electrical', mymotifs.ii_c1e_found/mymotifs.ii_c1e_tested],\n",
    "        ['P(PV-PV) bidirectional chemical with electrical', mymotifs.ii_c2e_found/mymotifs.ii_c2e_tested],\n",
    "        [' ',' '],\n",
    "        ['PV-GC chemical synapses', mymotifs.ie_found],\n",
    "        ['GC-PC chemical synapses', mymotifs.ei_found],\n",
    "        [' ',' '],\n",
    "        ['P(PV-GC) chemical synapse',mymotifs.ie_found/mymotifs.ie_tested],\n",
    "        ['P(GC-PC) chemical synapse', mymotifs.ei_found/mymotifs.ei_tested],\n",
    "        [' ',' '],\n",
    "        ]\n",
    "\n",
    "\n",
    "table = AsciiTable(info)\n",
    "print (table.table)"
   ]
  }
 ],
 "metadata": {
  "kernelspec": {
   "display_name": "Python 2",
   "language": "python",
   "name": "python2"
  },
  "language_info": {
   "codemirror_mode": {
    "name": "ipython",
    "version": 2
   },
   "file_extension": ".py",
   "mimetype": "text/x-python",
   "name": "python",
   "nbconvert_exporter": "python",
   "pygments_lexer": "ipython2",
   "version": "2.7.12"
  }
 },
 "nbformat": 4,
 "nbformat_minor": 1
}
